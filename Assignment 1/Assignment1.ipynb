{
 "cells": [
  {
   "cell_type": "markdown",
   "metadata": {
    "colab_type": "text",
    "id": "sYnjAJ0QrOIj"
   },
   "source": [
    "## Présentation\n",
    "\n",
    "Twitter est un réseau social permettant aux utilisateurs de publier des informations et communiquer entre eux par le biais de messages, appelés tweets, pouvant contenir jusqu'à 280 caractères. Largement utilisé aujourd'hui, ce réseau peut être un outil pour des entreprises qui souhaitent évaluer l'avis de leurs clients.\n",
    "\n",
    "Dans ce TP, on se met à la place d'une compagnie aérienne, qui souhaiterait détecter les tweets qui la mentionnent et analyser si ce sont des mentions positives ou négatives, en comparant leur résultat avec les autres compagnies.\n",
    "\n",
    "Le *preprocessing* est une tâche cruciale en fouille de données. Elle permet de transformer les données brutes en un format adapté à l'application de méthodes de machine learning."
   ]
  },
  {
   "cell_type": "markdown",
   "metadata": {
    "colab_type": "text",
    "id": "__fOCwOsrOIh"
   },
   "source": [
    "# INF8111 - Fouille de données\n",
    "\n",
    "\n",
    "## TP1 Automne 2019 - Preprocessing de tweets pour de l'analyse de sentiments\n",
    "\n",
    "##### Membres de l'équipe:\n",
    "\n",
    "    - Amine Bellahsen\n",
    "    - Abderrahim Khalifa\n",
    "    - Hamza Sghir"
   ]
  },
  {
   "cell_type": "markdown",
   "metadata": {
    "colab_type": "text",
    "hide_input": true,
    "id": "_aTmeqzbrOIk"
   },
   "source": [
    "# I/ Analyse de sentiments (13 Pts)\n",
    "\n",
    "Usuellement dans la littérature, la tâche d'extraire le sentiment d'un texte est appelé *sentiment analysis*.\n",
    "Ici pour se faire, nous allons utiliser un modèle *bag-of-words* (BoW).\n",
    "\n",
    "## 1. Installation\n",
    "\n",
    "Pour ce TP, vous aurez besoin des librairies `numpy`, `sklearn` et `scipy` (que vous avez sans doute déjà), ainsi que la librairie `nltk`, qui est une libraire utilisée pour faire du traitement du language (Natural Language Processing, NLP)\n",
    "\n",
    "Installez les libraires en question et exécutez le code ci-dessous :"
   ]
  },
  {
   "cell_type": "code",
   "execution_count": 1,
   "metadata": {
    "colab": {
     "base_uri": "https://localhost:8080/",
     "height": 187
    },
    "colab_type": "code",
    "id": "vxHR1W-GrOIm",
    "outputId": "bc76bc48-f14c-4c86-fc7a-ffd6d57db834"
   },
   "outputs": [
    {
     "name": "stderr",
     "output_type": "stream",
     "text": [
      "[nltk_data] Downloading package punkt to /home/aminebe/nltk_data...\n",
      "[nltk_data]   Package punkt is already up-to-date!\n",
      "[nltk_data] Downloading package stopwords to\n",
      "[nltk_data]     /home/aminebe/nltk_data...\n",
      "[nltk_data]   Package stopwords is already up-to-date!\n",
      "[nltk_data] Downloading package averaged_perceptron_tagger to\n",
      "[nltk_data]     /home/aminebe/nltk_data...\n",
      "[nltk_data]   Package averaged_perceptron_tagger is already up-to-\n",
      "[nltk_data]       date!\n",
      "[nltk_data] Downloading package universal_tagset to\n",
      "[nltk_data]     /home/aminebe/nltk_data...\n",
      "[nltk_data]   Package universal_tagset is already up-to-date!\n",
      "[nltk_data] Downloading package words to /home/aminebe/nltk_data...\n",
      "[nltk_data]   Package words is already up-to-date!\n"
     ]
    },
    {
     "data": {
      "text/plain": [
       "True"
      ]
     },
     "execution_count": 1,
     "metadata": {},
     "output_type": "execute_result"
    }
   ],
   "source": [
    "# If you want, you can use anaconda and install after nltk library\n",
    "# !pip install --user numpy\n",
    "# !pip install --user sklearn\n",
    "# !pip install --user scipy\n",
    "# !pip install --user nltk\n",
    "\n",
    "import sys\n",
    "import nltk\n",
    "nltk.download(\"punkt\")\n",
    "nltk.download(\"stopwords\")\n",
    "nltk.download(\"averaged_perceptron_tagger\")\n",
    "nltk.download(\"universal_tagset\")\n",
    "nltk.download('words')\n"
   ]
  },
  {
   "cell_type": "markdown",
   "metadata": {
    "colab_type": "text",
    "id": "nrypK2kIrOIr"
   },
   "source": [
    "## 2. Jeu de données\n",
    "\n",
    "On utilise un jeu de donnée provenant de *Crowdflower's Data for Everyone library*: https://www.figure-eight.com/data-for-everyone/\n",
    "\n",
    "Pour citer la source originale de la base :\n",
    "\n",
    "    A sentiment analysis job about the problems of each major U.S. airline. Twitter data was scraped from February of 2015 and contributors were asked to first classify positive, negative, and neutral tweets, followed by categorizing negative reasons (such as \"late flight\" or \"rude service\").\n",
    "\n",
    "Les compagnies incluses dans cette base de données sont Virgin America, United Airline, Southwest Airlines, jetBlue, USAirways, et American Airlines.\n",
    "\n",
    "Dans le fichier zip du TP, vous trouverez le fichier *airline_tweets_database.csv*, qui est la base de données de tweets que nous allons manipuler.\n",
    "\n",
    "Chaque ligne de ce fichier contient un tweet, avec plusieurs informations : l'identifiant du tweet, l'utilisateur, le contenu, le nombre de retweet... Ainsi que le label.\n",
    "\n",
    "3 labels différents sont possibles dans ce dataset : *négatif*, *neutre* et *positif*, que l'on va représenter respectivement par 0, 1 et 2.\n",
    "\n",
    "Pour ce TP, on ne va conserver ici que le texte et le label. On divise ensuite la base de données en 3 ensembles (entrainement/validation/test). Vous utiliserez l'ensemble d'entraînement et de validation pour cette partie, et l'ensemble de test à la partie suivante.\n",
    "\n",
    "Le code ci-dessous permet de charger ces ensembles:"
   ]
  },
  {
   "cell_type": "code",
   "execution_count": 2,
   "metadata": {
    "colab": {
     "base_uri": "https://localhost:8080/",
     "height": 351
    },
    "colab_type": "code",
    "id": "_HeFVXYwrOIs",
    "outputId": "b1113be0-1cc6-4058-97c5-5c3865bbf2a4"
   },
   "outputs": [
    {
     "name": "stdout",
     "output_type": "stream",
     "text": [
      "Length of training set :  10204\n",
      "Length of validation set :  2240\n",
      "Length of test set :  2196\n"
     ]
    }
   ],
   "source": [
    "import csv\n",
    "from sklearn.model_selection import train_test_split\n",
    "\n",
    "def load_dataset(path):\n",
    "    \n",
    "    x = []\n",
    "    y = []\n",
    "\n",
    "    with open(path, 'r', newline='', encoding=\"latin-1\") as csvfile:\n",
    "        \n",
    "        reader = csv.reader(csvfile, delimiter=',')\n",
    "        \n",
    "        # Taking the header of the file + the index of useful columns:\n",
    "        header = next(reader)\n",
    "        ind_label = header.index('airline_sentiment')\n",
    "        ind_text = header.index('text')\n",
    "        \n",
    "        for row in reader:\n",
    "            x.append(row[ind_text])\n",
    "            \n",
    "            label = row[ind_label]\n",
    "            \n",
    "            if label == \"negative\":\n",
    "                y.append(0)\n",
    "            elif label == \"neutral\":\n",
    "                y.append(1)\n",
    "            elif label == \"positive\":\n",
    "                y.append(2)\n",
    "\n",
    "        assert len(x) == len(y)\n",
    "\n",
    "        return x, y\n",
    "\n",
    "\n",
    "# Path of the dataset\n",
    "path = \"data/airline_tweets_database.csv\"\n",
    "\n",
    "X, y = load_dataset(path)\n",
    "\n",
    "train_valid_X, test_X, train_valid_Y, test_Y = train_test_split(X, y, test_size=0.15, random_state=12)\n",
    "\n",
    "train_X, valid_X, train_Y, valid_Y = train_test_split(train_valid_X, train_valid_Y, test_size=0.18, random_state=12)\n",
    "\n",
    "print(\"Length of training set : \", len(train_X))\n",
    "print(\"Length of validation set : \", len(valid_X))\n",
    "print(\"Length of test set : \", len(test_X))\n"
   ]
  },
  {
   "cell_type": "markdown",
   "metadata": {
    "colab_type": "text",
    "id": "hIo0qoKsrOIu"
   },
   "source": [
    "## 3. Preprocessing\n",
    "\n",
    "Nous allons ici implémenter la *tokenization* et le *stemming*, qui sont 2 étapes courantes de preprocessing en NLP. Ensuite, afin d'avoir un modèle qui s'adapte mieux au format de Twitter, nous ajouterons une étape spécifique supplémentaire.\n",
    "\n",
    "### 3.1. Tokenization\n",
    "\n",
    "Cette étape permet de séparer un texte en séquence de *tokens* (= jetons, ici des mots, symboles ou ponctuation).\n",
    "\n",
    "Par exemple la phrase *\"It's the student's notebook.\"* peut être séparé en liste de tokens de cette manière: [\"it\", \" 's\", \"the\", \"student\", \" 's\", \"notebook\", \".\"].\n",
    "\n",
    "**De plus, tous les tokenizers ont également le rôle de mettre le texte en minuscule.**\n",
    "\n",
    "\n",
    "##### Question 1. Implémentez les 2 tokenizers différents suivants: (0.5 Pts)\n",
    "\n",
    "- Le **SpaceTokenizer**, qui est un tokenizer naïf qui sépare simplement en fonction des espaces.\n",
    "- Le **NLTKTokenizer**, qui utilise la méthode du package *nltk* (https://www.nltk.org/api/nltk.html).\n"
   ]
  },
  {
   "cell_type": "code",
   "execution_count": 465,
   "metadata": {
    "colab": {},
    "colab_type": "code",
    "id": "isf2q9y-rOIv"
   },
   "outputs": [],
   "source": [
    "from nltk.tokenize import TweetTokenizer\n",
    "\n",
    "class SpaceTokenizer(object):\n",
    "    \"\"\"\n",
    "    It tokenizes the tokens that are separated by whitespace (space, tab, newline). \n",
    "    We consider that any tokenization was applied in the text when we use this tokenizer.\n",
    "\n",
    "    For example: \"hello\\tworld of\\nNLP\" is split in ['hello', 'world', 'of', 'NLP']\n",
    "    \"\"\"\n",
    "\n",
    "    def tokenize(self, text):\n",
    "        # Have to return a list of tokens\n",
    "        tokens = text.split()\n",
    "        return tokens\n",
    "\n",
    "\n",
    "class NLTKTokenizer(object):\n",
    "    \"\"\"\n",
    "    This tokenizer uses the default function of nltk package (https://www.nltk.org/api/nltk.html) to tokenize the text.\n",
    "    \"\"\"\n",
    "\n",
    "    def tokenize(self, text):\n",
    "        # Have to return a list of tokens\n",
    "        tokens = nltk.tokenize.word_tokenize(text)\n",
    "        return tokens\n"
   ]
  },
  {
   "cell_type": "markdown",
   "metadata": {
    "colab_type": "text",
    "id": "zLzna636rOIx"
   },
   "source": [
    "#### Testez les deux tokenizers. Quelles différences pouvez-vous constater?"
   ]
  },
  {
   "cell_type": "code",
   "execution_count": 466,
   "metadata": {
    "colab": {},
    "colab_type": "code",
    "id": "uiyqzm_-rOIy",
    "outputId": "c5000912-7415-402f-9589-9a7b5dc7be55"
   },
   "outputs": [
    {
     "name": "stdout",
     "output_type": "stream",
     "text": [
      "Testing with SpaceTokenizer\n",
      "[\"It's\", 'the', \"student's\", 'notebook.']\n",
      "\n",
      "\n",
      "Testing with NLTKTokenizer\n",
      "['It', \"'s\", 'the', 'student', \"'s\", 'notebook', '.']\n"
     ]
    }
   ],
   "source": [
    "text = \"It's the student's notebook.\"\n",
    "\n",
    "print(\"Testing with SpaceTokenizer\")\n",
    "spaceTokenizer = SpaceTokenizer()\n",
    "print(spaceTokenizer.tokenize(text))\n",
    "\n",
    "print(\"\\n\")\n",
    "\n",
    "print(\"Testing with NLTKTokenizer\")\n",
    "nltkTokenizer = NLTKTokenizer()\n",
    "print(nltkTokenizer.tokenize(text))"
   ]
  },
  {
   "cell_type": "markdown",
   "metadata": {
    "colab_type": "text",
    "id": "4gzTblJzrOI1"
   },
   "source": [
    "### 3.2. Troncature (ou Stemming)\n",
    "\n",
    "Dans les phrases \"I should have bought a new shoes today\" et \"I spent too much money buying games\", les mots \"buying\" et \"bought\" représentent la même idée. Considérer ces deux mots comme différents ne ferait qu'augmenter pour rien la complexité et la dimension du problème, ce qui peut avoir un impact négatif sur la performance globale. Ainsi, on peut donc plutôt une forme unique (comme la racine du mot) pour représenter ces deux mots de la même manière. Ce procédé de conversion de mots en racines permettant de réduire la dimension est appelé usuellement *stemming*, que l'on peut traduire par troncature.\n",
    "\n",
    "\n",
    "#### Question 2. Récupérez les troncatures des tokens en utilisant l'attribut *stemmer* de la classe *Stemmer* (0.5 Pts) "
   ]
  },
  {
   "cell_type": "code",
   "execution_count": 5,
   "metadata": {
    "colab": {},
    "colab_type": "code",
    "id": "LA-VerYdrOI1"
   },
   "outputs": [],
   "source": [
    "from nltk.stem.snowball import SnowballStemmer\n",
    "\n",
    "\n",
    "class Stemmer(object):\n",
    "\n",
    "    def __init__(self):\n",
    "        self.stemmer = SnowballStemmer(\"english\", ignore_stopwords=True)\n",
    "\n",
    "    def stem(self, token):\n",
    "        \"\"\"\n",
    "        token: a string that contain a token\n",
    "        \"\"\"\n",
    "        # Have to return the stemmed token\n",
    "        return list(map(self.stemmer.stem,token))\n"
   ]
  },
  {
   "cell_type": "code",
   "execution_count": 6,
   "metadata": {
    "colab": {},
    "colab_type": "code",
    "id": "ePReMi0LrOI2",
    "outputId": "8cd7f517-bdd1-4363-9cb6-53650b71038a"
   },
   "outputs": [
    {
     "name": "stdout",
     "output_type": "stream",
     "text": [
      "['buy', 'doing']\n"
     ]
    }
   ],
   "source": [
    "stemmer = Stemmer()\n",
    "print(stemmer.stem([\"buying\", \"doing\"]))"
   ]
  },
  {
   "cell_type": "markdown",
   "metadata": {
    "colab_type": "text",
    "id": "9XtI7GcxrOI4"
   },
   "source": [
    "### 3.3. Twitter preprocessing\n",
    "\n",
    "Parfois, appliquer uniquement ces deux étapes ne suffit pas, due aux particularités des données que nous manipulons, qui peuvent demander des étapes de preprocessing spécifiques afin d'obtenir un modèle plus adapté.\n",
    "\n",
    "Couramment en NLP, un dictionnaire est utilisé pour stocker un ensemble de mots, et tous les mots n'appartenant pas au dictionnaire sont considérés comme inconnus. Ainsi, avec ce choix d'implémentation, la dimension de l'espace caractéristique du modèle est directement liée au nombre de mots du dictionnaire. Ainsi, pour des raisons de complexité mais aussi car les modèles à trop grande dimension peuvent souffrir du fléau de la dimensionnalité, il est préférable de réduire la taille de notre vocabulaire.\n",
    "\n",
    "#### Question 3. Donnez, en expliquant brièvement, au moins deux exemples d'étapes de préprocessing qui permettent de réduire la taille du dictionnaire ici, puis implémentez-les.  (2.0 points)\n",
    "\n",
    "Ces étapes de préprocessing doivent être en rapport aux charactéristiques spécifiques des données de Twitter. La suppression des mots vides ne compte pas comme une des deux étapes."
   ]
  },
  {
   "cell_type": "markdown",
   "metadata": {},
   "source": [
    "L'etape du preprocessing est une étape crutial pour le developement d'un modele assez puissant. On propose ici quelques traitements qu'on efectuera sur les tweet afin de reduire le vocabulaire et supprimer les tokens qui ne servent pas à notre problematique:\n",
    "\n",
    "- **Remplacer les URL par un token:** les url sur twitter sont tous reduit vers un lien t.co qui ne donnent pas generalement aucune idée sur le contenu du tweet. On replace tous les url dans les tweet par le token `__URL__`\n",
    "\n",
    "- **Remplacer les nombres par un token:** Un nombre ne permet pas dans un model BoW de savoir c'est quoi la nature du tweet sauf si on le met dans un context en specifiant l'unitée par exemple. On replace tous les nombre dans les tweet par le token `__NBR__`\n",
    "\n",
    "- **Remplacer les TAGs par un token:** Lorsqu'on tag quelqu'un sur un tweet cela ne serve pas beaucoup à savoir l'emotion qu'on exprime. On replace tous les TAG ( les token qui commencent par @) dans les tweet par le token `__UNAME__`\n",
    "\n",
    "- **Enlever les # des hashtags:** On va considerer les hashtags comme des mots.\n",
    "\n",
    "- **Traiter les emojis**: Il s'agit ici de classifer les emojis, au moins les plus utilisés, selon deux categories: positives et negatives. Ceci permettra d'avoir une idée sur le type d'emotion exprimé dans le tweet, en remplacant soit par `EMO_POS` qui signifie emotion positive ou `EMO_NEG` qui signifie emotion negative. le code pour ce traitement on l'a depuis ce [lien](https://github.com/abdulfatir/twitter-sentiment-analysis/blob/master/code/preprocess.py?fbclid=IwAR2D44a0pwGWAhxsUVP0Gvr9EpRqd11qAgBXyfpp796mkCJPDXRraPurfu8)."
   ]
  },
  {
   "cell_type": "code",
   "execution_count": 350,
   "metadata": {},
   "outputs": [],
   "source": [
    "import string\n",
    "import re"
   ]
  },
  {
   "cell_type": "code",
   "execution_count": 619,
   "metadata": {
    "colab": {},
    "colab_type": "code",
    "id": "5BcrvFV5rOI4"
   },
   "outputs": [],
   "source": [
    "class TwitterPreprocessing(object):\n",
    "\n",
    "    def handle_urls(self, tweet):\n",
    "        tweet = re.sub(r'(https:|http:)?\\/\\/t.co\\/[a-zA-Z0-9]+', ' __URL__ ', tweet)\n",
    "        return tweet\n",
    "    \n",
    "    def handle_numbers(self, tweet):\n",
    "        tweet = re.sub(r'\\b\\d+\\b', ' __NBR__ ', tweet)\n",
    "        return tweet\n",
    "        \n",
    "    def handle_tags(self, tweet):\n",
    "        tweet = re.sub(r'@\\S+', ' __UNAME__ ', tweet)\n",
    "        return tweet\n",
    "    \n",
    "    def handle_hashtags(self, tweet):\n",
    "        tweet = re.sub(r'#(\\S+)', r'\\1', tweet)\n",
    "        return tweet\n",
    "\n",
    "    def handle_and(self, tweet):\n",
    "        return tweet.replace(\"&amp;\", \"&\")\n",
    "    \n",
    "    def handle_emojis(self, tweet):\n",
    "        # taken from https://github.com/abdulfatir/twitter-sentiment-analysis/blob/master/code/preprocess.py\n",
    "        # Smile --\n",
    "        tweet = re.sub(r'(:-\\)|\\(-:|:\\'\\))', ' __EMO_POS__ ', tweet)\n",
    "        # Laugh -- \n",
    "        tweet = re.sub(r'(:-?D|x-?D|X-?D)', ' __EMO_POS__ ', tweet)\n",
    "        # Love -- \n",
    "        tweet = re.sub(r'(<3|:\\*)', ' __EMO_POS__ ', tweet)\n",
    "        # Wink -- \n",
    "        tweet = re.sub(r'(;-?\\)|;-?D|\\(-?;)', ' __EMO_POS__ ', tweet)\n",
    "        # Sad -- \n",
    "        tweet = re.sub(r'(:-\\(|\\)-:)', ' __EMO_NEG__ ', tweet)\n",
    "        # Sad 2 -- \n",
    "        tweet = re.sub(r'(:\\/|:-\\/)', ' __EMO_NEG__ ', tweet)\n",
    "        # Cry -- \n",
    "        tweet = re.sub(r'(:,\\(|:\\'\\(|:\"\\()', ' __EMO_NEG__ ', tweet)\n",
    "        return tweet\n",
    "\n",
    "    def preprocess(self,data):\n",
    "        \n",
    "        data=self.handle_urls(data)\n",
    "        data=self.handle_emojis(data)\n",
    "        data=self.handle_tags(data)\n",
    "        data=self.handle_hashtags(data)\n",
    "        data=self.handle_and(data)\n",
    "        # remove single letters and some repeated punctuation\n",
    "        data = re.sub(r'\\b[-\\']\\b', '', data)\n",
    "        data = re.sub(r'\\b\\w\\b', '', data)\n",
    "        data = re.sub(r'[\\?\\'\\.]{2,}', ' ', data)\n",
    "        # remove encoding chars\n",
    "        data = data.encode(\"cp1251\",\"ignore\").decode(\"utf8\")\n",
    "        return data"
   ]
  },
  {
   "cell_type": "code",
   "execution_count": 620,
   "metadata": {},
   "outputs": [
    {
     "data": {
      "text/plain": [
       "'Hello world  this is my first & tweet 2019!poke  __UNAME__   __UNAME__  LetsMakePolyGreatAgain  __EMO_POS__   __EMO_POS__   __EMO_POS__   __EMO_POS__   __EMO_NEG__   __EMO_NEG__  meet us @  __URL__   __URL__ '"
      ]
     },
     "execution_count": 620,
     "metadata": {},
     "output_type": "execute_result"
    }
   ],
   "source": [
    "# test\n",
    "text = \"Hello world \\x8f this is my first &amp; tweet 2019!poke @Hamza0, @Amine #LetsMakePolyGreatAgain :D ;) :-) :-D :-/ :/ meet us @ //t.co/kbb0B5FxMK https://t.co/gooNdg00Poly\"\n",
    "tweet_prep = TwitterPreprocessing()\n",
    "tweet_prep.preprocess(text)"
   ]
  },
  {
   "cell_type": "markdown",
   "metadata": {},
   "source": [
    "d'autres traitements peuvent être envisagés comme le traitement des ponctuations et les espaces."
   ]
  },
  {
   "cell_type": "markdown",
   "metadata": {
    "colab_type": "text",
    "id": "EYAQAXnurOI9"
   },
   "source": [
    "### 3.4.  Pipeline\n",
    "\n",
    "Une pipeline permet d'exécuter séquentiellement toutes les étapes de preprocessing, pour transformer les données brutes en une version utilisable pour notre modèle. La *PreprocessingPipeline* a été implémenter pour appliquer à la suite le tokenizer, les troncatures et le preprocessing spécifique à Twitter. \n",
    "\n",
    "**N'hésitez pas à changer l'ordre des étapes de preprocessing si vous le souhaitez.**"
   ]
  },
  {
   "cell_type": "code",
   "execution_count": 564,
   "metadata": {
    "colab": {},
    "colab_type": "code",
    "id": "i_VpoZu1rOI-"
   },
   "outputs": [],
   "source": [
    "class PreprocessingPipeline:\n",
    "\n",
    "    def __init__(self, tokenization, twitterPreprocessing, stemming):\n",
    "        \"\"\"\n",
    "        tokenization: enable or disable tokenization.\n",
    "        twitterPreprocessing: enable or disable twitter preprocessing.\n",
    "        stemming: enable or disable stemming.\n",
    "        \"\"\"\n",
    "\n",
    "        self.tokenizer = NLTKTokenizer() if tokenization else SpaceTokenizer()\n",
    "        self.twitterPreprocesser = TwitterPreprocessing(\n",
    "        ) if twitterPreprocessing else None\n",
    "        self.stemmer = Stemmer() if stemming else None\n",
    "\n",
    "    def preprocess(self, tweet):\n",
    "        \"\"\"\n",
    "        Transform the raw data\n",
    "\n",
    "        tokenization: boolean value.\n",
    "        twitterPreprocessing: boolean value. Apply the\n",
    "        stemming: boolean value.\n",
    "        \"\"\"\n",
    "        if self.twitterPreprocesser:\n",
    "            tweet_processed = self.twitterPreprocesser.preprocess(tweet)\n",
    "        else:\n",
    "            tweet_processed = tweet\n",
    "        \n",
    "        tokens = self.tokenizer.tokenize(tweet_processed)\n",
    "        if self.stemmer:\n",
    "            tokens = self.stemmer.stem(tokens)\n",
    "        return tokens\n"
   ]
  },
  {
   "cell_type": "markdown",
   "metadata": {
    "colab_type": "text",
    "id": "lQcJACXirOI_"
   },
   "source": [
    "Test de la pipeline :"
   ]
  },
  {
   "cell_type": "code",
   "execution_count": 427,
   "metadata": {
    "colab": {},
    "colab_type": "code",
    "id": "NdpVsw6trOI_",
    "outputId": "d6e4c230-aef7-45e9-c306-ebad3a6020f7"
   },
   "outputs": [
    {
     "name": "stdout",
     "output_type": "stream",
     "text": [
      "initial tweet: ['@USAirways tells me to talk to @AmericanAir about my delayed flights. AA tells me to talk to US. #ihatemergers']\n",
      "results:\n",
      "[['__uname__', 'tell', 'me', 'to', 'talk', 'to', '__uname__', 'about', 'my', 'delay', 'flight', '.', 'aa', 'tell', 'me', 'to', 'talk', 'to', 'us', '.', 'ihatemerg']]\n"
     ]
    }
   ],
   "source": [
    "print(\"initial tweet:\",train_X[:1])\n",
    "pipeline = PreprocessingPipeline(tokenization=True, twitterPreprocessing=True, stemming=True)\n",
    "print(\"results:\")\n",
    "print(list(map(pipeline.preprocess, train_X[:1])))"
   ]
  },
  {
   "cell_type": "markdown",
   "metadata": {
    "colab_type": "text",
    "id": "owxwgQwvrOJB"
   },
   "source": [
    "## 4. N-grams\n",
    "\n",
    "Un n-gram est une séquence continue de *n* tokens dans un texte. Par exemple, les séquences *\"nous a\"* et *\"la porte\"* sont deux exemples de 2-grams de la phrase *\"Il nous a dit au revoir en franchissant la porte.\"*. 1-gram, 2-gram et 3-gram sont respectivement appelés unigram, bigram et trigram. \n",
    "\n",
    "Voici la liste de tous les unigrams, bigrams et trigrams possible pour la phrase *\"Il nous a dit au revoir en franchissant la porte.\"* :\n",
    "- Unigram: ['Il', 'nous', 'a', 'dit', 'au', 'revoir', 'en', 'franchissant', 'la', 'porte']\n",
    "- Bigram: ['Il nous', 'nous a', 'a dit', 'dit au', 'au revoir', 'revoir en', 'en franchissant', 'franchissant la', 'la porte']\n",
    "- Trigram: ['Il nous a', 'nous a dit', 'a dit au', 'dit au revoir', 'au revoir en', 'revoir en franchissant', 'en franchissant la', 'franchissant la porte']\n",
    "\n",
    "\n",
    "##### Question 4. Implementez les fonctions `bigram` et `trigram`. (1 Pt)\n",
    "\n",
    "Vous devez résoudre cette question sans utiliser de libraire exterieur comme scikit-learn par exemple."
   ]
  },
  {
   "cell_type": "code",
   "execution_count": 456,
   "metadata": {
    "colab": {},
    "colab_type": "code",
    "id": "9mUkPUDDrOJB"
   },
   "outputs": [],
   "source": [
    "def bigram(tokens):\n",
    "    \"\"\"\n",
    "    tokens: a list of strings\n",
    "    \"\"\"\n",
    "    bigrams = []\n",
    "    for words in zip(tokens[:-1],tokens[1:]):\n",
    "        bigrams.append(\" \".join(words))\n",
    "    # This function returns the list of bigrams\n",
    "    return bigrams\n",
    "\n",
    "\n",
    "def trigram(tokens):\n",
    "    \"\"\"\n",
    "    tokens: a list of strings\n",
    "    \"\"\"\n",
    "    trigrams = []\n",
    "    for words in zip(tokens[:-2],tokens[1:-1], tokens[2:]):\n",
    "        trigrams.append(\" \".join(words))\n",
    "    # This function returns the list of trigrams\n",
    "    return trigrams\n"
   ]
  },
  {
   "cell_type": "code",
   "execution_count": 429,
   "metadata": {
    "colab": {
     "base_uri": "https://localhost:8080/",
     "height": 243
    },
    "colab_type": "code",
    "id": "1P2SsH5O6tsf",
    "outputId": "d7c6ea61-307c-43f8-c8ad-570c281dcfa9"
   },
   "outputs": [
    {
     "name": "stdout",
     "output_type": "stream",
     "text": [
      "Liste des bigrams :\n",
      "\n",
      "Bigrams = ['He does', 'does not', 'not know', 'know what', 'what he', 'he is', 'is talking', 'talking about']\n",
      "\n",
      "\n",
      "Liste des trigrams :\n",
      "\n",
      "Trigrams =  ['He does not', 'does not know', 'not know what', 'know what he', 'what he is', 'he is talking', 'is talking about']\n"
     ]
    }
   ],
   "source": [
    "text = \"He does not know what he is talking about\"\n",
    "nltktokenizer = NLTKTokenizer()\n",
    "tokens = nltktokenizer.tokenize(text)\n",
    "print('Liste des bigrams :'+\"\\n\")\n",
    "print('Bigrams =', bigram(tokens))\n",
    "print('\\n')\n",
    "print('Liste des trigrams :'+\"\\n\")\n",
    "print('Trigrams = ', trigram(tokens))"
   ]
  },
  {
   "cell_type": "markdown",
   "metadata": {
    "colab_type": "text",
    "id": "eFrahHhyrOJC"
   },
   "source": [
    "## 5. Bag-of-words\n",
    "\n",
    "Régressions logistiques, SVM et d'autres modèles très courants demande des entrées qui soient toutes de la même taille, ce qui n'est forcément le cas pour des types de données comme les textes, qui peuvent avoir un nombre variable de mots.  \n",
    "\n",
    "Par exemple, considérons la phrase 1, ”Board games are much better than video games” et la phrase 2, ”Pandemic is an awesome game!”. La table ci-dessous montre un exemple d'un moyen de représentation de ces deux phrases en utilisant une représentation fixe : "
   ]
  },
  {
   "cell_type": "markdown",
   "metadata": {
    "colab_type": "text",
    "id": "zHwrrlxirOJD"
   },
   "source": [
    "|<i></i>     | an | are | ! | pandemic | awesome | better | games | than | video | much | board | is | game |\n",
    "|------------|----|-----|---|----------|---------|--------|-------|------|-------|------|-------|----|------|\n",
    "| Sentence 1 | 0  | 1   | 0 | 0        | 0       | 1      | 2     | 1    | 1     | 1    | 1     | 0  | 0    |\n",
    "| Sentence 2 | 1  | 0   | 0 | 1        | 1       | 0      | 0     | 0    | 0     | 0    | 0     | 1  | 1    |\n"
   ]
  },
  {
   "cell_type": "markdown",
   "metadata": {
    "colab_type": "text",
    "id": "rhNJHAkSrOJD"
   },
   "source": [
    "Chaque colonne représente un mot du vocabulaire (de longueur 13), tandis que chaque ligne contient l'occurence des mots dans une phrase. Ainsi, la valeur 2 à la position (1,7) est due au fait que le mot *\"games\"* apparait deux fois dans la phrase 1. \n",
    "\n",
    "Ainsi, chaque ligne étant de longueur 13, on peut les utiliser comme vecteur pour représenter les phrases 1 et 2. Ainsi, c'est cette méthode que l'on appelle *Bag-of-Words* : c'est une représentation de documents par des vecteurs dont la dimension est égale à la taille du vocabulaire, et qui est construit en comptant le nombre d'occurence de chaque mot. Ainsi, chaque token est ici associé à une dimension.\n",
    "\n",
    "\n",
    "##### Question 5. Implémentez le Bag-of-Words (2 Pts)\n",
    "\n",
    "Pour cette question, vous ne pouvez pas utiliser de librairie Python externe comme scikit-learn, hormis si vous avez des problèmes de mémoire, vous pouvez utiliser la classe sparse.csr_matrix de scipy (https://docs.scipy.org/doc/scipy/reference/generated/scipy.sparse.csc_matrix.html)."
   ]
  },
  {
   "cell_type": "code",
   "execution_count": 430,
   "metadata": {
    "colab": {},
    "colab_type": "code",
    "id": "1RJ1hNzmrOJE"
   },
   "outputs": [],
   "source": [
    "# no need for the csr_matrix if we use an np.int8 type \n",
    "# (we suppose the tweet are not too long and cannot contain the same token more than 256 times)\n",
    "from scipy.sparse import csr_matrix\n",
    "import numpy as np\n",
    "\n",
    "class CountBoW(object):\n",
    "\n",
    "    def __init__(self, pipeline, bigram=False, trigram=False):\n",
    "        \"\"\"\n",
    "        pipelineObj: instance of PreprocesingPipeline\n",
    "        bigram: enable or disable bigram\n",
    "        trigram: enable or disable trigram\n",
    "        words: list of words in the vocabulary\n",
    "        \"\"\"\n",
    "        self.pipeline = pipeline\n",
    "        self.bigram = bigram\n",
    "        self.trigram = trigram\n",
    "        self.words = None\n",
    "\n",
    "        \n",
    "    def computeBoW(self, tokens):\n",
    "        \"\"\"\n",
    "        Calcule du BoW, à partir d'un dictionnaire de mots et d'une liste de tweets.\n",
    "        On suppose que l'on a déjà collecté le dictionnaire sur l'ensemble d'entraînement.\n",
    "        \n",
    "        Entrée: tokens, une liste de vecteurs contenant les tweets (une liste de liste)\n",
    "        \n",
    "        Return: une csr_matrix\n",
    "        \"\"\"\n",
    "        \n",
    "        \n",
    "        if self.words is None:\n",
    "            raise Exception(\n",
    "                \"fit_transform() should be called first (no dictionnary available)\"\n",
    "            )\n",
    "        \n",
    "        word_to_idx = {word:idx for idx,word in enumerate(self.words)}\n",
    "        \n",
    "        bag_matrix = np.zeros((len(tokens), len(self.words)),dtype=np.int8)\n",
    "        \n",
    "        for tweet_idx,tweet_tokens in enumerate(tokens):\n",
    "            all_tokens = tweet_tokens.copy()\n",
    "            if self.bigram == True :\n",
    "                all_tokens+=bigram(tweet_tokens)\n",
    "            if self.trigram == True :\n",
    "                all_tokens+=trigram(tweet_tokens)\n",
    "                \n",
    "            for token in all_tokens:\n",
    "                word_idx = word_to_idx.get(token, -1)\n",
    "                if word_idx>=0:\n",
    "                    bag_matrix[tweet_idx,word_to_idx[token]] += 1\n",
    "        \n",
    "        return bag_matrix\n",
    "        \n",
    "\n",
    "    def fit_transform(self, X):\n",
    "        \"\"\"\n",
    "        Cette méthode preprocess les données en utilisant la pipeline, ajoute les bigram et trigram \n",
    "        si besoin, et transforme les textes en vecteurs d'entiers.\n",
    "        \n",
    "        Entrée: X, une liste de vecteurs contenant les tweets\n",
    "        \n",
    "        Return: une csr_matrix\n",
    "        \"\"\"\n",
    "        \n",
    "        toknized_tweets = list(map(self.pipeline.preprocess, X))\n",
    "        words_dictionnary = set()\n",
    "        for tweet in toknized_tweets:\n",
    "            for token in tweet:\n",
    "                words_dictionnary.add(token)\n",
    "            if self.bigram == True :\n",
    "                for token in bigram(tweet):\n",
    "                    words_dictionnary.add(token)\n",
    "            if self.trigram == True :\n",
    "                for token in trigram(tweet):\n",
    "                    words_dictionnary.add(token)\n",
    "                    \n",
    "        self.words = list(words_dictionnary)\n",
    "        \n",
    "        return self.computeBoW(toknized_tweets)\n",
    "        \n",
    "    \n",
    "    def transform(self, X):\n",
    "        \"\"\"\n",
    "        Cette méthode preprocess les données en utilisant la pipeline, ajoute les bigram et trigram \n",
    "        si besoin, et transforme les textes en vecteurs d'entiers.\n",
    "        Différence avec fit_transform : on suppose qu'on dispose déjà du dictionnaire ici\n",
    "\n",
    "        Entrée: X, une liste de vecteurs contenant les tweets\n",
    "        Return: une csr_matrix\n",
    "        \"\"\"\n",
    "        \n",
    "        if self.words is None:\n",
    "            raise Exception(\n",
    "                \"fit_transform() should be called first (no dictionnary available)\"\n",
    "            )\n",
    "\n",
    "        toknized_tweets = list(map(self.pipeline.preprocess, X))\n",
    "        return self.computeBoW(toknized_tweets)\n",
    "            \n",
    "        \n"
   ]
  },
  {
   "cell_type": "code",
   "execution_count": 431,
   "metadata": {},
   "outputs": [
    {
     "data": {
      "text/plain": [
       "array([[0, 4, 0, 1, 0, 0, 0, 1, 1, 0, 0, 0, 0, 0, 0, 2, 0, 1, 1, 1, 0, 0,\n",
       "        0, 1, 0, 0, 0, 1, 1, 1, 0, 2, 1, 0, 1, 0, 2, 0, 0, 0, 0, 0, 2, 0,\n",
       "        0, 1, 0, 1, 0, 0, 0, 0, 0, 1, 1, 0, 1, 0, 0, 0, 2, 2, 0, 1, 0, 0,\n",
       "        0, 0, 1, 1, 2, 1, 1, 0, 1, 1, 0, 1, 2, 1, 0, 1, 0, 0, 1, 0, 2, 0,\n",
       "        0, 0, 0, 0, 1, 0, 1, 0, 1, 0, 0, 0, 0, 0, 2, 0, 2, 0, 0, 0, 0, 0,\n",
       "        0, 1, 0, 0, 0, 0, 2, 0, 0, 0, 0, 0],\n",
       "       [1, 0, 1, 0, 1, 1, 1, 0, 0, 1, 1, 1, 2, 1, 1, 0, 1, 0, 0, 0, 1, 1,\n",
       "        1, 0, 1, 1, 1, 0, 0, 0, 1, 0, 0, 1, 0, 1, 1, 1, 1, 1, 1, 1, 0, 1,\n",
       "        1, 0, 1, 0, 1, 1, 1, 1, 1, 0, 0, 1, 0, 1, 1, 1, 0, 0, 1, 0, 1, 1,\n",
       "        1, 1, 0, 0, 0, 0, 0, 1, 0, 0, 1, 0, 0, 0, 1, 0, 1, 1, 0, 1, 0, 1,\n",
       "        1, 2, 1, 1, 0, 1, 0, 1, 0, 1, 1, 1, 1, 1, 1, 1, 0, 1, 1, 1, 1, 1,\n",
       "        1, 0, 1, 1, 1, 1, 0, 1, 1, 1, 1, 1]], dtype=int8)"
      ]
     },
     "execution_count": 431,
     "metadata": {},
     "output_type": "execute_result"
    }
   ],
   "source": [
    "pipeline = PreprocessingPipeline(tokenization=True, twitterPreprocessing=True, stemming=True)\n",
    "bow_test=CountBoW(pipeline, bigram=True, trigram=True)\n",
    "bow_test.fit_transform(train_X[:2])"
   ]
  },
  {
   "cell_type": "code",
   "execution_count": 432,
   "metadata": {},
   "outputs": [
    {
     "data": {
      "text/plain": [
       "array([[0, 0, 0, 1, 0, 0, 0, 0, 0, 0, 0, 0, 0, 0, 0, 0, 0, 0, 0, 0, 0, 0,\n",
       "        0, 0, 0, 0, 0, 0, 0, 0, 0, 0, 0, 0, 0, 0, 1, 0, 0, 0, 0, 0, 0, 0,\n",
       "        0, 0, 0, 0, 0, 0, 0, 0, 0, 1, 0, 1, 1, 0, 0, 0, 0, 0, 0, 0, 0, 0,\n",
       "        0, 0, 0, 0, 0, 0, 0, 0, 0, 0, 0, 0, 0, 0, 0, 0, 0, 0, 0, 0, 1, 0,\n",
       "        0, 0, 0, 0, 0, 0, 0, 0, 0, 0, 0, 0, 0, 0, 1, 0, 0, 0, 0, 0, 0, 0,\n",
       "        0, 0, 0, 0, 0, 0, 0, 0, 0, 0, 0, 0],\n",
       "       [0, 3, 2, 1, 0, 0, 0, 0, 0, 0, 0, 0, 0, 0, 0, 0, 0, 0, 0, 0, 0, 0,\n",
       "        0, 0, 0, 0, 0, 0, 0, 0, 0, 0, 0, 0, 0, 0, 1, 0, 0, 0, 0, 0, 0, 0,\n",
       "        0, 0, 0, 0, 0, 0, 0, 0, 0, 0, 0, 0, 0, 0, 0, 0, 0, 0, 0, 0, 0, 0,\n",
       "        0, 0, 0, 0, 0, 0, 0, 0, 0, 0, 0, 0, 0, 0, 0, 0, 0, 0, 0, 0, 1, 0,\n",
       "        0, 0, 0, 0, 0, 0, 0, 0, 0, 0, 0, 0, 0, 0, 0, 0, 0, 0, 0, 0, 0, 0,\n",
       "        0, 0, 0, 0, 0, 0, 0, 0, 0, 0, 0, 0]], dtype=int8)"
      ]
     },
     "execution_count": 432,
     "metadata": {},
     "output_type": "execute_result"
    }
   ],
   "source": [
    "list_list= bow_test.transform(train_X[3:5])\n",
    "list_list"
   ]
  },
  {
   "cell_type": "markdown",
   "metadata": {
    "colab_type": "text",
    "id": "cJ6Q1w7QrOJG"
   },
   "source": [
    "## 6. TF-IDF\n",
    "\n",
    "L'utilisation de la fréquence d'apparition brute des mots, comme c'est le cas avec le bag-of-words, peut être problématique. En effet, peu de tokens auront une fréquence très élevée dans un document, et de ce fait, le poids de ces mots sera beaucoup plus grand que les autres, ce qui aura tendance à biaiser l'ensemble des poids. De plus, les mots qui apparaissent dans la plupart des documents n'aident pas à les discriminer. Par exemple, le mot \"*de*\" apparaît dans beaucoup de tweets de la base de données, et pour autant, avoir ce mot en commun ne permet pas de conclure que des tweets sont similaires. Au contraire, le mot \"*génial*\" est plus rare, mais les documents qui contiennent ce mot sont plus susceptibles d'être positif. TF-IDF est donc une méthode qui permet de pallier à ce problème.\n",
    "\n",
    "TF-IDF pondère le vecteur en utilisant une fréquence de document inverse (IDF) et une fréquence de termes (TF).\n",
    "\n",
    "TF est l'information locale sur l'importance qu'a un mot dans un document donné, tandis que IDF mesure la capacité de discrimination des mots dans un jeu de données. \n",
    "\n",
    "L'IDF d'un mot se calcule de la façon suivante:\n",
    "\n",
    "\\begin{equation}\n",
    "\t\\text{idf}_i = \\log\\left( \\frac{N}{\\text{df}_i} \\right),\n",
    "\\end{equation}\n",
    "\n",
    "avec $N$ le nombre de documents dans la base de donnée, et $\\text{df}_i$ le nombre de documents qui contiennent le mot $i$.\n",
    "\n",
    "Le nouveau poids $w_{ij}$ d'un mot $i$ dans un document $j$ peut ensuite être calculé de la façon suivante:\n",
    "\n",
    "\\begin{equation}\n",
    "\tw_{ij} = \\text{tf}_{ij} \\times \\text{idf}_i,\n",
    "\\end{equation}\n",
    "\n",
    "avec $\\text{tf}_{ij}$ la fréquence du mot $i$ dans le document $j$.\n",
    "\n",
    "\n",
    "\n",
    "\n",
    "##### Question 6. Implémentez le bag-of-words avec la pondération de TF-IDF (3 Pts)\n",
    "\n",
    "Pour cette question, vous ne pouvez pas utiliser de librairie Python externe comme scikit-learn, hormis si vous avez des problèmes de mémoire, vous pouvez utiliser la classe sparse.csr_matrix de scipy (https://docs.scipy.org/doc/scipy/reference/generated/scipy.sparse.csc_matrix.html)."
   ]
  },
  {
   "cell_type": "code",
   "execution_count": 433,
   "metadata": {
    "colab": {},
    "colab_type": "code",
    "id": "UpLUHnNfrOJG"
   },
   "outputs": [],
   "source": [
    "from scipy.sparse import csr_matrix\n",
    "import math\n",
    "\n",
    "\n",
    "class TFIDFBoW(object):\n",
    "\n",
    "    def __init__(self, pipeline, bigram=False, trigram=False):\n",
    "        \"\"\"\n",
    "        pipelineObj: instance of PreprocesingPipeline\n",
    "        bigram: enable or disable bigram\n",
    "        trigram: enable or disable trigram\n",
    "        words: list of words in the vocabulary\n",
    "        idf: list of idfs for each document\n",
    "        \"\"\"\n",
    "        self.pipeline = pipeline\n",
    "        self.bigram = bigram\n",
    "        self.trigram = trigram\n",
    "        self.words = None\n",
    "        self.idf = None\n",
    "    \n",
    "    def computeTFIDF(self, tokens):\n",
    "        \"\"\"\n",
    "        Calcule du TF-IDF, à partir d'un dictionnaire de mots et d'une \n",
    "        liste de tweets.\n",
    "        On suppose que l'on a déjà collecté le dictionnaire ainsi que \n",
    "        calculé le vecteur contenant l'idf pour chaque document.\n",
    "        \n",
    "        Entrée: tokens, une liste de vecteurs contenant les tweets (une liste de liste)\n",
    "        \n",
    "        Return: une csr_matrix\n",
    "        \"\"\"\n",
    "        \n",
    "        if self.words is None:\n",
    "            raise Exception(\n",
    "                \"fit_transform() should be called first (no dictionnary available)\"\n",
    "            )\n",
    "            \n",
    "        word_to_idx = {word:idx for idx,word in enumerate(self.words)}\n",
    "        \n",
    "        tf = np.zeros((len(tokens), len(self.words)),dtype=np.int8)\n",
    "        \n",
    "        for tweet_idx,tweet_tokens in enumerate(tokens):\n",
    "            all_tokens = tweet_tokens.copy()\n",
    "            if self.bigram == True :\n",
    "                all_tokens+=bigram(tweet_tokens)\n",
    "            if self.bigram == True :\n",
    "                all_tokens+=trigram(tweet_tokens)\n",
    "                \n",
    "            for token in all_tokens:\n",
    "                word_idx = word_to_idx.get(token, -1)\n",
    "                if word_idx>=0:\n",
    "                    tf[tweet_idx,word_to_idx[token]] += 1\n",
    "\n",
    "        # puisque ce n'est pas specifié on utilise le np.log\n",
    "        if self.idf is None:\n",
    "            self.idf = np.log(tf.shape[0] / (tf!=0).sum(axis=0))\n",
    "        \n",
    "        return np.multiply(tf, self.idf)\n",
    "\n",
    "\n",
    "    def fit_transform(self, X):\n",
    "        \"\"\"\n",
    "        Cette méthode preprocess les données en utilisant la pipeline, ajoute les bigram et trigram \n",
    "        si besoin, et transforme les textes en vecteurs de flottants avec la pondération TF-IDF.\n",
    "        \n",
    "        Entrée : X, une liste de vecteurs contenant les tweets\n",
    "        \n",
    "        Return: une csr_matrix\n",
    "        \"\"\"\n",
    "        toknized_tweets = list(map(self.pipeline.preprocess, X))\n",
    "        words_dictionnary = set()\n",
    "        for tweet in toknized_tweets:\n",
    "            for token in tweet:\n",
    "                words_dictionnary.add(token)\n",
    "            if self.bigram == True :\n",
    "                for token in bigram(tweet):\n",
    "                    words_dictionnary.add(token)\n",
    "            if self.trigram == True :\n",
    "                for token in trigram(tweet):\n",
    "                    words_dictionnary.add(token)\n",
    "                    \n",
    "        self.words = list(words_dictionnary)\n",
    "        return self.computeTFIDF(toknized_tweets)\n",
    "    \n",
    "    def transform(self, X):\n",
    "        \"\"\"\n",
    "        Cette méthode preprocess les données en utilisant la pipeline, ajoute les bigram et trigram \n",
    "        si besoin, et transforme les textes en vecteurs de flottants avec la pondération TF-IDF.\n",
    "        Différence avec fit_transform : on suppose qu'on dispose déjà du dictionnaire et du calcul des idf ici.\n",
    "            \n",
    "        Entrée : X, une liste de vecteurs contenant les tweets\n",
    "        \n",
    "        Return: une csr_matrix\n",
    "        \"\"\"\n",
    "\n",
    "        if self.words is None:\n",
    "            raise Exception(\n",
    "                \"fit_transform() should be called first (no dictionnary available)\"\n",
    "            )\n",
    "\n",
    "        toknized_tweets = list(map(self.pipeline.preprocess, X))\n",
    "        return self.computeTFIDF(toknized_tweets)\n",
    "    "
   ]
  },
  {
   "cell_type": "code",
   "execution_count": 434,
   "metadata": {},
   "outputs": [
    {
     "data": {
      "text/plain": [
       "array([[0.        , 0.        , 0.        , 1.38629436, 2.77258872,\n",
       "        0.69314718, 0.        , 0.        , 0.        , 0.        ,\n",
       "        0.        , 0.        , 0.        , 0.69314718, 0.        ,\n",
       "        0.        , 0.69314718, 0.        , 0.        , 1.38629436,\n",
       "        0.        , 0.        , 0.69314718, 0.        , 0.69314718,\n",
       "        0.        , 1.38629436, 0.        , 0.        , 0.        ,\n",
       "        0.        , 0.        , 0.69314718, 0.        , 0.        ,\n",
       "        0.        , 0.69314718],\n",
       "       [0.69314718, 0.69314718, 0.69314718, 0.        , 0.        ,\n",
       "        0.        , 0.69314718, 0.69314718, 0.        , 0.        ,\n",
       "        0.69314718, 0.69314718, 0.69314718, 0.        , 0.69314718,\n",
       "        0.69314718, 0.        , 0.69314718, 0.69314718, 0.        ,\n",
       "        1.38629436, 0.69314718, 0.        , 0.69314718, 0.        ,\n",
       "        0.69314718, 0.        , 0.69314718, 0.69314718, 1.38629436,\n",
       "        0.69314718, 0.69314718, 0.        , 0.69314718, 0.69314718,\n",
       "        0.69314718, 0.        ]])"
      ]
     },
     "execution_count": 434,
     "metadata": {},
     "output_type": "execute_result"
    }
   ],
   "source": [
    "pipeline = PreprocessingPipeline(tokenization=True, twitterPreprocessing=True, stemming=True)\n",
    "tfidf_test=TFIDFBoW(pipeline, bigram=False, trigram=False)\n",
    "tfidf_test.fit_transform(train_X[:2])"
   ]
  },
  {
   "cell_type": "code",
   "execution_count": 435,
   "metadata": {},
   "outputs": [
    {
     "data": {
      "text/plain": [
       "array([[0.        , 0.        , 0.        , 0.        , 0.        ,\n",
       "        0.        , 0.        , 0.        , 0.        , 0.        ,\n",
       "        0.        , 0.        , 0.        , 0.69314718, 0.        ,\n",
       "        0.        , 0.        , 0.        , 0.        , 0.        ,\n",
       "        0.        , 0.        , 0.        , 0.        , 0.        ,\n",
       "        0.        , 0.69314718, 0.        , 0.        , 0.        ,\n",
       "        0.        , 0.        , 0.        , 0.        , 0.        ,\n",
       "        0.69314718, 0.69314718],\n",
       "       [0.        , 0.        , 0.        , 0.        , 2.07944154,\n",
       "        0.        , 0.        , 0.        , 0.        , 0.        ,\n",
       "        1.38629436, 0.        , 0.        , 0.69314718, 0.        ,\n",
       "        0.        , 0.        , 0.        , 0.        , 0.        ,\n",
       "        0.        , 0.        , 0.        , 0.        , 0.        ,\n",
       "        0.        , 0.69314718, 0.        , 0.        , 0.        ,\n",
       "        0.        , 0.        , 0.        , 0.        , 0.        ,\n",
       "        0.        , 0.        ]])"
      ]
     },
     "execution_count": 435,
     "metadata": {},
     "output_type": "execute_result"
    }
   ],
   "source": [
    "list_list= tfidf_test.transform(train_X[3:5])\n",
    "list_list"
   ]
  },
  {
   "cell_type": "markdown",
   "metadata": {
    "colab_type": "text",
    "id": "5H4i5WVgrOJH"
   },
   "source": [
    "## 7. Classification utilisant BoW\n",
    "\n",
    "Pour la classification, nous allons effectuer une régression logisitique (vu en cours ou que vous allez voir bientôt). \n",
    "Pour en savoir plus : https://scikit-learn.org/stable/modules/generated/sklearn.linear_model.LogisticRegression.html\n",
    "\n",
    "La méthode `train_evaluate` entraîne et évalue le modèle de régression logistique.\n"
   ]
  },
  {
   "cell_type": "code",
   "execution_count": 436,
   "metadata": {
    "colab": {},
    "colab_type": "code",
    "id": "9m75bNWUrOJH"
   },
   "outputs": [],
   "source": [
    "import numpy as np\n",
    "from sklearn.metrics import accuracy_score\n",
    "from sklearn.linear_model import LogisticRegression\n",
    "\n",
    "\n",
    "def train_evaluate(training_X, training_Y, validation_X, validation_Y, bowObj):\n",
    "    \"\"\"\n",
    "    training_X: tweets from the training dataset\n",
    "    training_Y: tweet labels from the training dataset\n",
    "    validation_X: tweets from the validation dataset\n",
    "    validation_Y: tweet labels from the validation dataset\n",
    "    bowObj: Bag-of-word object\n",
    "    \n",
    "    :return: the classifier and its accuracy in the training and validation dataset.\n",
    "    \"\"\"\n",
    "\n",
    "    classifier = LogisticRegression(n_jobs=-1)\n",
    "\n",
    "    training_rep = bowObj.fit_transform(training_X)\n",
    "    print(\"- Taille du dictionnaire:\",len(bowObj.words))\n",
    "    classifier.fit(training_rep, training_Y)\n",
    "\n",
    "    trainAcc = accuracy_score(training_Y, classifier.predict(training_rep))\n",
    "    validationAcc = accuracy_score(\n",
    "        validation_Y, classifier.predict(bowObj.transform(validation_X)))\n",
    "    \n",
    "    print(f\"- Training accuracy: {trainAcc:.5f}\")\n",
    "    print(f\"- Validation accuracy: {validationAcc:.5f}\")\n",
    "    return classifier, trainAcc, validationAcc\n"
   ]
  },
  {
   "cell_type": "markdown",
   "metadata": {
    "colab_type": "text",
    "id": "04xysHWUrOJI"
   },
   "source": [
    "\n",
    "##### Question 7. Entraînez et calculez la précision de la régression logistique sur les ensembles d'entraînement et de validation. (4 points)\n",
    "\n",
    "Essayez les configurations suivantes :\n",
    "\n",
    "    1. CountBoW + SpaceTokenizer(without tokenizer) + unigram \n",
    "    2. CountBoW + NLTKTokenizer + unigram\n",
    "    3. TFIDFBoW + NLTKTokenizer + Stemming + unigram\n",
    "    4. TFIDFBoW + NLTKTokenizer + Twitter preprocessing + Stemming  + unigram\n",
    "    5. TFIDFBoW + NLTKTokenizer + Twitter preprocessing + Stemming  + unigram + bigram\n",
    "    6. TFIDFBoW + NLTKTokenizer + Twitter preprocessing + Stemming  + unigram + bigram + trigram\n",
    "\n",
    "Outre la précision, reportez la taille du dictionnaire pour chacune des configurations. Enfin, décrivez vos résultats obtenus et répondez aux questions suivantes:\n",
    "- Quelles étapes de preprocessing ont effectivement aidé le modèle ? Pourquoi ?\n",
    "- La pondération avec TF-IDF a-t-elle aidé à obtenir une meilleure performance que le simple BoW ?\n",
    "- Les bigrams et trigrams ont-ils amélioré la performance ? Expliquez pourquoi.\n",
    "\n",
    "Indiquez quelle est la configuration que vous choisissez."
   ]
  },
  {
   "cell_type": "code",
   "execution_count": 467,
   "metadata": {
    "colab": {},
    "colab_type": "code",
    "id": "wNJLDQanrOJI",
    "scrolled": true
   },
   "outputs": [
    {
     "name": "stdout",
     "output_type": "stream",
     "text": [
      "[+] Running configuration 1...\n",
      "- Taille du dictionnaire: 23071\n"
     ]
    },
    {
     "name": "stderr",
     "output_type": "stream",
     "text": [
      "//anaconda3/lib/python3.7/site-packages/sklearn/linear_model/logistic.py:432: FutureWarning: Default solver will be changed to 'lbfgs' in 0.22. Specify a solver to silence this warning.\n",
      "  FutureWarning)\n",
      "//anaconda3/lib/python3.7/site-packages/sklearn/linear_model/logistic.py:469: FutureWarning: Default multi_class will be changed to 'auto' in 0.22. Specify the multi_class option to silence this warning.\n",
      "  \"this warning.\", FutureWarning)\n",
      "//anaconda3/lib/python3.7/site-packages/sklearn/linear_model/logistic.py:1544: UserWarning: 'n_jobs' > 1 does not have any effect when 'solver' is set to 'liblinear'. Got 'n_jobs' = 4.\n",
      "  \" = {}.\".format(effective_n_jobs(self.n_jobs)))\n"
     ]
    },
    {
     "name": "stdout",
     "output_type": "stream",
     "text": [
      "- Training accuracy: 0.96139\n",
      "- Validation accuracy: 0.93161\n",
      "[+] Running configuration 2...\n",
      "- Taille du dictionnaire: 15540\n"
     ]
    },
    {
     "name": "stderr",
     "output_type": "stream",
     "text": [
      "//anaconda3/lib/python3.7/site-packages/sklearn/linear_model/logistic.py:432: FutureWarning: Default solver will be changed to 'lbfgs' in 0.22. Specify a solver to silence this warning.\n",
      "  FutureWarning)\n",
      "//anaconda3/lib/python3.7/site-packages/sklearn/linear_model/logistic.py:469: FutureWarning: Default multi_class will be changed to 'auto' in 0.22. Specify the multi_class option to silence this warning.\n",
      "  \"this warning.\", FutureWarning)\n",
      "//anaconda3/lib/python3.7/site-packages/sklearn/linear_model/logistic.py:1544: UserWarning: 'n_jobs' > 1 does not have any effect when 'solver' is set to 'liblinear'. Got 'n_jobs' = 4.\n",
      "  \" = {}.\".format(effective_n_jobs(self.n_jobs)))\n"
     ]
    },
    {
     "name": "stdout",
     "output_type": "stream",
     "text": [
      "- Training accuracy: 0.94277\n",
      "- Validation accuracy: 0.91763\n",
      "[+] Running configuration 3...\n",
      "- Taille du dictionnaire: 11064\n"
     ]
    },
    {
     "name": "stderr",
     "output_type": "stream",
     "text": [
      "//anaconda3/lib/python3.7/site-packages/sklearn/linear_model/logistic.py:432: FutureWarning: Default solver will be changed to 'lbfgs' in 0.22. Specify a solver to silence this warning.\n",
      "  FutureWarning)\n",
      "//anaconda3/lib/python3.7/site-packages/sklearn/linear_model/logistic.py:469: FutureWarning: Default multi_class will be changed to 'auto' in 0.22. Specify the multi_class option to silence this warning.\n",
      "  \"this warning.\", FutureWarning)\n",
      "//anaconda3/lib/python3.7/site-packages/sklearn/linear_model/logistic.py:1544: UserWarning: 'n_jobs' > 1 does not have any effect when 'solver' is set to 'liblinear'. Got 'n_jobs' = 4.\n",
      "  \" = {}.\".format(effective_n_jobs(self.n_jobs)))\n"
     ]
    },
    {
     "name": "stdout",
     "output_type": "stream",
     "text": [
      "- Training accuracy: 0.98844\n",
      "- Validation accuracy: 0.94873\n",
      "[+] Running configuration 4...\n",
      "- Taille du dictionnaire: 9282\n"
     ]
    },
    {
     "name": "stderr",
     "output_type": "stream",
     "text": [
      "//anaconda3/lib/python3.7/site-packages/sklearn/linear_model/logistic.py:432: FutureWarning: Default solver will be changed to 'lbfgs' in 0.22. Specify a solver to silence this warning.\n",
      "  FutureWarning)\n",
      "//anaconda3/lib/python3.7/site-packages/sklearn/linear_model/logistic.py:469: FutureWarning: Default multi_class will be changed to 'auto' in 0.22. Specify the multi_class option to silence this warning.\n",
      "  \"this warning.\", FutureWarning)\n",
      "//anaconda3/lib/python3.7/site-packages/sklearn/linear_model/logistic.py:1544: UserWarning: 'n_jobs' > 1 does not have any effect when 'solver' is set to 'liblinear'. Got 'n_jobs' = 4.\n",
      "  \" = {}.\".format(effective_n_jobs(self.n_jobs)))\n"
     ]
    },
    {
     "name": "stdout",
     "output_type": "stream",
     "text": [
      "- Training accuracy: 0.98256\n",
      "- Validation accuracy: 0.94511\n",
      "[+] Running configuration 5...\n",
      "- Taille du dictionnaire: 79244\n"
     ]
    },
    {
     "name": "stderr",
     "output_type": "stream",
     "text": [
      "//anaconda3/lib/python3.7/site-packages/sklearn/linear_model/logistic.py:432: FutureWarning: Default solver will be changed to 'lbfgs' in 0.22. Specify a solver to silence this warning.\n",
      "  FutureWarning)\n",
      "//anaconda3/lib/python3.7/site-packages/sklearn/linear_model/logistic.py:469: FutureWarning: Default multi_class will be changed to 'auto' in 0.22. Specify the multi_class option to silence this warning.\n",
      "  \"this warning.\", FutureWarning)\n",
      "//anaconda3/lib/python3.7/site-packages/sklearn/linear_model/logistic.py:1544: UserWarning: 'n_jobs' > 1 does not have any effect when 'solver' is set to 'liblinear'. Got 'n_jobs' = 4.\n",
      "  \" = {}.\".format(effective_n_jobs(self.n_jobs)))\n"
     ]
    },
    {
     "name": "stdout",
     "output_type": "stream",
     "text": [
      "- Training accuracy: 0.99647\n",
      "- Validation accuracy: 0.96255\n",
      "[+] Running configuration 6...\n",
      "- Taille du dictionnaire: 211105\n"
     ]
    },
    {
     "name": "stderr",
     "output_type": "stream",
     "text": [
      "//anaconda3/lib/python3.7/site-packages/sklearn/linear_model/logistic.py:432: FutureWarning: Default solver will be changed to 'lbfgs' in 0.22. Specify a solver to silence this warning.\n",
      "  FutureWarning)\n",
      "//anaconda3/lib/python3.7/site-packages/sklearn/linear_model/logistic.py:469: FutureWarning: Default multi_class will be changed to 'auto' in 0.22. Specify the multi_class option to silence this warning.\n",
      "  \"this warning.\", FutureWarning)\n",
      "//anaconda3/lib/python3.7/site-packages/sklearn/linear_model/logistic.py:1544: UserWarning: 'n_jobs' > 1 does not have any effect when 'solver' is set to 'liblinear'. Got 'n_jobs' = 4.\n",
      "  \" = {}.\".format(effective_n_jobs(self.n_jobs)))\n"
     ]
    },
    {
     "name": "stdout",
     "output_type": "stream",
     "text": [
      "- Training accuracy: 0.99667\n",
      "- Validation accuracy: 0.96183\n"
     ]
    }
   ],
   "source": [
    "configurations = [\n",
    "    {\"model\":CountBoW, \"tokenize\":False},\n",
    "    {\"model\":CountBoW, \"tokenize\":True},\n",
    "    {\"model\":TFIDFBoW, \"tokenize\":True, \"stemming\": True},\n",
    "    {\"model\":TFIDFBoW, \"tokenize\":True, \"stemming\": True, \"preprocess\":True},\n",
    "    {\"model\":TFIDFBoW, \"tokenize\":True, \"stemming\": True, \"preprocess\":True, \"bi\":True},\n",
    "    {\"model\":TFIDFBoW, \"tokenize\":True, \"stemming\": True, \"preprocess\":True, \"bi\":True,\"tri\":True}\n",
    "]\n",
    "\n",
    "results = []\n",
    "for i,conf in enumerate(configurations):\n",
    "    print(f\"[+] Running configuration {i+1}...\")\n",
    "    stemming = conf.get(\"stemming\",False)\n",
    "    tw_prep = conf.get(\"preprocess\",False)\n",
    "    tokenize = conf.get(\"tokenize\",False)\n",
    "    \n",
    "    pipeline = PreprocessingPipeline(tokenization = tokenize, twitterPreprocessing = tw_prep, stemming = stemming)\n",
    "    obj = conf[\"model\"](pipeline, bigram = conf.get(\"bi\",False), trigram = conf.get(\"tri\",False))\n",
    "    results.append(train_evaluate(train_X, train_Y, train_valid_X, train_valid_Y, obj))\n",
    "\n",
    "#- Taille du dictionnaire: 11064\n",
    "#- Training accuracy: 0.98844\n",
    "#- Validation accuracy: 0.94873"
   ]
  },
  {
   "cell_type": "code",
   "execution_count": 438,
   "metadata": {},
   "outputs": [
    {
     "data": {
      "image/png": "[encoded data removed]",
      "text/plain": [
       "<Figure size 720x360 with 1 Axes>"
      ]
     },
     "metadata": {
      "needs_background": "light"
     },
     "output_type": "display_data"
    }
   ],
   "source": [
    "import matplotlib.pyplot as plt\n",
    "%matplotlib inline\n",
    "\n",
    "models, training_acc, validation_acc = zip(*results)\n",
    "\n",
    "plt.figure(figsize=(10,5))\n",
    "plt.plot(list(map(lambda i:f\"config {i}\",range(1,7))), training_acc, label=\"Training accuracy\")\n",
    "plt.plot(list(map(lambda i:f\"config {i}\",range(1,7))), validation_acc, label=\"Validation accuracy\")\n",
    "plt.title(\"Performance of different models per configuration\")\n",
    "plt.ylabel(\"Accuracy\")\n",
    "plt.legend();"
   ]
  },
  {
   "cell_type": "markdown",
   "metadata": {},
   "source": [
    "- Quelles étapes de preprocessing ont effectivement aidé le modèle ? Pourquoi ?\n",
    "\n",
    "Selon les résultats des différentes configuration de preprocessing ci-dessous, nous constatons que les étapes de preprocessing de la configuration 5 qu’ont effectivement aidé le modèle. En premier lieu, l'ajout du Twitter preprocessing augmente notre précision, ce qui est logique. Ensuite, l'ajout du bigram nous aide à augmenter encore plus cette précision, puisque le modèle considère deux mots en même temps (et donc donne un contexte) et non pas chaque mot indépendamment de l'autre.\n"
   ]
  },
  {
   "cell_type": "markdown",
   "metadata": {},
   "source": [
    "- La pondération avec TF-IDF a-t-elle aidé à obtenir une meilleure performance que le simple BoW ?\n",
    "\n",
    "\n",
    "OUI, TF-IDF a donné des précisions meilleures. En outre, l’avantage de TF-IDF provient du fait que certains mots peuvent être trouvés dans différents tweets; les gens ont tendance à s'exprimer avec des caractéristiques communes (mêmes mots souvent), ce qui n'est pas pris en compte dans CountBoW, mais apparaît dans le terme IDF de TF-IDF."
   ]
  },
  {
   "cell_type": "markdown",
   "metadata": {},
   "source": [
    "- Les bigrams et trigrams ont-ils amélioré la performance ? Expliquez pourquoi.\n",
    "\n",
    "Les bigrams et trigrams ont bien amélioré les performances. Selon les résultats, la précision sur les données de validation a augmenté de 94,5% à 96,2%  grâce à l'utilisation de bigrams. Nous pouvons en justifier par le fait que le modèle peut stocker davantage de contexte. Si nous prenons l'exemple d'un mot bigram \"Don’t like\" ou \"Quite pleasant\", cela donne plus d'informations sur le sentiment que d'avoir les deux mots séparés. Concernant les trigrams, nous pouvons avoir un à priori sur leur précision comparée aux unigrams puisqu'ils prennent en compte le contexte quand même, mais peut être que considérer deux mots à la fois marche mieux. En tout cas, c'est le cas dans cette étude puisque la configuration n°6 ne donne pas un meilleur résultat que la configuration n°5."
   ]
  },
  {
   "cell_type": "markdown",
   "metadata": {
    "colab_type": "text",
    "id": "sHSLlIZ3rOJJ"
   },
   "source": [
    "# II/ Prototype (7 points)\n",
    "\n",
    "Maintenant que nous avons un modèle de classification entraîné pour l'analyse de sentiments, nous pouvons l'appliquer à notre ensemble de tests et analyser le résultat.\n",
    "\n",
    "## 1. Analyse de Sentiments\n"
   ]
  },
  {
   "cell_type": "markdown",
   "metadata": {
    "colab_type": "text",
    "id": "1VBvx9PVrOJJ"
   },
   "source": [
    "##### Question 9. Implémentez la fonction `detect_airline` qui détecte la compagnie aérienne d'un tweet. (1,5 points)\n",
    "\n",
    "Expliquez votre approche, et les inconvénients possibles.\n",
    "\n",
    "**Attention :** `detect_airline` doit être en mesure de gérer le cas où aucune compagnie n'est mentionnée (auquel cas `None` est retounée), mais aussi le cas où plusieurs compagnies sont mentionnées dans un tweet."
   ]
  },
  {
   "cell_type": "code",
   "execution_count": 471,
   "metadata": {},
   "outputs": [
    {
     "name": "stdout",
     "output_type": "stream",
     "text": [
      "['united', 'usairways', 'americanair', 'southwestair', 'jetblue', 'virginamerica', 'delta', 'imaginedragons', 'phlairport', 'ladygaga', 'carrieunderwood', 'wsj', 'dfwairport', 'flytpa', 'spiritairlines', 'fortunemagazine', 'velourlive', 'staralliance', 'love_dragonss', 'bostonlogan', 'triflight', 'virginatlantic', 'dulles_airport', 'derekc21', 'ny_njairports', 'british_airways', 'cowboycerrone', 'perfectomobile', 'fly2ohare', 'jayvig', 'expedia', 'gg8929', 'southwest', 'directtv', 'jack_kairys', 'thenationaluae', 'zkatcher', 'gma', 'ellahenderson', 'kylejudah', 'annricord', 'aarp', 'dallaslovefield', 'lasairport', 'vincenzolandino', 'jedediahbila', 'roxydigital', 'cnn', 'abcnetwork', 'nytimes', 'silverairways', 'aircanada']\n"
     ]
    }
   ],
   "source": [
    "from collections import Counter\n",
    "\n",
    "knows_airlines = ['united', 'usairways', 'americanair', 'southwestair', 'jetblue', 'virginamerica', \n",
    "                  'delta', 'spiritairlines', 'staralliance', 'virginatlantic', 'british_airways', 'expedia', \n",
    "                  'southwest', 'gma', 'silverairways', 'aircanada']\n",
    "\n",
    "print([k[0] for k in sorted(Counter(sum(list(map(lambda x:re.findall(r\"@(\\w+)\",x.lower()),train_X)),[])).items(), \n",
    "                            key=lambda x: -x[1]) if k[1]>2])"
   ]
  },
  {
   "cell_type": "code",
   "execution_count": 501,
   "metadata": {
    "colab": {},
    "colab_type": "code",
    "id": "e-eT1F-UrOJJ"
   },
   "outputs": [],
   "source": [
    "import re\n",
    "knows_airlines = ['united', 'usairways', 'americanair', 'southwestair', 'jetblue', 'virginamerica', \n",
    "                  'delta', 'spiritairlines', 'staralliance', 'virginatlantic', 'british_airways', 'expedia', \n",
    "                  'southwest', 'gma', 'silverairways', 'aircanada']\n",
    "\n",
    "def detect_airline(tweet):\n",
    "    \"\"\"\n",
    "    Detect and return the airline companies mentioned in the tweet\n",
    "    \n",
    "    tweet: represents the tweet message. You should define the data type\n",
    "    \n",
    "    Return: list of detected airline companies\n",
    "    \"\"\"\n",
    "    \n",
    "    found = set(knows_airlines).intersection(re.findall(r\"@(\\S+)\",tweet.lower()))\n",
    "    return list(found) if len(found)>0 else None\n"
   ]
  },
  {
   "cell_type": "markdown",
   "metadata": {
    "colab_type": "text",
    "id": "uM52GVrorOJK"
   },
   "source": [
    "\n",
    "##### Question 10. Implémentez la fonction `extract_sentiment` qui, à partir de tweets et d'un classificateur, extrait leurs sentiments. (0.5 points)\n"
   ]
  },
  {
   "cell_type": "code",
   "execution_count": 473,
   "metadata": {
    "colab": {},
    "colab_type": "code",
    "id": "eTWsPSJCrOJL"
   },
   "outputs": [],
   "source": [
    "\n",
    "def extract_sentiment(classifier, tweets):\n",
    "    \"\"\"\n",
    "    Extract the tweet sentiment\n",
    "    \n",
    "    classifier: classifier object\n",
    "    tweets: represents the tweet message. processed tweets : matrix with numerical values (n_tweets x n_words)\n",
    "    \n",
    "    Return: list of detected airline companies\n",
    "    \"\"\"\n",
    "    # We suppose that the classifier is trained\n",
    "    return classifier.predict(tweets)\n"
   ]
  },
  {
   "cell_type": "markdown",
   "metadata": {
    "colab_type": "text",
    "id": "ulqCDCvGrOJM"
   },
   "source": [
    "##### Question 11. En utilisant `extract_tweet_content`, `detect_airline` et `extract_sentiment`, générez un diagramme en bar contenant le nombre de tweets positives, négatifs et neutres pour chacune des compagnies. (2 points)\n",
    "\n",
    "Décrivez brièvement le diagramme et analysez les résultats (par exemple, quelle est la compagnie avec le plus de tweets négatifs?). Expliquez comment un tel diagramme peut aider des compagnies aériennes."
   ]
  },
  {
   "cell_type": "code",
   "execution_count": 477,
   "metadata": {},
   "outputs": [
    {
     "name": "stderr",
     "output_type": "stream",
     "text": [
      "//anaconda3/lib/python3.7/site-packages/sklearn/linear_model/logistic.py:432: FutureWarning: Default solver will be changed to 'lbfgs' in 0.22. Specify a solver to silence this warning.\n",
      "  FutureWarning)\n",
      "//anaconda3/lib/python3.7/site-packages/sklearn/linear_model/logistic.py:469: FutureWarning: Default multi_class will be changed to 'auto' in 0.22. Specify the multi_class option to silence this warning.\n",
      "  \"this warning.\", FutureWarning)\n",
      "//anaconda3/lib/python3.7/site-packages/sklearn/linear_model/logistic.py:1544: UserWarning: 'n_jobs' > 1 does not have any effect when 'solver' is set to 'liblinear'. Got 'n_jobs' = 4.\n",
      "  \" = {}.\".format(effective_n_jobs(self.n_jobs)))\n"
     ]
    },
    {
     "data": {
      "text/plain": [
       "LogisticRegression(C=1.0, class_weight=None, dual=False, fit_intercept=True,\n",
       "                   intercept_scaling=1, l1_ratio=None, max_iter=100,\n",
       "                   multi_class='warn', n_jobs=-1, penalty='l2',\n",
       "                   random_state=None, solver='warn', tol=0.0001, verbose=0,\n",
       "                   warm_start=False)"
      ]
     },
     "execution_count": 477,
     "metadata": {},
     "output_type": "execute_result"
    }
   ],
   "source": [
    "# init configuration\n",
    "selected_conf = {\"model\":TFIDFBoW, \"tokenize\":True, \"stemming\": True, \"preprocess\":True, \"bi\":True}\n",
    "\n",
    "stemming = selected_conf.get(\"stemming\",False)\n",
    "tw_prep = selected_conf.get(\"preprocess\",False)\n",
    "tokenize = selected_conf.get(\"tokenize\",False)\n",
    "bi = conf.get(\"bi\",False)\n",
    "tri = conf.get(\"tri\",False)\n",
    "\n",
    "# init preprocessing pipeline\n",
    "pipeline = PreprocessingPipeline(tokenization = tokenize, twitterPreprocessing = tw_prep, stemming = stemming)\n",
    "bowObj = conf[\"model\"](pipeline, bigram = bi, trigram = tri)\n",
    "\n",
    "training_rep = bowObj.fit_transform(train_X)\n",
    "testing_rep = bowObj.transform(test_X)\n",
    "\n",
    "# fit the classifier\n",
    "classifier = LogisticRegression(n_jobs=-1)\n",
    "classifier.fit(training_rep, train_Y)"
   ]
  },
  {
   "cell_type": "code",
   "execution_count": 481,
   "metadata": {},
   "outputs": [],
   "source": [
    "airlines = list(map(detect_airline,test_X))\n",
    "sentiments = extract_sentiment(classifier, testing_rep)"
   ]
  },
  {
   "cell_type": "code",
   "execution_count": 484,
   "metadata": {},
   "outputs": [],
   "source": [
    "import matplotlib.pyplot as plt\n",
    "from collections import Counter, defaultdict\n",
    "\n",
    "airlines_rates = defaultdict(lambda :defaultdict(int))\n",
    "for airlines_tweet, sentim in zip(airlines, sentiments):\n",
    "    if airlines_tweet is not None:\n",
    "        for airln in airlines_tweet:\n",
    "            airlines_rates[sentim][airln]+=1\n",
    "\n"
   ]
  },
  {
   "cell_type": "code",
   "execution_count": 497,
   "metadata": {},
   "outputs": [
    {
     "data": {
      "image/png": "[encoded data removed]",
      "text/plain": [
       "<Figure size 1440x360 with 1 Axes>"
      ]
     },
     "metadata": {
      "needs_background": "light"
     },
     "output_type": "display_data"
    }
   ],
   "source": [
    "import pandas as pd\n",
    "\n",
    "scores = pd.DataFrame(airlines_rates).fillna(0)\n",
    "scores.columns = [\"Negative\", \"Neutral\", \"Positive\"]\n",
    "scores.plot.bar(figsize=(20,5), rot=0)\n",
    "plt.title(\"Histogram of sentiments expressed in comments for different airline companies\")\n",
    "plt.ylabel(\"Number of tweets\")\n",
    "plt.xlabel(\"Airline companies\");"
   ]
  },
  {
   "cell_type": "markdown",
   "metadata": {},
   "source": [
    "L’histogramme ci-dessus représente le nombre de tweets positives, négatifs et neutres pour chacune des compagnies. On remarque que le sentiment négatif est le plus dominant pour tous les compagnies. La compagnie United prend le dessus en terme de tweets négatifs vient après la compagnie American air, et puis UsairWays. En termes de tweets positives et neutres, on trouve qu’ils varient d’une compagnie à l’autre avec un grand écart par rapport aux tweets négatifs. \n",
    "Ce diagramme aide énormément  les compagnies aériennes pour analyser la satisfaction de leurs clients par rapport à leurs concurrents.\n"
   ]
  },
  {
   "cell_type": "markdown",
   "metadata": {
    "colab_type": "text",
    "id": "jS3FdokurOJM"
   },
   "source": [
    "## 2. Analyse de termes\n",
    "\n",
    "Le POS-tagging (pour *part-of-speech tagging*, en français étiquetage grammatical) consiste à l'extraction de l'information grammaticale d'un token dans une phrase. Par exemple, la table ci-dessous donne un exemple du *POS-tagging* de la phrase *\"The cat is white!\"*\n",
    "\n",
    "\n",
    "|   The   | cat  |  is  | white     |    !       |\n",
    "|---------|------|------|-----------|------------|\n",
    "| article | noun | verb | adjective | punctation |\n",
    "\n",
    "\n",
    "Pour autant, le *POS-tagging* peut être plus complexe que les règles simples apprises à l'école. Il faut souvent des informations plus détaillées sur le rôle d'un terme dans une phrase. Pour notre problème, nous n'avons pas besoin d'utiliser un modèle linguistique plus complexe, nous allons utiliser ce qu'on appelle des *POS-tags* universelles.\n",
    "\n",
    "En *POS-tagging*, chaque token est représenté par un tag. La liste des POS-tags utilisés sont disponibles ici :\n",
    "https://universaldependencies.org/u/pos/ ."
   ]
  },
  {
   "cell_type": "code",
   "execution_count": 499,
   "metadata": {
    "colab": {},
    "colab_type": "code",
    "id": "v3hSaR2drOJN"
   },
   "outputs": [
    {
     "data": {
      "text/plain": [
       "[('The', 'DET'), ('cat', 'NOUN'), ('is', 'VERB'), ('white', 'ADJ'), ('!', '.')]"
      ]
     },
     "execution_count": 499,
     "metadata": {},
     "output_type": "execute_result"
    }
   ],
   "source": [
    "# NLTK POS-tagger\n",
    "\n",
    "import nltk\n",
    "\n",
    "\n",
    "#before using pos_tag function, you have to tokenize the sentence.\n",
    "s = ['The', 'cat', 'is',  'white', '!']\n",
    "nltk.pos_tag(s,tagset='universal')\n"
   ]
  },
  {
   "cell_type": "markdown",
   "metadata": {
    "colab_type": "text",
    "id": "INsbSqyIrOJN"
   },
   "source": [
    "##### Question 12. Implémentez un code qui collecte les 10 termes les plus fréquents pour chaque compagnie aérienne. (2 Pts)\n",
    "\n",
    "Ici, vous n'allez considérer que les termes apparaissant dans les tweets positifs et négatifs. \n",
    "\n",
    "De plus, nous allons utiliser la définition suivante de \"terme\":\n",
    "\n",
    "1. Un mot qui est soit un adjectif, soit un nom\n",
    "2. Un N-gram composé d'adjectifs suivit par un nom (par exemple, \"nice place\"), ou un nom suivi par un autre nom (par exemple, \"sports club\").\n",
    "\n",
    "Ensuite, **générez une table** contenant les 10 termes les plus fréquents, avec leurs fréquences (en pourcentage) pour chaque compagnie.\n",
    "\n",
    "*N'oubliez pas de supprimer le nom de la compagnie parmi les termes !*\n"
   ]
  },
  {
   "cell_type": "code",
   "execution_count": 622,
   "metadata": {
    "colab": {},
    "colab_type": "code",
    "id": "cWjloSN-rOJN",
    "scrolled": false
   },
   "outputs": [],
   "source": [
    "from collections import Counter, defaultdict\n",
    "\n",
    "selected_tweets = [tweet for tweet, sentiment in zip(train_X, train_Y) if sentiment!=1]\n",
    "grams_companies = defaultdict(list)\n",
    "prev_word = None\n",
    "for tweet in selected_tweets:\n",
    "    companies = detect_airline(tweet.lower())\n",
    "\n",
    "    if companies is None: continue\n",
    "    cleaned_tweet = tweet.lower()\n",
    "    for c in companies:\n",
    "        cleaned_tweet = cleaned_tweet.replace(\"@\"+c,\"\")\n",
    "    cleaned_tweet = cleaned_tweet.encode(\"cp1251\",\"ignore\").decode()\n",
    "\n",
    "    for word in nltk.pos_tag(NLTKTokenizer().tokenize(cleaned_tweet),tagset='universal'):\n",
    "        if word[1] in [\"NOUN\",\"ADJ\"]:\n",
    "            for company in companies:\n",
    "                grams_companies[company].append(word[0])\n",
    "                if prev_word is not None and word[1] == \"NOUN\" and prev_word[1] in [\"NOUN\",\"ADJ\"]:\n",
    "                    grams_companies[company].append(f\"{prev_word[0]} {word[0]}\")\n",
    "        prev_word = word"
   ]
  },
  {
   "cell_type": "code",
   "execution_count": 694,
   "metadata": {
    "scrolled": false
   },
   "outputs": [
    {
     "data": {
      "text/html": [
       "<div>\n",
       "<style scoped>\n",
       "    .dataframe tbody tr th:only-of-type {\n",
       "        vertical-align: middle;\n",
       "    }\n",
       "\n",
       "    .dataframe tbody tr th {\n",
       "        vertical-align: top;\n",
       "    }\n",
       "\n",
       "    .dataframe thead tr th {\n",
       "        text-align: left;\n",
       "    }\n",
       "</style>\n",
       "<table border=\"1\" class=\"dataframe\">\n",
       "  <thead>\n",
       "    <tr>\n",
       "      <th>major</th>\n",
       "      <th colspan=\"2\" halign=\"left\">term N.1</th>\n",
       "      <th colspan=\"2\" halign=\"left\">term N.2</th>\n",
       "      <th colspan=\"2\" halign=\"left\">term N.3</th>\n",
       "      <th colspan=\"2\" halign=\"left\">term N.4</th>\n",
       "      <th colspan=\"2\" halign=\"left\">term N.5</th>\n",
       "      <th colspan=\"2\" halign=\"left\">term N.6</th>\n",
       "      <th colspan=\"2\" halign=\"left\">term N.7</th>\n",
       "      <th colspan=\"2\" halign=\"left\">term N.8</th>\n",
       "      <th colspan=\"2\" halign=\"left\">term N.9</th>\n",
       "      <th colspan=\"2\" halign=\"left\">term N.10</th>\n",
       "    </tr>\n",
       "    <tr>\n",
       "      <th>minor</th>\n",
       "      <th>term</th>\n",
       "      <th>frequency</th>\n",
       "      <th>term</th>\n",
       "      <th>frequency</th>\n",
       "      <th>term</th>\n",
       "      <th>frequency</th>\n",
       "      <th>term</th>\n",
       "      <th>frequency</th>\n",
       "      <th>term</th>\n",
       "      <th>frequency</th>\n",
       "      <th>term</th>\n",
       "      <th>frequency</th>\n",
       "      <th>term</th>\n",
       "      <th>frequency</th>\n",
       "      <th>term</th>\n",
       "      <th>frequency</th>\n",
       "      <th>term</th>\n",
       "      <th>frequency</th>\n",
       "      <th>term</th>\n",
       "      <th>frequency</th>\n",
       "    </tr>\n",
       "  </thead>\n",
       "  <tbody>\n",
       "    <tr>\n",
       "      <th>united</th>\n",
       "      <td>i</td>\n",
       "      <td>4.40439</td>\n",
       "      <td>flight</td>\n",
       "      <td>3.53518</td>\n",
       "      <td>service</td>\n",
       "      <td>1.03839</td>\n",
       "      <td>time</td>\n",
       "      <td>0.816708</td>\n",
       "      <td>thanks</td>\n",
       "      <td>0.810874</td>\n",
       "      <td>customer</td>\n",
       "      <td>0.775872</td>\n",
       "      <td>plane</td>\n",
       "      <td>0.74087</td>\n",
       "      <td>bag</td>\n",
       "      <td>0.74087</td>\n",
       "      <td>united</td>\n",
       "      <td>0.711702</td>\n",
       "      <td>gate</td>\n",
       "      <td>0.618364</td>\n",
       "    </tr>\n",
       "    <tr>\n",
       "      <th>usairways</th>\n",
       "      <td>i</td>\n",
       "      <td>4.85988</td>\n",
       "      <td>flight</td>\n",
       "      <td>3.54026</td>\n",
       "      <td>service</td>\n",
       "      <td>1.2132</td>\n",
       "      <td>hold</td>\n",
       "      <td>1.18482</td>\n",
       "      <td>hours</td>\n",
       "      <td>0.971976</td>\n",
       "      <td>customer</td>\n",
       "      <td>0.922313</td>\n",
       "      <td>plane</td>\n",
       "      <td>0.780419</td>\n",
       "      <td>thanks</td>\n",
       "      <td>0.759134</td>\n",
       "      <td>customer service</td>\n",
       "      <td>0.744945</td>\n",
       "      <td>time</td>\n",
       "      <td>0.695282</td>\n",
       "    </tr>\n",
       "    <tr>\n",
       "      <th>americanair</th>\n",
       "      <td>i</td>\n",
       "      <td>5.18524</td>\n",
       "      <td>flight</td>\n",
       "      <td>3.68113</td>\n",
       "      <td>service</td>\n",
       "      <td>1.04497</td>\n",
       "      <td>thanks</td>\n",
       "      <td>1.00538</td>\n",
       "      <td>@</td>\n",
       "      <td>1.00538</td>\n",
       "      <td>hours</td>\n",
       "      <td>0.918303</td>\n",
       "      <td>customer</td>\n",
       "      <td>0.807473</td>\n",
       "      <td>hold</td>\n",
       "      <td>0.680811</td>\n",
       "      <td>time</td>\n",
       "      <td>0.641229</td>\n",
       "      <td>call</td>\n",
       "      <td>0.625396</td>\n",
       "    </tr>\n",
       "    <tr>\n",
       "      <th>southwestair</th>\n",
       "      <td>i</td>\n",
       "      <td>5.25686</td>\n",
       "      <td>flight</td>\n",
       "      <td>3.45015</td>\n",
       "      <td>thanks</td>\n",
       "      <td>1.09926</td>\n",
       "      <td>hold</td>\n",
       "      <td>1.09926</td>\n",
       "      <td>@</td>\n",
       "      <td>1.03396</td>\n",
       "      <td>service</td>\n",
       "      <td>0.946887</td>\n",
       "      <td>time</td>\n",
       "      <td>0.827166</td>\n",
       "      <td>customer</td>\n",
       "      <td>0.816282</td>\n",
       "      <td>http</td>\n",
       "      <td>0.761863</td>\n",
       "      <td>thank</td>\n",
       "      <td>0.729212</td>\n",
       "    </tr>\n",
       "    <tr>\n",
       "      <th>jetblue</th>\n",
       "      <td>i</td>\n",
       "      <td>4.95619</td>\n",
       "      <td>flight</td>\n",
       "      <td>3.8609</td>\n",
       "      <td>thanks</td>\n",
       "      <td>1.46495</td>\n",
       "      <td>@</td>\n",
       "      <td>1.20482</td>\n",
       "      <td>jetblue</td>\n",
       "      <td>1.04053</td>\n",
       "      <td>time</td>\n",
       "      <td>0.821468</td>\n",
       "      <td>http</td>\n",
       "      <td>0.780394</td>\n",
       "      <td>service</td>\n",
       "      <td>0.753012</td>\n",
       "      <td>plane</td>\n",
       "      <td>0.698248</td>\n",
       "      <td>great</td>\n",
       "      <td>0.684556</td>\n",
       "    </tr>\n",
       "    <tr>\n",
       "      <th>virginamerica</th>\n",
       "      <td>i</td>\n",
       "      <td>5.66757</td>\n",
       "      <td>flight</td>\n",
       "      <td>3.54223</td>\n",
       "      <td>http</td>\n",
       "      <td>0.980926</td>\n",
       "      <td>@</td>\n",
       "      <td>0.817439</td>\n",
       "      <td>thanks</td>\n",
       "      <td>0.762943</td>\n",
       "      <td>website</td>\n",
       "      <td>0.762943</td>\n",
       "      <td>help</td>\n",
       "      <td>0.708447</td>\n",
       "      <td>great</td>\n",
       "      <td>0.653951</td>\n",
       "      <td>flights</td>\n",
       "      <td>0.653951</td>\n",
       "      <td>seat</td>\n",
       "      <td>0.599455</td>\n",
       "    </tr>\n",
       "    <tr>\n",
       "      <th>delta</th>\n",
       "      <td>i</td>\n",
       "      <td>5.50725</td>\n",
       "      <td>flight</td>\n",
       "      <td>4.05797</td>\n",
       "      <td>worst</td>\n",
       "      <td>2.02899</td>\n",
       "      <td>service</td>\n",
       "      <td>1.73913</td>\n",
       "      <td>customers</td>\n",
       "      <td>1.44928</td>\n",
       "      <td>airline</td>\n",
       "      <td>1.15942</td>\n",
       "      <td>time</td>\n",
       "      <td>1.15942</td>\n",
       "      <td>@</td>\n",
       "      <td>0.869565</td>\n",
       "      <td>good</td>\n",
       "      <td>0.869565</td>\n",
       "      <td>anything</td>\n",
       "      <td>0.869565</td>\n",
       "    </tr>\n",
       "    <tr>\n",
       "      <th>spiritairlines</th>\n",
       "      <td>florida</td>\n",
       "      <td>6.89655</td>\n",
       "      <td>wrong</td>\n",
       "      <td>3.44828</td>\n",
       "      <td>3days</td>\n",
       "      <td>3.44828</td>\n",
       "      <td>florida 3days</td>\n",
       "      <td>3.44828</td>\n",
       "      <td>real</td>\n",
       "      <td>3.44828</td>\n",
       "      <td>airlines</td>\n",
       "      <td>3.44828</td>\n",
       "      <td>real airlines</td>\n",
       "      <td>3.44828</td>\n",
       "      <td>fly</td>\n",
       "      <td>3.44828</td>\n",
       "      <td>smalls</td>\n",
       "      <td>3.44828</td>\n",
       "      <td>glad</td>\n",
       "      <td>3.44828</td>\n",
       "    </tr>\n",
       "    <tr>\n",
       "      <th>staralliance</th>\n",
       "      <td>tickets</td>\n",
       "      <td>4.25532</td>\n",
       "      <td>few</td>\n",
       "      <td>2.12766</td>\n",
       "      <td>weeks</td>\n",
       "      <td>2.12766</td>\n",
       "      <td>few weeks</td>\n",
       "      <td>2.12766</td>\n",
       "      <td>bright</td>\n",
       "      <td>2.12766</td>\n",
       "      <td>vibrant</td>\n",
       "      <td>2.12766</td>\n",
       "      <td>bright vibrant</td>\n",
       "      <td>2.12766</td>\n",
       "      <td>habitrails</td>\n",
       "      <td>2.12766</td>\n",
       "      <td>right</td>\n",
       "      <td>2.12766</td>\n",
       "      <td>thing</td>\n",
       "      <td>2.12766</td>\n",
       "    </tr>\n",
       "    <tr>\n",
       "      <th>virginatlantic</th>\n",
       "      <td>i</td>\n",
       "      <td>20</td>\n",
       "      <td>representative</td>\n",
       "      <td>5</td>\n",
       "      <td>solution</td>\n",
       "      <td>5</td>\n",
       "      <td>loyal</td>\n",
       "      <td>5</td>\n",
       "      <td>customer</td>\n",
       "      <td>5</td>\n",
       "      <td>loyal customer</td>\n",
       "      <td>5</td>\n",
       "      <td>funny</td>\n",
       "      <td>5</td>\n",
       "      <td>lhr</td>\n",
       "      <td>5</td>\n",
       "      <td>mean</td>\n",
       "      <td>5</td>\n",
       "      <td>time</td>\n",
       "      <td>5</td>\n",
       "    </tr>\n",
       "    <tr>\n",
       "      <th>british_airways</th>\n",
       "      <td>flight</td>\n",
       "      <td>10</td>\n",
       "      <td>agent</td>\n",
       "      <td>5</td>\n",
       "      <td>tonight</td>\n",
       "      <td>5</td>\n",
       "      <td>anyone</td>\n",
       "      <td>5</td>\n",
       "      <td>aa</td>\n",
       "      <td>5</td>\n",
       "      <td>weeks</td>\n",
       "      <td>5</td>\n",
       "      <td>today</td>\n",
       "      <td>5</td>\n",
       "      <td>miami</td>\n",
       "      <td>5</td>\n",
       "      <td>i</td>\n",
       "      <td>5</td>\n",
       "      <td>bag</td>\n",
       "      <td>5</td>\n",
       "    </tr>\n",
       "    <tr>\n",
       "      <th>expedia</th>\n",
       "      <td>day</td>\n",
       "      <td>4.7619</td>\n",
       "      <td>costumer</td>\n",
       "      <td>4.7619</td>\n",
       "      <td>jetblue</td>\n",
       "      <td>4.7619</td>\n",
       "      <td>makingthingseasy</td>\n",
       "      <td>4.7619</td>\n",
       "      <td>feelbetter</td>\n",
       "      <td>4.7619</td>\n",
       "      <td>hour</td>\n",
       "      <td>4.7619</td>\n",
       "      <td>hold</td>\n",
       "      <td>4.7619</td>\n",
       "      <td>hour hold</td>\n",
       "      <td>4.7619</td>\n",
       "      <td>ticket</td>\n",
       "      <td>4.7619</td>\n",
       "      <td>easy</td>\n",
       "      <td>4.7619</td>\n",
       "    </tr>\n",
       "    <tr>\n",
       "      <th>southwest</th>\n",
       "      <td>i</td>\n",
       "      <td>5.26316</td>\n",
       "      <td>change</td>\n",
       "      <td>5.26316</td>\n",
       "      <td>customer</td>\n",
       "      <td>5.26316</td>\n",
       "      <td>service</td>\n",
       "      <td>5.26316</td>\n",
       "      <td>customer service</td>\n",
       "      <td>5.26316</td>\n",
       "      <td>flight</td>\n",
       "      <td>5.26316</td>\n",
       "      <td>policy</td>\n",
       "      <td>2.63158</td>\n",
       "      <td>serious</td>\n",
       "      <td>2.63158</td>\n",
       "      <td>revision</td>\n",
       "      <td>2.63158</td>\n",
       "      <td>serious revision</td>\n",
       "      <td>2.63158</td>\n",
       "    </tr>\n",
       "    <tr>\n",
       "      <th>gma</th>\n",
       "      <td>worse</td>\n",
       "      <td>5.88235</td>\n",
       "      <td>airline</td>\n",
       "      <td>5.88235</td>\n",
       "      <td>worse airline</td>\n",
       "      <td>5.88235</td>\n",
       "      <td>experience</td>\n",
       "      <td>5.88235</td>\n",
       "      <td>airline experience</td>\n",
       "      <td>5.88235</td>\n",
       "      <td>rude</td>\n",
       "      <td>5.88235</td>\n",
       "      <td>unhelpful</td>\n",
       "      <td>5.88235</td>\n",
       "      <td>help</td>\n",
       "      <td>5.88235</td>\n",
       "      <td>customer</td>\n",
       "      <td>5.88235</td>\n",
       "      <td>service</td>\n",
       "      <td>5.88235</td>\n",
       "    </tr>\n",
       "    <tr>\n",
       "      <th>silverairways</th>\n",
       "      <td>preferred</td>\n",
       "      <td>3.125</td>\n",
       "      <td>security</td>\n",
       "      <td>3.125</td>\n",
       "      <td>preferred security</td>\n",
       "      <td>3.125</td>\n",
       "      <td>line</td>\n",
       "      <td>3.125</td>\n",
       "      <td>security line</td>\n",
       "      <td>3.125</td>\n",
       "      <td>tsa</td>\n",
       "      <td>3.125</td>\n",
       "      <td>pre-check</td>\n",
       "      <td>3.125</td>\n",
       "      <td>tsa pre-check</td>\n",
       "      <td>3.125</td>\n",
       "      <td>partner</td>\n",
       "      <td>3.125</td>\n",
       "      <td>flight</td>\n",
       "      <td>3.125</td>\n",
       "    </tr>\n",
       "    <tr>\n",
       "      <th>aircanada</th>\n",
       "      <td>baggage</td>\n",
       "      <td>16.6667</td>\n",
       "      <td>person</td>\n",
       "      <td>16.6667</td>\n",
       "      <td>baggage person</td>\n",
       "      <td>16.6667</td>\n",
       "      <td>connecting</td>\n",
       "      <td>16.6667</td>\n",
       "      <td>flight</td>\n",
       "      <td>16.6667</td>\n",
       "      <td>connecting flight</td>\n",
       "      <td>16.6667</td>\n",
       "      <td></td>\n",
       "      <td></td>\n",
       "      <td></td>\n",
       "      <td></td>\n",
       "      <td></td>\n",
       "      <td></td>\n",
       "      <td></td>\n",
       "      <td></td>\n",
       "    </tr>\n",
       "  </tbody>\n",
       "</table>\n",
       "</div>"
      ],
      "text/plain": [
       "major             term N.1                  term N.2            \\\n",
       "minor                 term frequency            term frequency   \n",
       "united                   i   4.40439          flight   3.53518   \n",
       "usairways                i   4.85988          flight   3.54026   \n",
       "americanair              i   5.18524          flight   3.68113   \n",
       "southwestair             i   5.25686          flight   3.45015   \n",
       "jetblue                  i   4.95619          flight    3.8609   \n",
       "virginamerica            i   5.66757          flight   3.54223   \n",
       "delta                    i   5.50725          flight   4.05797   \n",
       "spiritairlines     florida   6.89655           wrong   3.44828   \n",
       "staralliance       tickets   4.25532             few   2.12766   \n",
       "virginatlantic           i        20  representative         5   \n",
       "british_airways     flight        10           agent         5   \n",
       "expedia                day    4.7619        costumer    4.7619   \n",
       "southwest                i   5.26316          change   5.26316   \n",
       "gma                  worse   5.88235         airline   5.88235   \n",
       "silverairways    preferred     3.125        security     3.125   \n",
       "aircanada          baggage   16.6667          person   16.6667   \n",
       "\n",
       "major                      term N.3                    term N.4            \\\n",
       "minor                          term frequency              term frequency   \n",
       "united                      service   1.03839              time  0.816708   \n",
       "usairways                   service    1.2132              hold   1.18482   \n",
       "americanair                 service   1.04497            thanks   1.00538   \n",
       "southwestair                 thanks   1.09926              hold   1.09926   \n",
       "jetblue                      thanks   1.46495                 @   1.20482   \n",
       "virginamerica                  http  0.980926                 @  0.817439   \n",
       "delta                         worst   2.02899           service   1.73913   \n",
       "spiritairlines                3days   3.44828     florida 3days   3.44828   \n",
       "staralliance                  weeks   2.12766         few weeks   2.12766   \n",
       "virginatlantic             solution         5             loyal         5   \n",
       "british_airways             tonight         5            anyone         5   \n",
       "expedia                     jetblue    4.7619  makingthingseasy    4.7619   \n",
       "southwest                  customer   5.26316           service   5.26316   \n",
       "gma                   worse airline   5.88235        experience   5.88235   \n",
       "silverairways    preferred security     3.125              line     3.125   \n",
       "aircanada            baggage person   16.6667        connecting   16.6667   \n",
       "\n",
       "major                      term N.5                     term N.6            \\\n",
       "minor                          term frequency               term frequency   \n",
       "united                       thanks  0.810874           customer  0.775872   \n",
       "usairways                     hours  0.971976           customer  0.922313   \n",
       "americanair                       @   1.00538              hours  0.918303   \n",
       "southwestair                      @   1.03396            service  0.946887   \n",
       "jetblue                     jetblue   1.04053               time  0.821468   \n",
       "virginamerica                thanks  0.762943            website  0.762943   \n",
       "delta                     customers   1.44928            airline   1.15942   \n",
       "spiritairlines                 real   3.44828           airlines   3.44828   \n",
       "staralliance                 bright   2.12766            vibrant   2.12766   \n",
       "virginatlantic             customer         5     loyal customer         5   \n",
       "british_airways                  aa         5              weeks         5   \n",
       "expedia                  feelbetter    4.7619               hour    4.7619   \n",
       "southwest          customer service   5.26316             flight   5.26316   \n",
       "gma              airline experience   5.88235               rude   5.88235   \n",
       "silverairways         security line     3.125                tsa     3.125   \n",
       "aircanada                    flight   16.6667  connecting flight   16.6667   \n",
       "\n",
       "major                  term N.7                 term N.8            \\\n",
       "minor                      term frequency           term frequency   \n",
       "united                    plane   0.74087            bag   0.74087   \n",
       "usairways                 plane  0.780419         thanks  0.759134   \n",
       "americanair            customer  0.807473           hold  0.680811   \n",
       "southwestair               time  0.827166       customer  0.816282   \n",
       "jetblue                    http  0.780394        service  0.753012   \n",
       "virginamerica              help  0.708447          great  0.653951   \n",
       "delta                      time   1.15942              @  0.869565   \n",
       "spiritairlines    real airlines   3.44828            fly   3.44828   \n",
       "staralliance     bright vibrant   2.12766     habitrails   2.12766   \n",
       "virginatlantic            funny         5            lhr         5   \n",
       "british_airways           today         5          miami         5   \n",
       "expedia                    hold    4.7619      hour hold    4.7619   \n",
       "southwest                policy   2.63158        serious   2.63158   \n",
       "gma                   unhelpful   5.88235           help   5.88235   \n",
       "silverairways         pre-check     3.125  tsa pre-check     3.125   \n",
       "aircanada                                                            \n",
       "\n",
       "major                    term N.9                   term N.10            \n",
       "minor                        term frequency              term frequency  \n",
       "united                     united  0.711702              gate  0.618364  \n",
       "usairways        customer service  0.744945              time  0.695282  \n",
       "americanair                  time  0.641229              call  0.625396  \n",
       "southwestair                 http  0.761863             thank  0.729212  \n",
       "jetblue                     plane  0.698248             great  0.684556  \n",
       "virginamerica             flights  0.653951              seat  0.599455  \n",
       "delta                        good  0.869565          anything  0.869565  \n",
       "spiritairlines             smalls   3.44828              glad   3.44828  \n",
       "staralliance                right   2.12766             thing   2.12766  \n",
       "virginatlantic               mean         5              time         5  \n",
       "british_airways                 i         5               bag         5  \n",
       "expedia                    ticket    4.7619              easy    4.7619  \n",
       "southwest                revision   2.63158  serious revision   2.63158  \n",
       "gma                      customer   5.88235           service   5.88235  \n",
       "silverairways             partner     3.125            flight     3.125  \n",
       "aircanada                                                                "
      ]
     },
     "execution_count": 694,
     "metadata": {},
     "output_type": "execute_result"
    }
   ],
   "source": [
    "#from IPython.display import display, HTML\n",
    "\n",
    "dataframes_dict = {}\n",
    "for company_name in knows_airlines:\n",
    "    terms_counts = Counter(grams_companies[company_name])\n",
    "    most_freq_terms = terms_counts.most_common(10)\n",
    "    total_counts = sum(terms_counts.values())\n",
    "    most_freq_terms = list(map(lambda x:(x[0],x[1]/total_counts*100), most_freq_terms)) +[(\"\",\"\")]*(10 - len(most_freq_terms))\n",
    "    \n",
    "    \n",
    "    index = [f\"term N.{i}\" for i in range(1,11)]\n",
    "    dataframes_dict[company_name] = pd.DataFrame(most_freq_terms, index=index,columns=[\"term\",\"frequency\"])\n",
    "\n",
    "    # second method\n",
    "    #df = pd.DataFrame(most_freq_terms, index=index,columns=[\"term\",\"frequency\"])\n",
    "    #df[\"frequency\"] = df[\"frequency\"] / total_counts*100\n",
    "    #display(HTML(df.transpose().to_html()))\n",
    "    \n",
    "pd.Panel(dataframes_dict).to_frame().transpose()        "
   ]
  },
  {
   "cell_type": "markdown",
   "metadata": {
    "colab_type": "text",
    "id": "QXpZ-qn8rOJO"
   },
   "source": [
    "##### Question 13. Que conclure de la table généré à la question 12 pour les compagnies ? (1 Pt)\n"
   ]
  },
  {
   "cell_type": "markdown",
   "metadata": {
    "colab": {},
    "colab_type": "code",
    "id": "UUNSgh4ZrOJO"
   },
   "source": [
    "Il n’est pas facile de tirer les conclusions directes, car la fréquence des mots est trop faible. Les termes spécifiques discriminants utilisés contre / en faveur de la compagnie sont donc difficiles. Le seul problème avec l'extraction de mots bigrammes ou de mots est que les entreprises ne peuvent pas déterminer la raison du sentiment; ils devront lire l'intégralité du tweet. Sauf dans certains cas où on peut en deviner la raison: par exemple, \"missed\" signifie probablement que l'auteur a raté son vol"
   ]
  },
  {
   "cell_type": "markdown",
   "metadata": {
    "colab_type": "text",
    "id": "AAM1lKQprOJP"
   },
   "source": [
    "# III/ Bonus (2 points)\n",
    "\n",
    "Les noms de personnes, les noms de sociétés et les emplacements sont appelés \"entités nommées\". La reconnaissance d'entité nommée (NER, pour *Named-entity recognition*) consiste à extraire les entités nommées en les classant à l'aide de catégories prédéfinies. Dans cette section bonus, vous utiliserez un outil de NER pour extraire automatiquement des entités nommées des tweets. Cette approche est suffisamment générique pour récupérer des informations sur d’autres sociétés ou même des noms de produits et de personnes.\n",
    "\n",
    "\n",
    "**Pour le bonus, vous êtes libres d'utiliser n'importe quel NER implémenté en Python.**"
   ]
  },
  {
   "cell_type": "markdown",
   "metadata": {
    "colab_type": "text",
    "id": "1u9F8lJZrOJP"
   },
   "source": [
    "##### Question Bonus 1.  Implémentez un code qui génère une table contenant le top 10 des NER de la base de données. (1 point)\n",
    "\n",
    "Cette table doit contenir les fréquences des entités nommées. Ensuite, générez un diagramme en bar qui montre le nombre de tweets positifs, négatifs ou neutres pour chacunes des 10 NER. Décrivez le résultat obtenu.\n"
   ]
  },
  {
   "cell_type": "code",
   "execution_count": 751,
   "metadata": {
    "colab": {},
    "colab_type": "code",
    "id": "YyXl7EPhrOJQ"
   },
   "outputs": [
    {
     "data": {
      "application/vnd.jupyter.widget-view+json": {
       "model_id": "b01437159eba4defa30652db90758904",
       "version_major": 2,
       "version_minor": 0
      },
      "text/plain": [
       "HBox(children=(IntProgress(value=0, max=10204), HTML(value='')))"
      ]
     },
     "metadata": {},
     "output_type": "display_data"
    }
   ],
   "source": [
    "#!pip install spacy\n",
    "#!python -m spacy download en\n",
    "\n",
    "import spacy\n",
    "import tqdm\n",
    "spacy_nlp = spacy.load('en')\n",
    "\n",
    "\n",
    "ner = []\n",
    "for tweet in tqdm.tqdm_notebook(train_X):\n",
    "    parsed_ner = spacy_nlp(re.sub(\"#|@\",\"\",tweet))\n",
    "\n",
    "    for element in parsed_ner.ents:\n",
    "        if element.label_ in [\"GPE\", \"ORG\", \"PERSON\"]:\n",
    "            ner.append(str(element).lower())"
   ]
  },
  {
   "cell_type": "code",
   "execution_count": 754,
   "metadata": {},
   "outputs": [
    {
     "data": {
      "text/html": [
       "<div>\n",
       "<style scoped>\n",
       "    .dataframe tbody tr th:only-of-type {\n",
       "        vertical-align: middle;\n",
       "    }\n",
       "\n",
       "    .dataframe tbody tr th {\n",
       "        vertical-align: top;\n",
       "    }\n",
       "\n",
       "    .dataframe thead th {\n",
       "        text-align: right;\n",
       "    }\n",
       "</style>\n",
       "<table border=\"1\" class=\"dataframe\">\n",
       "  <thead>\n",
       "    <tr style=\"text-align: right;\">\n",
       "      <th></th>\n",
       "      <th>term</th>\n",
       "      <th>frequency</th>\n",
       "    </tr>\n",
       "  </thead>\n",
       "  <tbody>\n",
       "    <tr>\n",
       "      <th>0</th>\n",
       "      <td>americanair</td>\n",
       "      <td>822</td>\n",
       "    </tr>\n",
       "    <tr>\n",
       "      <th>1</th>\n",
       "      <td>southwestair</td>\n",
       "      <td>688</td>\n",
       "    </tr>\n",
       "    <tr>\n",
       "      <th>2</th>\n",
       "      <td>virginamerica</td>\n",
       "      <td>276</td>\n",
       "    </tr>\n",
       "    <tr>\n",
       "      <th>3</th>\n",
       "      <td>jetblue</td>\n",
       "      <td>224</td>\n",
       "    </tr>\n",
       "    <tr>\n",
       "      <th>4</th>\n",
       "      <td>cancelled flightled</td>\n",
       "      <td>190</td>\n",
       "    </tr>\n",
       "    <tr>\n",
       "      <th>5</th>\n",
       "      <td>united</td>\n",
       "      <td>135</td>\n",
       "    </tr>\n",
       "    <tr>\n",
       "      <th>6</th>\n",
       "      <td>jfk</td>\n",
       "      <td>89</td>\n",
       "    </tr>\n",
       "    <tr>\n",
       "      <th>7</th>\n",
       "      <td>cancelled flighted</td>\n",
       "      <td>69</td>\n",
       "    </tr>\n",
       "    <tr>\n",
       "      <th>8</th>\n",
       "      <td>lax</td>\n",
       "      <td>64</td>\n",
       "    </tr>\n",
       "    <tr>\n",
       "      <th>9</th>\n",
       "      <td>us</td>\n",
       "      <td>62</td>\n",
       "    </tr>\n",
       "  </tbody>\n",
       "</table>\n",
       "</div>"
      ],
      "text/plain": [
       "                  term  frequency\n",
       "0          americanair        822\n",
       "1         southwestair        688\n",
       "2        virginamerica        276\n",
       "3              jetblue        224\n",
       "4  cancelled flightled        190\n",
       "5               united        135\n",
       "6                  jfk         89\n",
       "7   cancelled flighted         69\n",
       "8                  lax         64\n",
       "9                   us         62"
      ]
     },
     "execution_count": 754,
     "metadata": {},
     "output_type": "execute_result"
    }
   ],
   "source": [
    "df = pd.DataFrame(Counter(ner).most_common(10),columns=[\"term\",\"frequency\"])\n",
    "df"
   ]
  },
  {
   "cell_type": "code",
   "execution_count": 782,
   "metadata": {},
   "outputs": [
    {
     "data": {
      "application/vnd.jupyter.widget-view+json": {
       "model_id": "99da776624f54dea9b9c77cceae35388",
       "version_major": 2,
       "version_minor": 0
      },
      "text/plain": [
       "HBox(children=(IntProgress(value=1, bar_style='info', max=1), HTML(value='')))"
      ]
     },
     "metadata": {},
     "output_type": "display_data"
    }
   ],
   "source": [
    "from collections import defaultdict\n",
    "freqs_ner = defaultdict(lambda :defaultdict(int))\n",
    "for tweet, class_ in tqdm.tqdm_notebook(zip(train_X, train_Y)):\n",
    "    lower_tw = tweet.lower()\n",
    "    for ner_term in df.term.values:\n",
    "        if ner_term in lower_tw:\n",
    "            parsed_ner = spacy_nlp(re.sub(\"#|@\",\"\",tweet))\n",
    "            for element in parsed_ner.ents:\n",
    "                if str(element).lower() in df.term.values:\n",
    "                    freqs_ner[str(element)][class_]+=1\n",
    "            break"
   ]
  },
  {
   "cell_type": "code",
   "execution_count": 788,
   "metadata": {},
   "outputs": [
    {
     "data": {
      "text/plain": [
       "Text(0.5, 1.0, 'le nombre de tweets positifs, négatifs ou neutres pour chacunes des 10 NER')"
      ]
     },
     "execution_count": 788,
     "metadata": {},
     "output_type": "execute_result"
    },
    {
     "data": {
      "image/png": "[encoded data removed]",
      "text/plain": [
       "<Figure size 1080x360 with 1 Axes>"
      ]
     },
     "metadata": {
      "needs_background": "light"
     },
     "output_type": "display_data"
    }
   ],
   "source": [
    "df_req = pd.DataFrame(freqs_ner)\n",
    "df_req.index = [\"Negative\",\"Neutral\",\"Positive\"]\n",
    "df_req.plot.bar(figsize=(15,5),rot=0)\n",
    "plt.title(\"le nombre de tweets positifs, négatifs ou neutres pour chacunes des 10 NER\")"
   ]
  },
  {
   "cell_type": "markdown",
   "metadata": {},
   "source": [
    "Tout comme le diagramme fait à la question 11, cela aide énormément les compagnies aériennes à analyser leurs points faibles et points forts afin d'atteindre une certaine satisfaction des clients (passagers). En effet, par le biais de ce diagramme, nous pouvons déduire de prime à bord que le nombre de commentaires négatifs et largement supérieur au nombre de commentaires positifs ou neutres. Cela est très remarqué pour les deux compagnies AmericanAir et SouthwestAir. En même temps, la copagnie SouthwestAir connait le meilleur nombre de commentaires positifs et neutres dans la liste. Ce qui serait intéressant et de mesurer le ratio entre les commentaire négatifs et positifs/neutres afin d'avoir une métrique de comparaison entre les différentes compagnies aériennes."
   ]
  },
  {
   "cell_type": "markdown",
   "metadata": {
    "colab_type": "text",
    "id": "vDf8a5RErOJQ"
   },
   "source": [
    "##### Question Bonus 2. Générez une table similaire à la question 12 pour le top 10 des NER pour chaque compagnie. (1 point)\n",
    "\n",
    "Que peut-on conclure de ces résultats?"
   ]
  },
  {
   "cell_type": "code",
   "execution_count": null,
   "metadata": {},
   "outputs": [],
   "source": [
    "# TODO"
   ]
  }
 ],
 "metadata": {
  "colab": {
   "name": "TP1_INF8111_2019.ipynb",
   "provenance": []
  },
  "kernelspec": {
   "display_name": "Python 3",
   "language": "python",
   "name": "python3"
  },
  "language_info": {
   "codemirror_mode": {
    "name": "ipython",
    "version": 3
   },
   "file_extension": ".py",
   "mimetype": "text/x-python",
   "name": "python",
   "nbconvert_exporter": "python",
   "pygments_lexer": "ipython3",
   "version": "3.6.5"
  },
  "toc": {
   "base_numbering": 1,
   "nav_menu": {},
   "number_sections": false,
   "sideBar": true,
   "skip_h1_title": false,
   "title_cell": "Table of Contents",
   "title_sidebar": "Contents",
   "toc_cell": false,
   "toc_position": {},
   "toc_section_display": true,
   "toc_window_display": false
  }
 },
 "nbformat": 4,
 "nbformat_minor": 1
}
