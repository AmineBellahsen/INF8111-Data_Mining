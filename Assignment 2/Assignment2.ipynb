{
 "cells": [
  {
   "cell_type": "markdown",
   "metadata": {},
   "source": [
    "# INF8111 - Fouille de données\n",
    "\n",
    "\n",
    "## TP2 Automne 2019 - Extraction et analyse d'une base de données de tweets\n",
    "\n",
    "##### Membres de l'équipe:\n",
    "\n",
    "    - Amine BELLAHSEN\n",
    "    - Abderrahim KHALIFA\n",
    "    - Hamza SGHIR"
   ]
  },
  {
   "cell_type": "markdown",
   "metadata": {},
   "source": [
    "## Présentation du problème\n",
    "\n",
    "En 2017, Twitter compte 313 millions d’utilisateurs actifs par mois avec 500 millions de tweets envoyés par jour. Cette information est rendue disponible à destination de la recherche et du développement web grâce à une API publique qui permet de collecter les informations que l'on souhaite.\n",
    "\n",
    "Néanmoins, la politique de développement de Twitter limite le partage de ces données. En effet, le partage du contenu des tweets dans une base de données n'est pas autorisé, seuls les identifiants des tweets le sont. \n",
    "Pour partager publiquement une base de données de tweets que l'on a créée, il faut que cette base de données ne soit consituée que des identifiants de tweets, et c'est ce que l'on retrouve dans la plupart des jeux de données publiques.\n",
    "\n",
    "Il est donc nécessaire pour exploiter ces données \"d'hydrater\" les tweets en question, c'est-à-dire extraire l'ensemble des informations à partir de l'ID, ce qui demande d'utiliser l'API de Twitter.\n",
    "\n",
    "Nous allons ici utiliser des bases de données publiques créées par GWU (George Washington University), qui ont l'avantage d'être très récentes : \n",
    "https://dataverse.harvard.edu/dataverse/gwu-libraries\n",
    "\n",
    "Chaque base de données de GWU couvre un sujet précis (élection américaine de 2016, jeux olympiques, etc.), et les données ont été recueillis en appliquant des requêtes qui filtraient les résultats pour n'avoir que des tweets pertinents. Un fichier README est fourni avec chaque base de données pour donner les détails de création du *dataset*. \n",
    "\n",
    "\n",
    "**Les objectifs de ce TP sont donc les suivants :**\n",
    "\n",
    " 1. Construire un *crawler* qui collecte les informations d'un tweet à partir de son ID, avec le jeu de données de son choix et les informations pertinentes pour le sujet choisi\n",
    " 2. A partir de ces données de Twitter collectés, application de méthodes en Machine Learning (ML)/Natural Language Processing (NLP) pour fournir une analyse pertinente. \n",
    "\n",
    "\n",
    "Twitter autorisant le partage **local** des données (par exemple au sein d'un groupe de recherche), une base de données sera fournie si vous ne parvenez pas à créer la vôtre."
   ]
  },
  {
   "cell_type": "markdown",
   "metadata": {},
   "source": [
    "# I/ Hydratation de tweets à l'aide de l'API Twitter (4 Pts)"
   ]
  },
  {
   "cell_type": "markdown",
   "metadata": {},
   "source": [
    "### 1. Obtenir l'authorisation de Twitter pour l'utilisation de l'API"
   ]
  },
  {
   "cell_type": "markdown",
   "metadata": {},
   "source": [
    "Pour l'authentification, Twitter utilise OAuth : https://developer.twitter.com/en/docs/basics/authentication/overview/oauth\n",
    "Vous aurez ici besoin en particulier de OAuth2, car vous n'allez pas interagir avec des utilisateurs sur Twitter (simplement collectés des données).\n",
    "\n",
    "##### 1.1. Obtention d'un compte Twitter développeur\n",
    "\n",
    " La première étape nécessaire pour enregistrer votre application et de créer un compte Twitter développeur. Pour ce faire :\n",
    "\n",
    " - Créez un compte Twitter classique si vous n'en avez pas déjà un.\n",
    " \n",
    " - Sur le site, https://developer.twitter.com, cliquez sur *apply* pour obtenir un compte développeur. \n",
    " \n",
    " - Remplissez tous les champs nécessaires. Twitter demande beaucoup de détails sur l'utilisation que vous allez faire de ce compte, il est donc important d'expliquer la démarche en détail : il faut souligner le fait que le projet est **académique** (aucune intention commerciale, aucune publication des données collectés, etc.), expliquer les objectifs et l'apprentissage de ce TP (prise en main de l'API Twitter, l'application concrète de méthodes de Data Mining, etc.), mais aussi expliquer en détail ce que vous allez faire des données (en reprenant des consignes du sujet), les méthodes que vous allez appliquer (citez des méthodes vues en cours ou au précédent TP), le rendu fourni (insistez sur le fait que rien ne sera publique), etc. Pensez notamment à indiquer le nom du cours et le sigle du cours, le nom de l'établissement, mon nom (Théo Moins), etc. Cochez que vous n'utiliserez pas la fonctionnalité de Retweet, et que l'aggregation et l'affichage de tweets ne sera fait que dans un cadre pédagogique (non publique, et sous la forme d'un projet de recherche). Si jamais vous n'êtes pas assez précis, Twitter peut vous renvoyer un courriel pour vous demander des précisions. \n",
    "\n",
    "##### 1.2. Obtention d'un jeton d'accès\n",
    "\n",
    " - Lorsque Twitter aura validé votre demande de compte développeur, allez sur https://developer.twitter.com/en/apps pour créer une application (cliquer sur *create an app*)\n",
    "\n",
    "- Ici encore, des informations sont à fournir ici. Certaines, comme le nom ou le site internet, ne sont pas très importante, vous pouvez mettre un site internet factice si vous le souhaitez.\n",
    "\n",
    "- A la fin de ce processus, vous pouvez enfin obtenir les clés et les jetons pour utiliser l'API: allez sur la page de l'application pour créer les jetons. Vous devez récupérer une paire de clés et une paire de jetons pour passer à la suite.\n",
    "\n"
   ]
  },
  {
   "cell_type": "code",
   "execution_count": 59,
   "metadata": {},
   "outputs": [],
   "source": [
    "CONSUMER_KEY = \"aLLEXDaLKaWHIgR7qD14tmYFv\"\n",
    "CONSUMER_SECRET = \"9LprC6EanMyu4kMwQXeS1s43nhri5YUnv1CBSKVYTu80dnz75I\"\n",
    "\n",
    "oauth_token = \"1178352644953432065-c88IqyfTmkq9W1zvbWDOrUAgBvZrly\"\n",
    "oauth_secret = \"NH8fjSfJk3ITKnNPQ0x9BCeT3nIHBm7hJG7SuZMwfTLFI\""
   ]
  },
  {
   "cell_type": "markdown",
   "metadata": {},
   "source": [
    "###  2. Premiers pas avec Twython\n",
    "\n",
    "##### 2.1 Installation et import de la librairie\n"
   ]
  },
  {
   "cell_type": "markdown",
   "metadata": {},
   "source": [
    "Plusieurs librairies Python existent pour manipuler l'API Twitter. Aussi appelé *wrappers*, ce sont un ensemble de fonctions python qui appelle des fonctions de l'API. Parmi elles, nous utiliserons Twython, librairie répendue et activement maintenue.\n",
    "\n",
    "Documentation de Twython : https://twython.readthedocs.io/en/latest/api.html "
   ]
  },
  {
   "cell_type": "code",
   "execution_count": 60,
   "metadata": {},
   "outputs": [],
   "source": [
    "import csv\n",
    "import time\n",
    "import sys\n",
    "import pandas as pd\n",
    "\n",
    "try:\n",
    "    from twython import Twython, TwythonError, TwythonRateLimitError\n",
    "except ImportError:\n",
    "    !pip install --user twython"
   ]
  },
  {
   "cell_type": "markdown",
   "metadata": {},
   "source": [
    "##### 2.2 Création d'une application et premiers tests:"
   ]
  },
  {
   "cell_type": "code",
   "execution_count": 61,
   "metadata": {},
   "outputs": [],
   "source": [
    "twitter = Twython(CONSUMER_KEY, CONSUMER_SECRET, oauth_token, oauth_secret)"
   ]
  },
  {
   "cell_type": "markdown",
   "metadata": {},
   "source": [
    "Voici un test avec une recherche très simple pour vous assurer que la requête fonctionne.\n",
    "\n",
    "La fonction search renvoie une recherche (non exhaustive) de tweets, et l'option \"*popular*\" permet de retourner les résultats les plus populaires de la réponse. (documentation ici: https://developer.twitter.com/en/docs/tweets/search/api-reference/get-search-tweets)"
   ]
  },
  {
   "cell_type": "code",
   "execution_count": 62,
   "metadata": {},
   "outputs": [],
   "source": [
    "basic_search = twitter.search(q='python', result_type='popular')"
   ]
  },
  {
   "cell_type": "markdown",
   "metadata": {},
   "source": [
    "La fonction `search` renvoie un dictionnaire contenant la liste de tweets de la requête, et les métadonnées.\n",
    "\n",
    "Voici un exemple d'un résultat d'une recherche, observez ainsi toutes les données/métadonnées que contient un tweet et que vous pouvez extraire par la suite:"
   ]
  },
  {
   "cell_type": "code",
   "execution_count": 63,
   "metadata": {
    "scrolled": true
   },
   "outputs": [
    {
     "data": {
      "text/plain": [
       "{'created_at': 'Sat Nov 09 18:00:08 +0000 2019',\n",
       " 'id': 1193226783342157826,\n",
       " 'id_str': '1193226783342157826',\n",
       " 'text': 'Python took the silver from Java this year, becoming the #2 most popular programming language on GitHub by reposito… https://t.co/vfo8dRkCjc',\n",
       " 'truncated': True,\n",
       " 'entities': {'hashtags': [],\n",
       "  'symbols': [],\n",
       "  'user_mentions': [],\n",
       "  'urls': [{'url': 'https://t.co/vfo8dRkCjc',\n",
       "    'expanded_url': 'https://twitter.com/i/web/status/1193226783342157826',\n",
       "    'display_url': 'twitter.com/i/web/status/1…',\n",
       "    'indices': [117, 140]}]},\n",
       " 'metadata': {'result_type': 'popular', 'iso_language_code': 'en'},\n",
       " 'source': '<a href=\"https://sproutsocial.com\" rel=\"nofollow\">Sprout Social</a>',\n",
       " 'in_reply_to_status_id': None,\n",
       " 'in_reply_to_status_id_str': None,\n",
       " 'in_reply_to_user_id': None,\n",
       " 'in_reply_to_user_id_str': None,\n",
       " 'in_reply_to_screen_name': None,\n",
       " 'user': {'id': 13334762,\n",
       "  'id_str': '13334762',\n",
       "  'name': 'GitHub',\n",
       "  'screen_name': 'github',\n",
       "  'location': 'San Francisco, CA',\n",
       "  'description': 'How people build software. \\n\\nNeed help? Send us a message at https://t.co/YU5nzbpDIg for support.',\n",
       "  'url': None,\n",
       "  'entities': {'description': {'urls': [{'url': 'https://t.co/YU5nzbpDIg',\n",
       "      'expanded_url': 'http://git.io/c',\n",
       "      'display_url': 'git.io/c',\n",
       "      'indices': [61, 84]}]}},\n",
       "  'protected': False,\n",
       "  'followers_count': 1864859,\n",
       "  'friends_count': 307,\n",
       "  'listed_count': 15000,\n",
       "  'created_at': 'Mon Feb 11 04:41:50 +0000 2008',\n",
       "  'favourites_count': 4388,\n",
       "  'utc_offset': None,\n",
       "  'time_zone': None,\n",
       "  'geo_enabled': True,\n",
       "  'verified': True,\n",
       "  'statuses_count': 4874,\n",
       "  'lang': None,\n",
       "  'contributors_enabled': False,\n",
       "  'is_translator': False,\n",
       "  'is_translation_enabled': False,\n",
       "  'profile_background_color': 'EEEEEE',\n",
       "  'profile_background_image_url': 'http://abs.twimg.com/images/themes/theme1/bg.png',\n",
       "  'profile_background_image_url_https': 'https://abs.twimg.com/images/themes/theme1/bg.png',\n",
       "  'profile_background_tile': False,\n",
       "  'profile_image_url': 'http://pbs.twimg.com/profile_images/1157035760085684224/iuxTnT5g_normal.jpg',\n",
       "  'profile_image_url_https': 'https://pbs.twimg.com/profile_images/1157035760085684224/iuxTnT5g_normal.jpg',\n",
       "  'profile_banner_url': 'https://pbs.twimg.com/profile_banners/13334762/1540567602',\n",
       "  'profile_link_color': '981CEB',\n",
       "  'profile_sidebar_border_color': 'BBBBBB',\n",
       "  'profile_sidebar_fill_color': 'DDDDDD',\n",
       "  'profile_text_color': '000000',\n",
       "  'profile_use_background_image': False,\n",
       "  'has_extended_profile': False,\n",
       "  'default_profile': False,\n",
       "  'default_profile_image': False,\n",
       "  'following': False,\n",
       "  'follow_request_sent': False,\n",
       "  'notifications': False,\n",
       "  'translator_type': 'none'},\n",
       " 'geo': None,\n",
       " 'coordinates': None,\n",
       " 'place': None,\n",
       " 'contributors': None,\n",
       " 'is_quote_status': False,\n",
       " 'retweet_count': 736,\n",
       " 'favorite_count': 1877,\n",
       " 'favorited': False,\n",
       " 'retweeted': False,\n",
       " 'possibly_sensitive': False,\n",
       " 'lang': 'en'}"
      ]
     },
     "execution_count": 63,
     "metadata": {},
     "output_type": "execute_result"
    }
   ],
   "source": [
    "basic_search['statuses'][0]"
   ]
  },
  {
   "cell_type": "markdown",
   "metadata": {},
   "source": [
    "Il est également possible avec Twython de récupérer les informations d'un tweet à partir de son ID. \n",
    "\n",
    "#### Question 1. Afficher la date, le nom d'utilisateur et le contenu du tweet ayant l'ID : 1157345692517634049 (0.5 Pts)\n",
    "\n",
    "*Indice : vous pourrez utiliser avec la fonction de twython `show_status`*"
   ]
  },
  {
   "cell_type": "code",
   "execution_count": 7,
   "metadata": {
    "scrolled": true
   },
   "outputs": [
    {
     "name": "stdout",
     "output_type": "stream",
     "text": [
      "Date : Fri Aug 02 17:41:30 +0000 2019\n",
      "\n",
      "Nom d'utilisateur : Donald J. Trump\n",
      "\n",
      "Contenu du tweet : A$AP Rocky released from prison and on his way home to the United States from Sweden. It was a Rocky Week, get home ASAP A$AP!\n",
      "\n"
     ]
    }
   ],
   "source": [
    "test_id = \"1157345692517634049\"\n",
    "tweet = twitter.show_status(id=test_id)\n",
    "print(\"Date : {}\\n\".format(tweet[\"created_at\"]))\n",
    "print(\"Nom d'utilisateur : {}\\n\".format(tweet[\"user\"][\"name\"]))\n",
    "print(\"Contenu du tweet : {}\\n\".format(tweet[\"text\"]))"
   ]
  },
  {
   "cell_type": "markdown",
   "metadata": {},
   "source": [
    "**Attention** : Twitter a une limitation de requête par fenêtre de 15 minutes, qui est donc à prendre en compte dans la base de données : https://developer.twitter.com/en/docs/basics/rate-limiting.html"
   ]
  },
  {
   "cell_type": "markdown",
   "metadata": {},
   "source": [
    "### 3. Hydratation d'une base de donnée de tweets\n",
    "\n",
    "Les choses sérieuses commencent ! \n",
    "\n",
    "On souhaite désormais construire une fonction `hydrate_database` qui, à partir d'un fichier texte contenant une liste d'ID de tweets, créer un fichier csv contenant les informations que l'on souhaite extraire. \n",
    "\n",
    "Due à la limitation de requête, la fonction `show_status` vue plus haut s'avère peu efficace pour cette tâche : à raison de 900 requêtes pour 15 minutes, il sera beaucoup trop long de construire une base de données un tant soit peu conséquente. La fonction `lookup_status` (voir documentation) sera donc plus adaptée. Elle permettra d'hydrater 100 tweets par requête, ce qui, a raison d'une limite de 900 requêtes pour 15 minutes, rends la construction de la base de données plus réaliste. Il faudra tout de même gérer l'erreur générer par la limitation, si l'on souhaite avoir plus de 90000 tweets ou si l'on appelle plusieurs fois la fonction en moins de 15 minutes.\n",
    "\n",
    "#### Question 2. Implémenter la fonction `hydrate_database` (3.5 Pts)\n",
    "\n",
    "*Attention : Il faut également gérer le cas où la feature demandée n'est pas une clé du dictionnaire mais une \"sous-clé\", comme c'est le cas pour le nom d'utilisateur par exemple (accessible dans la feature *user*, qui lui même est un dictionnaire). Un moyen simple pour pallier à ce problème consiste à considérer la feature comme une liste, qui contiendrait la clé et les sous-clés si il y a lieu (voir exemple plus bas)\n",
    "\n",
    "*Indice : La fonction `sleep` du module time permet de patienter le temps nécessaire*"
   ]
  },
  {
   "cell_type": "code",
   "execution_count": 84,
   "metadata": {
    "scrolled": true
   },
   "outputs": [],
   "source": [
    "def hydrate_database(filename, database_name, \n",
    "                     features, nb_requests, \n",
    "                     tweet_hydratation_limit=100):\n",
    "    \"\"\"\n",
    "    Create a csv file that contains features of tweets from an file that contains ID of tweets.\n",
    "    \n",
    "    filename: Name of the file that contains ids\n",
    "    database_name: name of the file that will be created\n",
    "    features: List of features\n",
    "    nb_requests: number of time the function lookup_status will be called\n",
    "    tweet_hydratation_limit:\n",
    "    \"\"\"\n",
    "    from itertools import islice\n",
    "    from time import sleep\n",
    "    \n",
    "    # Opening the ID File:\n",
    "    file = open(filename, \"r\")\n",
    "    print(\"File to hydrate: \" + filename+\"\\n\")\n",
    "    print(\"Number of requests: \"+ str(nb_requests)+\"\\n\")\n",
    "    \n",
    "    # Creation of the file that will contain the hydrated tweets:\n",
    "    hydrated_tweets = pd.DataFrame(columns=['_'.join(i) for i in features])\n",
    "            \n",
    "    n = 1\n",
    "    while n <= nb_requests :\n",
    "        try:# TODO\n",
    "            if n % 50 == 0:\n",
    "                print(\"Number of done requests: \"+ str(n))\n",
    "            tweet_ids = list(map(lambda x:x.strip(), islice(file, 10)))\n",
    "            tweet_status = twitter.lookup_status(id=tweet_ids)\n",
    "            for tweet in tweet_status:\n",
    "                l = []\n",
    "                for i in range(len(features)):\n",
    "                    r = tweet[features[i][0]]\n",
    "                    if len(features[i]) >1:\n",
    "                        for j in features[i][1:]:\n",
    "                            r = r[j]\n",
    "                    l.append(r)\n",
    "                        \n",
    "                hydrated_tweets.loc[len(hydrated_tweets)] = l\n",
    "            n += 1\n",
    "            \n",
    "        except TwythonError as e:\n",
    "            if isinstance(e, TwythonRateLimitError):\n",
    "                retry_after = int(e.retry_after)\n",
    "                sleep(900)\n",
    "            \n",
    "    file.close()\n",
    "    hydrated_tweets.to_csv (database_name, index = None, header=True)\n",
    "    print(\"\\n\")\n",
    "    print(\"File \" + filename + \" Hydrated. :)\")"
   ]
  },
  {
   "cell_type": "markdown",
   "metadata": {},
   "source": [
    "Utilisez le fichier suivant en guise d'example : \n",
    "https://dataverse.harvard.edu/file.xhtml?persistentId=doi:10.7910/DVN/5QCCUU/QPYP8G&version=1.1\n",
    "\n",
    "On suppose qu'on ne souhaite garder que le texte (*text*) l'ID de l'utilisateur (*user/screen_name*)"
   ]
  },
  {
   "cell_type": "code",
   "execution_count": 66,
   "metadata": {},
   "outputs": [
    {
     "name": "stdout",
     "output_type": "stream",
     "text": [
      "File to hydrate: gwu/climate_id.txt\n",
      "\n",
      "Number of requests: 400\n",
      "\n",
      "Number of done requests: 50\n",
      "Number of done requests: 100\n",
      "Number of done requests: 150\n",
      "Number of done requests: 200\n",
      "Number of done requests: 250\n",
      "Number of done requests: 300\n",
      "Number of done requests: 350\n",
      "Number of done requests: 400\n",
      "\n",
      "\n",
      "File gwu/climate_id.txt Hydrated. :)\n"
     ]
    }
   ],
   "source": [
    "filename = \"gwu/climate_id.txt\"\n",
    "database_name = \"databases/climate.csv\"\n",
    "features = [['text'], ['user', 'screen_name']]\n",
    "nb_requests = 400\n",
    "\n",
    "hydrate_database(filename, database_name, features, nb_requests, tweet_hydratation_limit=100)"
   ]
  },
  {
   "cell_type": "markdown",
   "metadata": {},
   "source": [
    "# II/ Analyse d'une base de données au choix (16 pts)\n",
    "\n",
    "Maintenant que vous êtes en mesure d'hydrater une base de données de tweets efficacement et en prenant en compte les limitations de Twitter, vous pouvez l'appliquer sur le *dataset* qui vous intéresse le plus.\n",
    "\n",
    "### 1. Instructions\n",
    "\n",
    "Dans cette partie, vous allez mener **entièrement** de vous-même un projet de *Data Science*, c'est à dire de la collecte des données jusqu'à l'interprétation des résultats. 3 sujets sont proposés, vous devez choisir celui qui vous intéresse le plus parmi :\n",
    " \n",
    " 1. Analyse de sentiments pour la prédiction des résultats de l'élection américaine. \n",
    "    \n",
    "    **Dataset :** \"2016 United States Presidential Election Tweet Ids\", https://doi.org/10.7910/DVN/PDI7IN  \n",
    "    \n",
    "    **Précision :** Ce sujet est assez similaire au TP1 (avec ici sentiment = parti politique), vous êtes donc libre de reprendre ce que vous aviez fait. Cependant, il faudrait aller un peu plus en profondeur ici, par exemple sur l'étape de la classification. De plus, vous avez ici une nouvelle problématique qui est que vos données ne sont pas labellisés (mais la construction des collections devrait vous permettre de labelliser vous-même).\n",
    " \n",
    " \n",
    " 2. Détection de discours d'incitation à la haine.\n",
    "    \n",
    "    **Dataset :** Modifier votre fonction d'hydratation en utilisant la fonction search pour n'avoir que des tweets récents.\n",
    " \n",
    "     **Précision :** Ce sujet pourrait également être abordé de la même manière que le TP1 : des étapes de preprocessing + de la classification. Néanmoins, dans ce cas, posséder des données avec des labels \"incitant à la haine\"/\"n'insite pas à la haine\" est beaucoup plus complexe, car beaucoup de bases de données étiquetés, lors de l'hydratation, se trouveront être quasi-vide, car les tweets auront été supprimés au moment où nous ferons notre requête (car Twitter veille aussi à la suppression de tweets haineux). C'est pourquoi vous êtes obligés de créer une base de données avec des tweets les plus récents possibles, avant qu'ils ne soient potentiellement supprimés. Pour désigner un tweet comme haineux, une méthode serait la détection de vocabulaire haineux, par exemple avec `hatebase.org`, qui propose des larges bases de données très complètes. Vous pouvez créer un compte sur le site pour avoir accès à l'API, et ensuite utiliser cette librairie pour Python : https://github.com/DanielJDufour/hatebase. En modifiant la requête pour n'avoir que des tweets contenant ce vocabulaire, et en le mêlant à de l'analyse de sentiment, vous pourrez obtenir des résultats à analyser. Vous pourriez aussi avoir une approche \"utilisateur\" pour rechercher des tweets haineux : lorsqu'un tweet est détecter comme haineux, inspecter l'ensemble des tweets de l'utilisateur et/ou de ses *followers*. En bref, beaucoup de possibilités, mais ce sujet est le plus complexe des trois. Je serai donc moins exigeant sur les résultats 'chiffrés', l'important ici étant plus l'analyse, et le fait d'avoir une approche cohérente (il est également très important de prendre le temps de réfléchir à une définition claire de \"haineux\").\n",
    "\n",
    "\n",
    " 3. Méthodes de clusterings appliqué au tweet sur l'actualité, et analyse des résultats. \n",
    "    \n",
    "    **Dataset :** \"News Outlet Tweet Ids\", https://doi.org/10.7910/DVN/2FIFLH\n",
    "\n",
    "    **Précision :** Application de méthodes de preprocessing, puis de méthodes de clustering pour regrouper les tweets qui mentionnent la même actualité ou catégorie d'actualité (au choix!), puis visualisation, étude en fonction du temps...  Vous devrez trouver quelle est la meilleur méthode de clustering, et celle-ci dépendra de votre approche (nombre de classes connu ? si oui, combien de classes?). \n",
    "    \n",
    "    \n",
    "Vous êtes entièrement libre sur l'ensemble du processus (choix des informations extraites, méthodes en ML, librairie, etc.). Ici seul les bases de données en elle-même sont rigoureusement imposés. Les précisions faites ici servent juste pour vous guider un peu si vous le souhaitez, mais si vous avez d'autres idées n'hésitez pas ! Ces sujets étant populaires au sein de la communauté scientifique, vous pouvez (**seulement si vous le souhaitez**) vous inspirer d'articles de la littérature, à condition de le citer dans votre rapport et de faire votre propre implémentation. \n",
    "\n",
    "#### L'objectif cependant ici n'est pas d'obtenir l'état de l'art, mais d'appliquer une méthodologie claire et rigoureuse que vous aurez construite vous-même. \n",
    "\n",
    "Les datasets étant massifs, il est fortement déconseillé de faire une base de données contenant tous les tweets hydratés (par exemple, les auteurs de la BDD n°1 soulignent qu'avec les limitations de l'API cela vous prendrait environ 32 jours). C'est à vous de voir quelle est la taille du dataset dont vous avez besoin.\n",
    "\n",
    "Pensez aussi à lire le fichier README correspondant à la base que vous avez choisi, afin de vous aider à mieux comprendre vos futurs résultats.\n",
    "\n",
    "### 2. Rédaction d'un rapport\n",
    "\n",
    "Pour ce TP, vous allez devoir fournir un rapport qui détail et justifie l'ensemble de votre méthode, et qui fournisse les résultats que vous avez obtenus. Les éléments suivants doivent y apparaitre (cela peut vous servir de plan, mais ce n'est pas rigide) :\n",
    "\n",
    "- Titre du projet, et nom de l'ensemble des membres de l'équipe (avec mail et matricule)\n",
    "    \n",
    "- **Introduction** : résumé du problème, de la méthodologie et des résultats obtenus.\n",
    "\n",
    "- **Présentation du dataset** : description, justification de la taille, du choix des features, etc. \n",
    "\n",
    "- **Preprocessing** : s'il y en a, justification des étapes de preprocessing.\n",
    "\n",
    "- **Methodologie** : description et justification de l'ensemble des choix (algorithmes, hyper-paramètres, régularisation, métriques, etc.)\n",
    "\n",
    "- **Résultats** : analyse des résultats obtenus (utilisez des figures pour illustrer), mise en relation entre les choix de design et la performance obtenue.\n",
    "\n",
    "- **Discussion** : discutez des avantages et des inconvénients de votre approche; quels sont les faiblesses, les failles ? Qu'est-ce qu'il peut être amélioré ? Vous pouvez également suggérer des futures idées d'exploration.\n",
    "\n",
    "- **Références** : si vous vous êtes inspiré d'une étude déjà faite.\n",
    "    \n",
    "Vous pouvez utiliser le template d'arXiv pour le rapport : https://fr.overleaf.com/latex/templates/style-and-template-for-preprints-arxiv-bio-arxiv/fxsnsrzpnvwc. **L'ensemble du rapport ne doit cependant pas excéder 5 pages, figures et références compris.** Les 5 pages ne sont pas obligatoires, si vous estimez que moins est suffisant et que votre rapport est effectivement complet, vous ne serez pas pénalisé.\n",
    "\n",
    "\n",
    "### 3. Rendu attendu\n",
    "\n",
    "A la fin du TP, vous soumettrez un fichier *zip* contenant les éléments suivants:\n",
    "\n",
    "- Le fichier *pdf* du rapport\n",
    "- Ce notebook que vous aurez complété. Vous pouvez également implémenter votre méthode à la suite ici, ou alors utiliser un autre fichier si vous le souhaitez. Bien que seul le rapport servira pour la notation, ayez un code commenté et clair !\n",
    "- Ne pas envoyer les fichiers de données, car trop conséquent. Avec le rapport et le code, tout sera détaillé et il sera possible de les refaire facilement.\n",
    "\n",
    "### 4. Evalutation\n",
    "\n",
    "12 points de cette partie sera basé sur la méthodologie, et 4 points sur les résultats.\n",
    "\n",
    "La notation sur la méthodologie inclus : \n",
    "\n",
    "- La pertinence de l'ensemble des étapes de l'approche\n",
    "\n",
    "- La bonne description des algorithmes choisis\n",
    "\n",
    "- La justification judicieuse des choix établis\n",
    "\n",
    "- Une analyse pertinente des résultats\n",
    "\n",
    "- La clarté et l'organisation du rapport (figures, tables) et du code.\n",
    "\n",
    "\n",
    "Pour ce qui est des résultats, il est impossible de mettre un barème fixe car ils vont dépendre du sujet que vous allez choisir. C'est un problème auquel vous serez confrontés : chaque étude étant spécifique, il peut être compliqué d'évaluer qualitativement un modèle, d'autant que vous n'avez sans doute pas connaissance de l'état de l'art. C'est pourquoi il va être important de faire plusieurs essais, et de comparer différentes méthodes. Ainsi, les résultats doivent être cohérent avec la complexité de votre implémentation : un modèle simple et naïf vous fournira des premiers résultats, que vous devrez ensuite améliorer avec des modèles plus précis et complexes.\n",
    "\n",
    "De ce fait, l'ensemble des points pour les résultats seront donnés si : \n",
    " - Vous obtenez des premiers résultats avec une méthode naïve qui témoignent de la pertinence de vos choix \n",
    " - Ces résultats sont ensuite améliorés avec une méthode plus complexe\n",
    " "
   ]
  },
  {
   "cell_type": "markdown",
   "metadata": {},
   "source": [
    "# Data aquisition & preprocessing"
   ]
  },
  {
   "cell_type": "code",
   "execution_count": 32,
   "metadata": {},
   "outputs": [
    {
     "name": "stdout",
     "output_type": "stream",
     "text": [
      "File to hydrate: ./elections/republican-convention-filter.txt\n",
      "\n",
      "Number of requests: 400\n",
      "\n",
      "Number of done requests: 50\n",
      "Number of done requests: 100\n",
      "Number of done requests: 150\n",
      "Number of done requests: 200\n",
      "Number of done requests: 250\n",
      "Number of done requests: 300\n",
      "Number of done requests: 350\n",
      "Number of done requests: 400\n",
      "\n",
      "\n",
      "File ./elections/republican-convention-filter.txt Hydrated. :)\n",
      "\n",
      "----------------------------\n",
      "\n",
      "File to hydrate: ./elections/democratic-convention-filter.txt\n",
      "\n",
      "Number of requests: 400\n",
      "\n",
      "Number of done requests: 50\n",
      "Number of done requests: 100\n",
      "Number of done requests: 150\n",
      "Number of done requests: 200\n",
      "Number of done requests: 250\n",
      "Number of done requests: 300\n",
      "Number of done requests: 350\n",
      "Number of done requests: 400\n",
      "\n",
      "\n",
      "File ./elections/democratic-convention-filter.txt Hydrated. :)\n",
      "\n",
      "----------------------------\n",
      "\n",
      "File to hydrate: ./elections/democratic-candidate-timelines.txt\n",
      "\n",
      "Number of requests: 400\n",
      "\n",
      "Number of done requests: 50\n",
      "Number of done requests: 100\n",
      "Number of done requests: 150\n",
      "Number of done requests: 200\n",
      "Number of done requests: 250\n",
      "Number of done requests: 300\n",
      "Number of done requests: 350\n",
      "Number of done requests: 400\n",
      "\n",
      "\n",
      "File ./elections/democratic-candidate-timelines.txt Hydrated. :)\n",
      "\n",
      "----------------------------\n",
      "\n",
      "File to hydrate: ./elections/election-day.txt\n",
      "\n",
      "Number of requests: 400\n",
      "\n",
      "Number of done requests: 50\n",
      "Number of done requests: 100\n",
      "Number of done requests: 150\n",
      "Number of done requests: 200\n",
      "Number of done requests: 250\n",
      "Number of done requests: 300\n",
      "Number of done requests: 350\n",
      "Number of done requests: 400\n",
      "\n",
      "\n",
      "File ./elections/election-day.txt Hydrated. :)\n",
      "\n",
      "----------------------------\n",
      "\n",
      "File to hydrate: ./elections/republican-candidate-timelines.txt\n",
      "\n",
      "Number of requests: 400\n",
      "\n",
      "Number of done requests: 50\n",
      "Number of done requests: 100\n",
      "Number of done requests: 150\n",
      "Number of done requests: 200\n",
      "Number of done requests: 250\n",
      "Number of done requests: 300\n",
      "Number of done requests: 350\n",
      "Number of done requests: 400\n",
      "\n",
      "\n",
      "File ./elections/republican-candidate-timelines.txt Hydrated. :)\n",
      "\n",
      "----------------------------\n",
      "\n",
      "File to hydrate: ./elections/democratic-party-timelines.txt\n",
      "\n",
      "Number of requests: 400\n",
      "\n",
      "Number of done requests: 50\n",
      "Number of done requests: 100\n",
      "Number of done requests: 150\n",
      "Number of done requests: 200\n",
      "Number of done requests: 250\n",
      "Number of done requests: 300\n",
      "Number of done requests: 350\n",
      "Number of done requests: 400\n",
      "\n",
      "\n",
      "File ./elections/democratic-party-timelines.txt Hydrated. :)\n",
      "\n",
      "----------------------------\n",
      "\n",
      "File to hydrate: ./elections/republican-party-timelines.txt\n",
      "\n",
      "Number of requests: 400\n",
      "\n",
      "Number of done requests: 50\n",
      "Number of done requests: 100\n",
      "Number of done requests: 150\n",
      "Number of done requests: 200\n",
      "Number of done requests: 250\n",
      "Number of done requests: 300\n",
      "Number of done requests: 350\n",
      "Number of done requests: 400\n",
      "\n",
      "\n",
      "File ./elections/republican-party-timelines.txt Hydrated. :)\n",
      "\n",
      "----------------------------\n",
      "\n"
     ]
    }
   ],
   "source": [
    "import os\n",
    "\n",
    "for filename in os.listdir(\"./elections/\") : \n",
    "    database_name = \"./databases/\"+filename[:-3]+'csv'\n",
    "    features = [['text'], ['id']]\n",
    "    if \"election-day\" in filename[:-3]:\n",
    "        # In order to make predictions on locations  \n",
    "        features = [['text'], ['id'], ['user','location'], ['user', 'screen_name']]\n",
    "    nb_requests = 400\n",
    "    hydrate_database(\"./elections/\"+filename, database_name, features, nb_requests, tweet_hydratation_limit=100)\n",
    "    print(\"\\n----------------------------\\n\")"
   ]
  },
  {
   "cell_type": "code",
   "execution_count": 1,
   "metadata": {},
   "outputs": [],
   "source": [
    "import string\n",
    "import re\n",
    "import pickle\n",
    "import nltk\n",
    "from nltk.corpus import stopwords\n",
    "from nltk.corpus import words\n",
    "from nltk.stem import PorterStemmer\n",
    "from stop_words import get_stop_words\n",
    "\n",
    "import numpy as np\n",
    "import os\n",
    "import pandas as pd\n",
    "from collections import Counter\n",
    "\n",
    "from sklearn.model_selection import train_test_split\n",
    "from sklearn.pipeline import Pipeline\n",
    "from sklearn.model_selection import RandomizedSearchCV, GridSearchCV\n",
    "import time\n",
    "from sklearn.feature_extraction.text import CountVectorizer\n",
    "from sklearn.feature_extraction.text import TfidfTransformer\n",
    "from sklearn.linear_model import LogisticRegression\n",
    "from sklearn.linear_model import SGDClassifier\n",
    "from sklearn.ensemble import RandomForestClassifier\n",
    "from sklearn.naive_bayes import MultinomialNB"
   ]
  },
  {
   "cell_type": "markdown",
   "metadata": {},
   "source": [
    "# Labelisation des données"
   ]
  },
  {
   "cell_type": "markdown",
   "metadata": {},
   "source": [
    "Création de la base de données "
   ]
  },
  {
   "cell_type": "code",
   "execution_count": 2,
   "metadata": {},
   "outputs": [
    {
     "name": "stdout",
     "output_type": "stream",
     "text": [
      "election-day.csv\n",
      "republican-party-timelines.csv\n",
      "democratic-convention-filter.csv\n",
      "republican-convention-filter.csv\n",
      "republican-candidate-timelines.csv\n",
      "democratic-party-timelines.csv\n",
      "democratic-candidate-timelines.csv\n",
      "climate.csv\n",
      "[0 1]\n"
     ]
    }
   ],
   "source": [
    "\n",
    "db_dir = \"./databases/\"\n",
    "features = [['text'], ['id']]\n",
    "\n",
    "column_names = ['_'.join(name) for name in features]+['label']\n",
    "\n",
    "df = pd.DataFrame(columns = column_names)\n",
    "for filename in os.listdir(db_dir):\n",
    "    print(filename)\n",
    "    if filename[:10] == 'republican' :\n",
    "        buffer_df = pd.read_csv(db_dir+filename) \n",
    "        buffer_df.columns = column_names[:-1]\n",
    "        buffer_df['label'] = 0\n",
    "        df = pd.concat([df,buffer_df], axis = 0)\n",
    "    if filename[:10] == 'democratic' :\n",
    "        buffer_df = pd.read_csv(db_dir+filename) \n",
    "        buffer_df.columns = column_names[:-1]\n",
    "        buffer_df['label'] = 1\n",
    "        df = pd.concat([df,buffer_df], axis = 0)\n",
    "        \n",
    "print(df.label.unique())"
   ]
  },
  {
   "cell_type": "code",
   "execution_count": 3,
   "metadata": {},
   "outputs": [
    {
     "data": {
      "text/html": [
       "<div>\n",
       "<style scoped>\n",
       "    .dataframe tbody tr th:only-of-type {\n",
       "        vertical-align: middle;\n",
       "    }\n",
       "\n",
       "    .dataframe tbody tr th {\n",
       "        vertical-align: top;\n",
       "    }\n",
       "\n",
       "    .dataframe thead th {\n",
       "        text-align: right;\n",
       "    }\n",
       "</style>\n",
       "<table border=\"1\" class=\"dataframe\">\n",
       "  <thead>\n",
       "    <tr style=\"text-align: right;\">\n",
       "      <th></th>\n",
       "      <th>text</th>\n",
       "      <th>id</th>\n",
       "      <th>label</th>\n",
       "    </tr>\n",
       "  </thead>\n",
       "  <tbody>\n",
       "    <tr>\n",
       "      <th>0</th>\n",
       "      <td>What do you call a $400 million cash payment t...</td>\n",
       "      <td>796115841788026881</td>\n",
       "      <td>0</td>\n",
       "    </tr>\n",
       "    <tr>\n",
       "      <th>1</th>\n",
       "      <td>Today, we need your vote. Get out and VOTE, Re...</td>\n",
       "      <td>796119115719208964</td>\n",
       "      <td>0</td>\n",
       "    </tr>\n",
       "    <tr>\n",
       "      <th>2</th>\n",
       "      <td>Watch @RepMimiWalters discuss our plan to addr...</td>\n",
       "      <td>767006269999767552</td>\n",
       "      <td>0</td>\n",
       "    </tr>\n",
       "    <tr>\n",
       "      <th>3</th>\n",
       "      <td>.@HillaryClinton’s candidacy began “expecting ...</td>\n",
       "      <td>785870830769102850</td>\n",
       "      <td>0</td>\n",
       "    </tr>\n",
       "    <tr>\n",
       "      <th>4</th>\n",
       "      <td>As Trump rises, Clinton’s cookie cutter campai...</td>\n",
       "      <td>778604923508305920</td>\n",
       "      <td>0</td>\n",
       "    </tr>\n",
       "  </tbody>\n",
       "</table>\n",
       "</div>"
      ],
      "text/plain": [
       "                                                text                  id label\n",
       "0  What do you call a $400 million cash payment t...  796115841788026881     0\n",
       "1  Today, we need your vote. Get out and VOTE, Re...  796119115719208964     0\n",
       "2  Watch @RepMimiWalters discuss our plan to addr...  767006269999767552     0\n",
       "3  .@HillaryClinton’s candidacy began “expecting ...  785870830769102850     0\n",
       "4  As Trump rises, Clinton’s cookie cutter campai...  778604923508305920     0"
      ]
     },
     "execution_count": 3,
     "metadata": {},
     "output_type": "execute_result"
    }
   ],
   "source": [
    "df.head(5)"
   ]
  },
  {
   "cell_type": "code",
   "execution_count": 4,
   "metadata": {},
   "outputs": [
    {
     "data": {
      "text/plain": [
       "False"
      ]
     },
     "execution_count": 4,
     "metadata": {},
     "output_type": "execute_result"
    }
   ],
   "source": [
    "# Is there any missing data \n",
    "df.text.isnull().values.any()\n"
   ]
  },
  {
   "cell_type": "code",
   "execution_count": 5,
   "metadata": {},
   "outputs": [],
   "source": [
    "X, y = df.loc[:,'text'], df.loc[:,'label']\n",
    "y=y.astype('int')"
   ]
  },
  {
   "cell_type": "markdown",
   "metadata": {},
   "source": [
    "## Processing"
   ]
  },
  {
   "cell_type": "code",
   "execution_count": 6,
   "metadata": {},
   "outputs": [],
   "source": [
    "\n",
    "class TwitterPreprocessing(object):\n",
    "\n",
    "    def handle_urls(self, tweet):\n",
    "        tweet = re.sub(r'(https:|http:)?\\/\\/t.co\\/[a-zA-Z0-9]+', ' __URL__ ', str(tweet))\n",
    "        return tweet\n",
    "    \n",
    "    def handle_numbers(self, tweet):\n",
    "        tweet = re.sub(r'\\b\\d+\\b', ' __NBR__ ', tweet)\n",
    "        return tweet\n",
    "        \n",
    "    def handle_tags(self, tweet):\n",
    "        tweet = re.sub(r'@(\\S+)', r'\\1', tweet)\n",
    "        return tweet\n",
    "    \n",
    "    def handle_hashtags(self, tweet):\n",
    "        tweet = re.sub(r'#(\\S+)', r'\\1', tweet)\n",
    "        return tweet\n",
    "\n",
    "    def handle_and(self, tweet):\n",
    "        return tweet.replace(\"&amp;\", \"&\")\n",
    "    \n",
    "    def handle_ponctuation(self,tweet):\n",
    "            # Remove punctuation\n",
    "        tweet = tweet.strip('\\'\"?!,.():;')\n",
    "        return tweet\n",
    "    \n",
    "    def handle_emojis(self, tweet):\n",
    "        # taken from https://github.com/abdulfatir/twitter-sentiment-analysis/blob/master/code/preprocess.py\n",
    "        # Smile --\n",
    "        tweet = re.sub(r'(:-\\)|\\(-:|:\\'\\))', ' __EMO_POS__ ', tweet)\n",
    "        # Laugh -- \n",
    "        tweet = re.sub(r'(:-?D|x-?D|X-?D)', ' __EMO_POS__ ', tweet)\n",
    "        # Love -- \n",
    "        tweet = re.sub(r'(<3|:\\*)', ' __EMO_POS__ ', tweet)\n",
    "        # Wink -- \n",
    "        tweet = re.sub(r'(;-?\\)|;-?D|\\(-?;)', ' __EMO_POS__ ', tweet)\n",
    "        # Sad -- \n",
    "        tweet = re.sub(r'(:-\\(|\\)-:)', ' __EMO_NEG__ ', tweet)\n",
    "        # Sad 2 -- \n",
    "        tweet = re.sub(r'(:\\/|:-\\/)', ' __EMO_NEG__ ', tweet)\n",
    "        # Cry -- \n",
    "        tweet = re.sub(r'(:,\\(|:\\'\\(|:\"\\()', ' __EMO_NEG__ ', tweet)\n",
    "        \n",
    "        return tweet\n",
    "   \n",
    "    def Remove_numbers(self,tweet):\n",
    "        \n",
    "        tweet  =  re.sub(\"\\d+\", \"__number__ \", tweet)\n",
    "        \n",
    "        return tweet\n",
    "    \n",
    "    def Remove_stepword(self, features):\n",
    "        stop_words = list(get_stop_words('en'))         #About 900 stopwords\n",
    "        nltk_words = list(stopwords.words('english')) #About 150 stopwords\n",
    "        stop_words.extend(nltk_words)\n",
    "        list_words = [w for w in features if not w in stop_words]\n",
    "        return list_words\n",
    "    \n",
    "    def stemm(self,list_word):\n",
    "                \n",
    "        stemmer= PorterStemmer()\n",
    "\n",
    "        list_stem = [stemmer.stem(word) for word in list_word]\n",
    "        \n",
    "        return list_stem\n",
    "    \n",
    "    def preprocess_reviews(self,features):\n",
    "        \n",
    "        REPLACE_NO_SPACE = re.compile(\"(\\.)|(\\;)|(\\:)|(\\!)|(\\')|(\\?)|(\\,)|(\\\")|(\\()|(\\))|(\\[)|(\\])\")\n",
    "        REPLACE_WITH_SPACE = re.compile(\"(<br\\s*/><br\\s*/>)|(\\-)|(\\/)\")\n",
    "        \n",
    "        features = [REPLACE_NO_SPACE.sub(\"\", line.lower()) for line in features]\n",
    "        features = [REPLACE_WITH_SPACE.sub(\" \", line) for line in features]\n",
    "    \n",
    "        return features\n",
    "    \n",
    "    def tokenize(self, text):\n",
    "        # Have to return a list of tokens\n",
    "        tokens = nltk.tokenize.word_tokenize(text)\n",
    "        return tokens\n",
    "\n",
    "    def preprocess(self,data):\n",
    "        \n",
    "        data=self.handle_urls(data)\n",
    "        data=self.handle_ponctuation(data)\n",
    "        \n",
    "        data=self.handle_emojis(data)\n",
    "        data=self.handle_tags(data)\n",
    "        data=self.handle_hashtags(data)\n",
    "        data=self.handle_and(data)\n",
    "        data=self.Remove_numbers(data)\n",
    "        # remove single letters and some repeated punctuation\n",
    "        data = re.sub(r'\\b[-\\']\\b', '', data)\n",
    "        data = re.sub(r'\\b\\w\\b', '', data)\n",
    "        data = re.sub(r'[^\\w\\s]','',data)\n",
    "        #\n",
    "        data=self.tokenize(data)\n",
    "        data=self.preprocess_reviews(data)\n",
    "        data=self.stemm(data)\n",
    "        data= ' '.join(data)\n",
    "\n",
    "        #data=self.Remove_stepword(data)\n",
    "\n",
    "        # remove encoding chars\n",
    "        #data = data.encode(\"cp1251\",\"ignore\").decode(\"utf8\")\n",
    "        return data"
   ]
  },
  {
   "cell_type": "code",
   "execution_count": 7,
   "metadata": {},
   "outputs": [
    {
     "data": {
      "text/plain": [
       "'hello world there is my first __number__ __url__ tweet __number__ poke hamza__number__ amin letsmakepolygreatagain __emo_pos__ __emo_pos__ __emo_pos__ __emo_pos__ __emo_neg__ __emo_neg__ meet us __url__ __url__'"
      ]
     },
     "execution_count": 7,
     "metadata": {},
     "output_type": "execute_result"
    }
   ],
   "source": [
    "# test\n",
    "text = \"Hello world \\x8f  there ? is my #first . &amp; 56 http://t.co/b4zCMd tweet 2019!poke @Hamza0, @Amine #LetsMakePolyGreatAgain :D ;) :-) :-D :-/ :/ meet us @ //t.co/kbb0B5FxMK https://t.co/gooNdg00Poly\"\n",
    "tweet_prep = TwitterPreprocessing()\n",
    "tweet_prep.preprocess(text)"
   ]
  },
  {
   "cell_type": "code",
   "execution_count": 8,
   "metadata": {},
   "outputs": [],
   "source": [
    "data=list(map(tweet_prep.preprocess, X))\n",
    "X= pd.Series(data).astype(str).str.zfill(11)"
   ]
  },
  {
   "cell_type": "code",
   "execution_count": 9,
   "metadata": {},
   "outputs": [
    {
     "name": "stdout",
     "output_type": "stream",
     "text": [
      "Length of training set :  16711\n",
      "Length of test set :  4178\n"
     ]
    }
   ],
   "source": [
    "\n",
    "# I used Stratify parameter : means that the train_test_split method returns training and valid subsets that have the same proportions of class labels as the input dataset\n",
    "train_X, test_X, train_Y, test_Y = train_test_split(X, y, test_size=0.20, random_state=12,stratify= y)\n",
    "\n",
    "print(\"Length of training set : \", len(train_X))\n",
    "print(\"Length of test set : \", len(test_X))\n",
    "#print(\"Length of test set : \", len(test_X))"
   ]
  },
  {
   "cell_type": "markdown",
   "metadata": {},
   "source": [
    "- # **Feature engineering**\n",
    "\n",
    "Logistic regressions, SVM and other very common classification models require entries that are all the same size, which is not necessarily the case for data types such as texts, which may have a variable number of words. For handling that I'm going to use two important methods :\n",
    "\n",
    "- **CountVectorizer:** it is a representation of comments by vectors whose size is equal to the size of the vocabulary, and which is constructed by counting the number of occurrences of each word. Thus, each token is here associated with a dimension.\n",
    "\n",
    "-  **TF-IDF:** The use of the frequency of gross word appearance, as is the case with CountVectorizer, can be problematic. Indeed, few tokens will have a very high frequency in a comment, and because of this, the weight of these words will be much larger than the others, which will tend to bias all the weights. Moreover, the words that appear in most documents do not help to discriminate them. TF-IDF is a method to overcome this problem.\n",
    "it weights the vector using an inverse document frequency (IDF) and a frequency of terms (TF).\n",
    "\n",
    "- # **Model Selection**\n",
    "\n",
    "Now that we have our features,  we can train a classifier to try to classify the comments. For the model selection part.\n",
    "\n",
    "- we decided to use the 4 common classification models ( Logistic regressions, SVM, Random Forest and  Naïve Bayes ). \n",
    "\n",
    "- In order to make the vectorizer => transformer => classifier easier to work with, scikit-learn provides a Pipeline class that behaves like a compound classifier.\n",
    "\n",
    "-  Instead of tweaking the parameters of the various components of the chain, it is possible to run an exhaustive search of the best parameters on a grid of possible values. \n",
    "\n",
    "- We try out all classifiers on either words or bigrams, with or without idf ...\n",
    "\n",
    "- We used 5-fold cross validation to select a model's parameters \n",
    "\n"
   ]
  },
  {
   "cell_type": "markdown",
   "metadata": {},
   "source": [
    "### LogisticRegression"
   ]
  },
  {
   "cell_type": "code",
   "execution_count": 21,
   "metadata": {},
   "outputs": [
    {
     "name": "stdout",
     "output_type": "stream",
     "text": [
      "Best parameters are :  {'clf__C': 3, 'tfidf__norm': 'l2', 'tfidf__smooth_idf': False, 'vec__ngram_range': (1, 2)}\n",
      "Best score(with 5-fold cross validation ) : 0.892\n"
     ]
    }
   ],
   "source": [
    "parameters_regression_tfidf = {\n",
    "    'vec__ngram_range':[(1, 1), (1, 2),(1,3)],\n",
    "    'tfidf__norm': ['l1', 'l2'],\n",
    "    'tfidf__smooth_idf': [True, False],\n",
    "    'clf__C': [.5, 1, 2, 2.5, 3], \n",
    "}\n",
    "\n",
    "pipeline_regression_tfidf = Pipeline([\n",
    "    ('vec', CountVectorizer()),\n",
    "    ('tfidf', TfidfTransformer(use_idf=True)),\n",
    "    ('clf', LogisticRegression(solver='saga', penalty='l2'))\n",
    "])\n",
    "                  \n",
    "rs_regression_tfidf = GridSearchCV(pipeline_regression_tfidf, parameters_regression_tfidf, \n",
    "                                   cv=5, scoring='accuracy', n_jobs=-1, verbose=0, \n",
    "                                         return_train_score=True)\n",
    "start = time.time()\n",
    "rs_regression_tfidf.fit(train_X, train_Y)\n",
    "#time.time() - start, rs_regression_tfidf.best_params_, rs_regression_tfidf.best_score_\n",
    "print(\"Best parameters are : \", rs_regression_tfidf.best_params_)\n",
    "\n",
    "print(\"Best score(with 5-fold cross validation ) : %0.3f\" % rs_regression_tfidf.best_score_)"
   ]
  },
  {
   "cell_type": "code",
   "execution_count": 22,
   "metadata": {},
   "outputs": [],
   "source": [
    "filename = './models/rs_regression_tfidf.sav'\n",
    "pickle.dump(rs_regression_tfidf, open(filename, 'wb'))"
   ]
  },
  {
   "cell_type": "markdown",
   "metadata": {},
   "source": [
    "### SVM"
   ]
  },
  {
   "cell_type": "code",
   "execution_count": 23,
   "metadata": {},
   "outputs": [
    {
     "name": "stdout",
     "output_type": "stream",
     "text": [
      "Best parameters are :  {'clf__alpha': 1e-06, 'tfidf__norm': 'l1', 'tfidf__smooth_idf': False, 'vec__ngram_range': (1, 2)}\n",
      "Best score(with 5-fold cross validation ) : 0.903\n"
     ]
    },
    {
     "name": "stderr",
     "output_type": "stream",
     "text": [
      "/home/aminebe/anaconda3/envs/tfgpu/lib/python3.6/site-packages/sklearn/linear_model/stochastic_gradient.py:183: FutureWarning: max_iter and tol parameters have been added in SGDClassifier in 0.19. If max_iter is set but tol is left unset, the default value for tol in 0.19 and 0.20 will be None (which is equivalent to -infinity, so it has no effect) but will change in 0.21 to 1e-3. Specify tol to silence this warning.\n",
      "  FutureWarning)\n"
     ]
    }
   ],
   "source": [
    "\n",
    "parameters_SVM = {\n",
    "    'vec__ngram_range':[(1, 1), (1, 2),(1,3)],\n",
    "    'tfidf__norm': ['l1', 'l2'],\n",
    "    'tfidf__smooth_idf': [True, False],\n",
    "    'clf__alpha': (1e-2, 1e-3,0.1,1e-4,1e-5,1e-6,1,2), \n",
    "}\n",
    "\n",
    "pipeline_SVM = Pipeline([\n",
    "    ('vec', CountVectorizer()),\n",
    "    ('tfidf', TfidfTransformer(use_idf=True)),\n",
    "   ('clf', SGDClassifier(loss='hinge', penalty='l2',\n",
    "                        alpha=1e-3, random_state=42,\n",
    "                         max_iter=5, tol=None)),\n",
    "])\n",
    "                  \n",
    "rs_SVM = GridSearchCV(pipeline_SVM, parameters_SVM, \n",
    "                                   cv=5, scoring='accuracy', n_jobs=-1, verbose=0, \n",
    "                                         return_train_score=True)\n",
    "rs_SVM.fit(train_X, train_Y)\n",
    "#time.time() - start, rs_regression_tfidf.best_params_, rs_regression_tfidf.best_score_\n",
    "print(\"Best parameters are : \", rs_SVM.best_params_)\n",
    "\n",
    "\n",
    "print(\"Best score(with 5-fold cross validation ) : %0.3f\" % rs_SVM.best_score_)"
   ]
  },
  {
   "cell_type": "code",
   "execution_count": 24,
   "metadata": {},
   "outputs": [],
   "source": [
    "filename = './models/rs_SVM.sav'\n",
    "pickle.dump(rs_SVM, open(filename, 'wb'))"
   ]
  },
  {
   "cell_type": "markdown",
   "metadata": {},
   "source": [
    "### Random Forest"
   ]
  },
  {
   "cell_type": "code",
   "execution_count": 25,
   "metadata": {},
   "outputs": [
    {
     "name": "stdout",
     "output_type": "stream",
     "text": [
      "Best parameters are :  {'vec__ngram_range': (1, 1), 'tfidf__smooth_idf': True, 'tfidf__norm': 'l1', 'clf__n_estimators': 100, 'clf__max_features': 'log2', 'clf__max_depth': 700, 'clf__criterion': 'entropy', 'clf__bootstrap': False}\n",
      "Best score(with 5-fold cross validation ) : 0.882\n"
     ]
    }
   ],
   "source": [
    "\n",
    "# specify parameters and distributions to sample from\n",
    "param_dist = {'clf__max_depth': [300, 500, 700],\n",
    "              'vec__ngram_range':[(1, 1), (1, 2),(1,3)],\n",
    "              'tfidf__norm': ['l1', 'l2'],\n",
    "              'tfidf__smooth_idf': [True, False],\n",
    "              'clf__max_features': [\"auto\",\"sqrt\",\"log2\"],\n",
    "              'clf__n_estimators': [100,200,500,600],\n",
    "              'clf__bootstrap': [True, False],\n",
    "              'clf__criterion': [\"gini\", \"entropy\"]}\n",
    "\n",
    "pipeline_rf = Pipeline([\n",
    "    ('vec', CountVectorizer()),\n",
    "    ('tfidf', TfidfTransformer(use_idf=True)),\n",
    "    ('clf', RandomForestClassifier(n_estimators=20)),\n",
    "])\n",
    "                  \n",
    "rs_rf = RandomizedSearchCV(pipeline_rf, param_dist, \n",
    "                                   cv=5, scoring='accuracy', n_jobs=-1, verbose=0, \n",
    "                                         return_train_score=True)\n",
    "\n",
    "rs_rf.fit(train_X, train_Y)\n",
    "#time.time() - start, rs_regression_tfidf.best_params_, rs_regression_tfidf.best_score_\n",
    "\n",
    "print(\"Best parameters are : \", rs_rf.best_params_)\n",
    "\n",
    "\n",
    "print(\"Best score(with 5-fold cross validation ) : %0.3f\" % rs_rf.best_score_)\n"
   ]
  },
  {
   "cell_type": "code",
   "execution_count": 26,
   "metadata": {},
   "outputs": [],
   "source": [
    "filename = './models/rs_rf.sav'\n",
    "pickle.dump(rs_rf, open(filename, 'wb'))"
   ]
  },
  {
   "cell_type": "markdown",
   "metadata": {},
   "source": [
    "### Multinomial Naïve Bayes"
   ]
  },
  {
   "cell_type": "code",
   "execution_count": 27,
   "metadata": {},
   "outputs": [
    {
     "name": "stdout",
     "output_type": "stream",
     "text": [
      "Best parameters are :  {'clf__alpha': 0.1, 'tfidf__norm': 'l2', 'tfidf__smooth_idf': True, 'vec__ngram_range': (1, 2)}\n",
      "Best score(with 5-fold cross validation ) : 0.9001\n"
     ]
    }
   ],
   "source": [
    "\n",
    "parameters_MultinomialNB = {\n",
    "    'vec__ngram_range':[(1, 1), (1, 2),(1,3)],\n",
    "    'tfidf__norm': ['l1', 'l2'],\n",
    "    'tfidf__smooth_idf': [True, False],\n",
    "    #'tfidf__use_idf': (True, False), \n",
    "    'clf__alpha': [0.1,0.01,0.001,1,2], \n",
    "}\n",
    "\n",
    "pipeline_MultinomialNB = Pipeline([\n",
    "    ('vec', CountVectorizer()),\n",
    "    ('tfidf', TfidfTransformer(use_idf=True)),\n",
    "    ('clf', MultinomialNB())\n",
    "])\n",
    "                  \n",
    "rs_MultinomialNB = GridSearchCV(pipeline_MultinomialNB, parameters_MultinomialNB, \n",
    "                                   cv=5, scoring='accuracy', n_jobs=-1, verbose=0, \n",
    "                                         return_train_score=True)\n",
    "start = time.time()\n",
    "rs_MultinomialNB.fit(train_X, train_Y)\n",
    "#time.time() - start, rs_regression_tfidf.best_params_, rs_regression_tfidf.best_score_\n",
    "print(\"Best parameters are : \", rs_MultinomialNB.best_params_)\n",
    "\n",
    "print(\"Best score(with 5-fold cross validation ) : %0.4f\" % rs_MultinomialNB.best_score_)"
   ]
  },
  {
   "cell_type": "code",
   "execution_count": 28,
   "metadata": {},
   "outputs": [],
   "source": [
    "filename = './models/rs_MultinomialNB.sav'\n",
    "pickle.dump(rs_MultinomialNB, open(filename, 'wb'))"
   ]
  },
  {
   "cell_type": "markdown",
   "metadata": {},
   "source": [
    "##  Evaluation metric and Model validation"
   ]
  },
  {
   "cell_type": "code",
   "execution_count": 10,
   "metadata": {},
   "outputs": [],
   "source": [
    "import string\n",
    "import re\n",
    "import pickle\n",
    "import nltk\n",
    "from nltk.corpus import stopwords\n",
    "from nltk.corpus import words\n",
    "from nltk.stem import PorterStemmer\n",
    "from stop_words import get_stop_words\n",
    "\n",
    "import numpy as np\n",
    "import os\n",
    "from collections import Counter\n",
    "\n",
    "from sklearn.model_selection import train_test_split\n",
    "from sklearn.pipeline import Pipeline\n",
    "from sklearn.model_selection import RandomizedSearchCV, GridSearchCV\n",
    "import time\n",
    "from sklearn.feature_extraction.text import CountVectorizer\n",
    "from sklearn.feature_extraction.text import TfidfTransformer\n",
    "from sklearn.linear_model import LogisticRegression\n",
    "from sklearn.linear_model import SGDClassifier\n",
    "from sklearn.ensemble import RandomForestClassifier\n",
    "from sklearn.naive_bayes import MultinomialNB"
   ]
  },
  {
   "cell_type": "code",
   "execution_count": 11,
   "metadata": {
    "collapsed": true
   },
   "outputs": [
    {
     "name": "stderr",
     "output_type": "stream",
     "text": [
      "//anaconda3/lib/python3.7/site-packages/sklearn/base.py:306: UserWarning: Trying to unpickle estimator CountVectorizer from version 0.20.3 when using version 0.21.2. This might lead to breaking code or invalid results. Use at your own risk.\n",
      "  UserWarning)\n",
      "//anaconda3/lib/python3.7/site-packages/sklearn/base.py:306: UserWarning: Trying to unpickle estimator TfidfTransformer from version 0.20.3 when using version 0.21.2. This might lead to breaking code or invalid results. Use at your own risk.\n",
      "  UserWarning)\n",
      "//anaconda3/lib/python3.7/site-packages/sklearn/base.py:306: UserWarning: Trying to unpickle estimator MultinomialNB from version 0.20.3 when using version 0.21.2. This might lead to breaking code or invalid results. Use at your own risk.\n",
      "  UserWarning)\n",
      "//anaconda3/lib/python3.7/site-packages/sklearn/base.py:306: UserWarning: Trying to unpickle estimator Pipeline from version 0.20.3 when using version 0.21.2. This might lead to breaking code or invalid results. Use at your own risk.\n",
      "  UserWarning)\n",
      "//anaconda3/lib/python3.7/site-packages/sklearn/base.py:306: UserWarning: Trying to unpickle estimator GridSearchCV from version 0.20.3 when using version 0.21.2. This might lead to breaking code or invalid results. Use at your own risk.\n",
      "  UserWarning)\n",
      "//anaconda3/lib/python3.7/site-packages/sklearn/base.py:306: UserWarning: Trying to unpickle estimator LogisticRegression from version 0.20.3 when using version 0.21.2. This might lead to breaking code or invalid results. Use at your own risk.\n",
      "  UserWarning)\n",
      "//anaconda3/lib/python3.7/site-packages/sklearn/base.py:306: UserWarning: Trying to unpickle estimator SGDClassifier from version 0.20.3 when using version 0.21.2. This might lead to breaking code or invalid results. Use at your own risk.\n",
      "  UserWarning)\n",
      "//anaconda3/lib/python3.7/site-packages/sklearn/base.py:306: UserWarning: Trying to unpickle estimator DecisionTreeClassifier from version 0.20.3 when using version 0.21.2. This might lead to breaking code or invalid results. Use at your own risk.\n",
      "  UserWarning)\n",
      "//anaconda3/lib/python3.7/site-packages/sklearn/base.py:306: UserWarning: Trying to unpickle estimator RandomForestClassifier from version 0.20.3 when using version 0.21.2. This might lead to breaking code or invalid results. Use at your own risk.\n",
      "  UserWarning)\n",
      "//anaconda3/lib/python3.7/site-packages/sklearn/base.py:306: UserWarning: Trying to unpickle estimator RandomizedSearchCV from version 0.20.3 when using version 0.21.2. This might lead to breaking code or invalid results. Use at your own risk.\n",
      "  UserWarning)\n"
     ]
    }
   ],
   "source": [
    "rs_MultinomialNB = pickle.load(open('./models/rs_MultinomialNB.sav', 'rb'))\n",
    "rs_regression_tfidf = pickle.load(open('./models/rs_regression_tfidf.sav', 'rb'))\n",
    "rs_SVM = pickle.load(open('./models/rs_SVM.sav', 'rb'))\n",
    "rs_rf = pickle.load(open('./models/rs_rf.sav', 'rb'))"
   ]
  },
  {
   "cell_type": "markdown",
   "metadata": {},
   "source": [
    "#### Data balance"
   ]
  },
  {
   "cell_type": "code",
   "execution_count": 12,
   "metadata": {},
   "outputs": [
    {
     "name": "stdout",
     "output_type": "stream",
     "text": [
      "0    10616\n",
      "1    10273\n",
      "Name: label, dtype: int64\n"
     ]
    },
    {
     "data": {
      "text/plain": [
       "<matplotlib.axes._subplots.AxesSubplot at 0x1a235ed208>"
      ]
     },
     "execution_count": 12,
     "metadata": {},
     "output_type": "execute_result"
    },
    {
     "data": {
      "image/png": "[encoded data removed]",
      "text/plain": [
       "<Figure size 432x288 with 1 Axes>"
      ]
     },
     "metadata": {
      "needs_background": "light"
     },
     "output_type": "display_data"
    }
   ],
   "source": [
    "import seaborn as sns\n",
    "%matplotlib inline\n",
    "print(y.value_counts())\n",
    "sns.countplot(y,label=\"Count\")"
   ]
  },
  {
   "cell_type": "markdown",
   "metadata": {},
   "source": [
    "#### Matrice de confusion"
   ]
  },
  {
   "cell_type": "code",
   "execution_count": 13,
   "metadata": {},
   "outputs": [
    {
     "name": "stdout",
     "output_type": "stream",
     "text": [
      "Matrice de confusion :\n"
     ]
    },
    {
     "data": {
      "image/png": "[encoded data removed]",
      "text/plain": [
       "<Figure size 360x252 with 2 Axes>"
      ]
     },
     "metadata": {
      "needs_background": "light"
     },
     "output_type": "display_data"
    },
    {
     "name": "stdout",
     "output_type": "stream",
     "text": [
      "Rapport de classification :\n",
      "              precision    recall  f1-score   support\n",
      "\n",
      "           0       0.98      0.94      0.96      2123\n",
      "           1       0.94      0.98      0.96      2055\n",
      "\n",
      "    accuracy                           0.96      4178\n",
      "   macro avg       0.96      0.96      0.96      4178\n",
      "weighted avg       0.96      0.96      0.96      4178\n",
      "\n"
     ]
    }
   ],
   "source": [
    "from sklearn.metrics import confusion_matrix\n",
    "import seaborn as sn\n",
    "import matplotlib.pyplot as plt\n",
    "from sklearn.metrics import classification_report\n",
    "\n",
    "\n",
    "\n",
    "print('Matrice de confusion :')\n",
    "cm = confusion_matrix(test_Y, rs_SVM.predict(test_X))\n",
    "df = pd.DataFrame(cm, index = [\"republican\",\"democratic\"], columns = [\"republican\", \"democratic\"])\n",
    "plt.figure(figsize = (5,3.5))\n",
    "sn.heatmap(df, annot=True, cmap=\"Blues\")\n",
    "plt.show()\n",
    "\n",
    "print('Rapport de classification :')\n",
    "print(classification_report(test_Y, rs_SVM.predict(test_X)))"
   ]
  },
  {
   "cell_type": "markdown",
   "metadata": {},
   "source": [
    "### Accuracy evaluation "
   ]
  },
  {
   "cell_type": "code",
   "execution_count": 14,
   "metadata": {},
   "outputs": [
    {
     "name": "stdout",
     "output_type": "stream",
     "text": [
      "+--------------------------------+-------------------+\n",
      "|             Model              | accuracy test (%) |\n",
      "+--------------------------------+-------------------+\n",
      "| Logistic Regression Classifier |       94.93       |\n",
      "|         SVM Classifier         |       96.07       |\n",
      "|    Random Forest Classifier    |       95.36       |\n",
      "|         MultinomialNB          |       95.81       |\n",
      "+--------------------------------+-------------------+\n"
     ]
    }
   ],
   "source": [
    "from sklearn.metrics import accuracy_score\n",
    "import random\n",
    "from prettytable import PrettyTable\n",
    "\n",
    "t = PrettyTable(['Model', 'accuracy test (%)'])\n",
    "model=['Logistic Regression Classifier','SVM Classifier','Random Forest Classifier','MultinomialNB']\n",
    "accu=[round(accuracy_score(test_Y,rs_regression_tfidf.predict(test_X))*100,2),round(accuracy_score(test_Y,rs_SVM.predict(test_X))\n",
    "*100,2),round(accuracy_score(test_Y,rs_rf.predict(test_X))\n",
    "*100,2),round(accuracy_score(test_Y,rs_MultinomialNB.predict(test_X))\n",
    "*100,2)]\n",
    "\n",
    "for i in range(len(accu)):\n",
    "    \n",
    "    t.add_row([model[i],accu[i]])\n",
    "\n",
    "print(t)"
   ]
  },
  {
   "cell_type": "markdown",
   "metadata": {},
   "source": [
    "## Predictions & analyses on election day"
   ]
  },
  {
   "cell_type": "code",
   "execution_count": 15,
   "metadata": {},
   "outputs": [],
   "source": [
    "\n",
    "db_dir = \"./databases/\"\n",
    "features = [['text'], ['id'], ['user','location'], ['user', 'screen_name']]\n",
    "column_names = ['_'.join(name) for name in features]+['label']\n",
    "\n",
    "df = pd.DataFrame(columns = column_names)\n",
    "for filename in os.listdir(db_dir):\n",
    "    if \"election-day\" in filename[:-3]:\n",
    "        elections_day = pd.read_csv(db_dir+filename) \n",
    "        elections_day.columns = column_names[:-1]"
   ]
  },
  {
   "cell_type": "code",
   "execution_count": 16,
   "metadata": {
    "scrolled": true
   },
   "outputs": [
    {
     "data": {
      "text/html": [
       "<div>\n",
       "<style scoped>\n",
       "    .dataframe tbody tr th:only-of-type {\n",
       "        vertical-align: middle;\n",
       "    }\n",
       "\n",
       "    .dataframe tbody tr th {\n",
       "        vertical-align: top;\n",
       "    }\n",
       "\n",
       "    .dataframe thead th {\n",
       "        text-align: right;\n",
       "    }\n",
       "</style>\n",
       "<table border=\"1\" class=\"dataframe\">\n",
       "  <thead>\n",
       "    <tr style=\"text-align: right;\">\n",
       "      <th></th>\n",
       "      <th>text</th>\n",
       "      <th>id</th>\n",
       "      <th>user_location</th>\n",
       "      <th>user_screen_name</th>\n",
       "    </tr>\n",
       "  </thead>\n",
       "  <tbody>\n",
       "    <tr>\n",
       "      <th>0</th>\n",
       "      <td>I'm with Purr! Vote Peppah!!! #americafirst #E...</td>\n",
       "      <td>7.959525e+17</td>\n",
       "      <td>Massachusetts, USA</td>\n",
       "      <td>timeisMEOW2016</td>\n",
       "    </tr>\n",
       "    <tr>\n",
       "      <th>1</th>\n",
       "      <td>RT @FNTSYRadio: It's #ElectionDay &amp;amp; no bet...</td>\n",
       "      <td>7.959525e+17</td>\n",
       "      <td>NaN</td>\n",
       "      <td>chachaozone</td>\n",
       "    </tr>\n",
       "    <tr>\n",
       "      <th>2</th>\n",
       "      <td>todays the day oh #ElectionDay</td>\n",
       "      <td>7.959525e+17</td>\n",
       "      <td>NaN</td>\n",
       "      <td>goodheartedjc</td>\n",
       "    </tr>\n",
       "    <tr>\n",
       "      <th>3</th>\n",
       "      <td>RT @MrScottEddy: All the Places You Can Get Fr...</td>\n",
       "      <td>7.959525e+17</td>\n",
       "      <td>Hunter Mill, VA</td>\n",
       "      <td>CharlesMcCool</td>\n",
       "    </tr>\n",
       "    <tr>\n",
       "      <th>4</th>\n",
       "      <td>RT @PerlinNikki: Go vote. Stay true to yoursel...</td>\n",
       "      <td>7.959525e+17</td>\n",
       "      <td>Florida, USA</td>\n",
       "      <td>Mama_Liberal</td>\n",
       "    </tr>\n",
       "  </tbody>\n",
       "</table>\n",
       "</div>"
      ],
      "text/plain": [
       "                                                text            id  \\\n",
       "0  I'm with Purr! Vote Peppah!!! #americafirst #E...  7.959525e+17   \n",
       "1  RT @FNTSYRadio: It's #ElectionDay &amp; no bet...  7.959525e+17   \n",
       "2                     todays the day oh #ElectionDay  7.959525e+17   \n",
       "3  RT @MrScottEddy: All the Places You Can Get Fr...  7.959525e+17   \n",
       "4  RT @PerlinNikki: Go vote. Stay true to yoursel...  7.959525e+17   \n",
       "\n",
       "        user_location user_screen_name  \n",
       "0  Massachusetts, USA   timeisMEOW2016  \n",
       "1                 NaN      chachaozone  \n",
       "2                 NaN    goodheartedjc  \n",
       "3     Hunter Mill, VA    CharlesMcCool  \n",
       "4        Florida, USA     Mama_Liberal  "
      ]
     },
     "execution_count": 16,
     "metadata": {},
     "output_type": "execute_result"
    }
   ],
   "source": [
    "elections_day.head()"
   ]
  },
  {
   "cell_type": "code",
   "execution_count": 17,
   "metadata": {},
   "outputs": [],
   "source": [
    "X = elections_day[\"text\"]\n",
    "data=list(map(tweet_prep.preprocess, X))\n",
    "X= pd.Series(data).astype(str).str.zfill(11)"
   ]
  },
  {
   "cell_type": "code",
   "execution_count": 18,
   "metadata": {},
   "outputs": [],
   "source": [
    "elections_day[\"predict_party\"] = rs_SVM.predict(X)"
   ]
  },
  {
   "cell_type": "markdown",
   "metadata": {},
   "source": [
    "## Sentiment Analysis per party"
   ]
  },
  {
   "cell_type": "markdown",
   "metadata": {},
   "source": [
    "### From TP1 "
   ]
  },
  {
   "cell_type": "code",
   "execution_count": 19,
   "metadata": {},
   "outputs": [],
   "source": [
    "from scipy.sparse import csr_matrix\n",
    "import math\n",
    "\n",
    "def bigram(tokens):\n",
    "    \"\"\"\n",
    "    tokens: a list of strings\n",
    "    \"\"\"\n",
    "    bigrams = []\n",
    "    for words in zip(tokens[:-1],tokens[1:]):\n",
    "        bigrams.append(\" \".join(words))\n",
    "    # This function returns the list of bigrams\n",
    "    return bigrams\n",
    "\n",
    "\n",
    "def trigram(tokens):\n",
    "    \"\"\"\n",
    "    tokens: a list of strings\n",
    "    \"\"\"\n",
    "    trigrams = []\n",
    "    for words in zip(tokens[:-2],tokens[1:-1], tokens[2:]):\n",
    "        trigrams.append(\" \".join(words))\n",
    "    # This function returns the list of trigrams\n",
    "    return trigrams\n",
    "\n",
    "class TFIDFBoW(object):\n",
    "\n",
    "    def __init__(self, pipeline, bigram=False, trigram=False):\n",
    "        \"\"\"\n",
    "        pipelineObj: instance of PreprocesingPipeline\n",
    "        bigram: enable or disable bigram\n",
    "        trigram: enable or disable trigram\n",
    "        words: list of words in the vocabulary\n",
    "        idf: list of idfs for each document\n",
    "        \"\"\"\n",
    "        self.pipeline = pipeline\n",
    "        self.bigram = bigram\n",
    "        self.trigram = trigram\n",
    "        self.words = None\n",
    "        self.idf = None\n",
    "    \n",
    "    def computeTFIDF(self, tokens):\n",
    "        \"\"\"\n",
    "        Calcule du TF-IDF, à partir d'un dictionnaire de mots et d'une \n",
    "        liste de tweets.\n",
    "        On suppose que l'on a déjà collecté le dictionnaire ainsi que \n",
    "        calculé le vecteur contenant l'idf pour chaque document.\n",
    "        \n",
    "        Entrée: tokens, une liste de vecteurs contenant les tweets (une liste de liste)\n",
    "        \n",
    "        Return: une csr_matrix\n",
    "        \"\"\"\n",
    "        \n",
    "        if self.words is None:\n",
    "            raise Exception(\n",
    "                \"fit_transform() should be called first (no dictionnary available)\"\n",
    "            )\n",
    "            \n",
    "        word_to_idx = {word:idx for idx,word in enumerate(self.words)}\n",
    "        \n",
    "        tf = np.zeros((len(tokens), len(self.words)),dtype=np.int8)\n",
    "        \n",
    "        for tweet_idx,tweet_tokens in enumerate(tokens):\n",
    "            all_tokens = tweet_tokens.copy()\n",
    "            if self.bigram == True :\n",
    "                all_tokens+=bigram(tweet_tokens)\n",
    "            if self.bigram == True :\n",
    "                all_tokens+=trigram(tweet_tokens)\n",
    "                \n",
    "            for token in all_tokens:\n",
    "                word_idx = word_to_idx.get(token, -1)\n",
    "                if word_idx>=0:\n",
    "                    tf[tweet_idx,word_to_idx[token]] += 1\n",
    "\n",
    "        # puisque ce n'est pas specifié on utilise le np.log\n",
    "        if self.idf is None:\n",
    "            self.idf = np.log(tf.shape[0] / (tf!=0).sum(axis=0))\n",
    "        \n",
    "        return np.multiply(tf, self.idf)\n",
    "\n",
    "\n",
    "    def fit_transform(self, X):\n",
    "        \"\"\"\n",
    "        Cette méthode preprocess les données en utilisant la pipeline, ajoute les bigram et trigram \n",
    "        si besoin, et transforme les textes en vecteurs de flottants avec la pondération TF-IDF.\n",
    "        \n",
    "        Entrée : X, une liste de vecteurs contenant les tweets\n",
    "        \n",
    "        Return: une csr_matrix\n",
    "        \"\"\"\n",
    "        toknized_tweets = list(map(self.pipeline.preprocess, X))\n",
    "        words_dictionnary = set()\n",
    "        for tweet in toknized_tweets:\n",
    "            for token in tweet:\n",
    "                words_dictionnary.add(token)\n",
    "            if self.bigram == True :\n",
    "                for token in bigram(tweet):\n",
    "                    words_dictionnary.add(token)\n",
    "            if self.trigram == True :\n",
    "                for token in trigram(tweet):\n",
    "                    words_dictionnary.add(token)\n",
    "                    \n",
    "        self.words = list(words_dictionnary)\n",
    "        return self.computeTFIDF(toknized_tweets)\n",
    "    \n",
    "    def transform(self, X):\n",
    "        \"\"\"\n",
    "        Cette méthode preprocess les données en utilisant la pipeline, ajoute les bigram et trigram \n",
    "        si besoin, et transforme les textes en vecteurs de flottants avec la pondération TF-IDF.\n",
    "        Différence avec fit_transform : on suppose qu'on dispose déjà du dictionnaire et du calcul des idf ici.\n",
    "            \n",
    "        Entrée : X, une liste de vecteurs contenant les tweets\n",
    "        \n",
    "        Return: une csr_matrix\n",
    "        \"\"\"\n",
    "\n",
    "        if self.words is None:\n",
    "            raise Exception(\n",
    "                \"fit_transform() should be called first (no dictionnary available)\"\n",
    "            )\n",
    "\n",
    "        toknized_tweets = list(map(self.pipeline.preprocess, X))\n",
    "        return self.computeTFIDF(toknized_tweets)\n",
    "    "
   ]
  },
  {
   "cell_type": "code",
   "execution_count": 20,
   "metadata": {},
   "outputs": [],
   "source": [
    "from nltk.stem.snowball import SnowballStemmer\n",
    "import nltk\n",
    "\n",
    "class Stemmer(object):\n",
    "\n",
    "    def __init__(self):\n",
    "        self.stemmer = SnowballStemmer(\"english\", ignore_stopwords=True)\n",
    "\n",
    "    def stem(self, token):\n",
    "        \"\"\"\n",
    "        token: a string that contain a token\n",
    "        \"\"\"\n",
    "        # Have to return the stemmed token\n",
    "        return list(map(self.stemmer.stem,token))\n",
    "\n",
    "class NLTKTokenizer(object):\n",
    "    \"\"\"\n",
    "    This tokenizer uses the default function of nltk package (https://www.nltk.org/api/nltk.html) to tokenize the text.\n",
    "    \"\"\"\n",
    "\n",
    "    def tokenize(self, text):\n",
    "        # Have to return a list of tokens\n",
    "        tokens = nltk.tokenize.word_tokenize(text)\n",
    "        return tokens\n",
    "\n",
    "class PreprocessingPipeline:\n",
    "\n",
    "    def __init__(self, tokenization, twitterPreprocessing, stemming):\n",
    "        \"\"\"\n",
    "        tokenization: enable or disable tokenization.\n",
    "        twitterPreprocessing: enable or disable twitter preprocessing.\n",
    "        stemming: enable or disable stemming.\n",
    "        \"\"\"\n",
    "\n",
    "        self.tokenizer = NLTKTokenizer() if tokenization else SpaceTokenizer()\n",
    "        self.twitterPreprocesser = TwitterPreprocessing(\n",
    "        ) if twitterPreprocessing else None\n",
    "        self.stemmer = Stemmer() if stemming else None\n",
    "\n",
    "    def preprocess(self, tweet):\n",
    "        \"\"\"\n",
    "        Transform the raw data\n",
    "\n",
    "        tokenization: boolean value.\n",
    "        twitterPreprocessing: boolean value. Apply the\n",
    "        stemming: boolean value.\n",
    "        \"\"\"\n",
    "        if self.twitterPreprocesser:\n",
    "            tweet_processed = self.twitterPreprocesser.preprocess(tweet)\n",
    "        else:\n",
    "            tweet_processed = tweet\n",
    "        \n",
    "        tokens = self.tokenizer.tokenize(tweet_processed)\n",
    "        if self.stemmer:\n",
    "            tokens = self.stemmer.stem(tokens)\n",
    "        return tokens\n"
   ]
  },
  {
   "cell_type": "code",
   "execution_count": 21,
   "metadata": {},
   "outputs": [],
   "source": [
    "import csv\n",
    "from sklearn.model_selection import train_test_split\n",
    "\n",
    "def load_dataset(path):\n",
    "    \n",
    "    x = []\n",
    "    y = []\n",
    "\n",
    "    with open(path, 'r', newline='', encoding=\"latin-1\") as csvfile:\n",
    "        \n",
    "        reader = csv.reader(csvfile, delimiter=',')\n",
    "        \n",
    "        # Taking the header of the file + the index of useful columns:\n",
    "        header = next(reader)\n",
    "        ind_label = header.index('airline_sentiment')\n",
    "        ind_text = header.index('text')\n",
    "        \n",
    "        for row in reader:\n",
    "            x.append(row[ind_text])\n",
    "            \n",
    "            label = row[ind_label]\n",
    "            \n",
    "            if label == \"negative\":\n",
    "                y.append(0)\n",
    "            elif label == \"neutral\":\n",
    "                y.append(1)\n",
    "            elif label == \"positive\":\n",
    "                y.append(2)\n",
    "\n",
    "        assert len(x) == len(y)\n",
    "\n",
    "        return x, y\n",
    "\n",
    "\n",
    "# Path of the dataset\n",
    "path = \"data/airline_tweets_database.csv\"\n",
    "\n",
    "X_tp1, y_tp1 = load_dataset(path)\n"
   ]
  },
  {
   "cell_type": "code",
   "execution_count": 22,
   "metadata": {},
   "outputs": [
    {
     "name": "stderr",
     "output_type": "stream",
     "text": [
      "//anaconda3/lib/python3.7/site-packages/sklearn/linear_model/logistic.py:432: FutureWarning: Default solver will be changed to 'lbfgs' in 0.22. Specify a solver to silence this warning.\n",
      "  FutureWarning)\n",
      "//anaconda3/lib/python3.7/site-packages/sklearn/linear_model/logistic.py:469: FutureWarning: Default multi_class will be changed to 'auto' in 0.22. Specify the multi_class option to silence this warning.\n",
      "  \"this warning.\", FutureWarning)\n",
      "//anaconda3/lib/python3.7/site-packages/sklearn/linear_model/logistic.py:1544: UserWarning: 'n_jobs' > 1 does not have any effect when 'solver' is set to 'liblinear'. Got 'n_jobs' = 4.\n",
      "  \" = {}.\".format(effective_n_jobs(self.n_jobs)))\n"
     ]
    },
    {
     "data": {
      "text/plain": [
       "LogisticRegression(C=1.0, class_weight=None, dual=False, fit_intercept=True,\n",
       "                   intercept_scaling=1, l1_ratio=None, max_iter=100,\n",
       "                   multi_class='warn', n_jobs=-1, penalty='l2',\n",
       "                   random_state=None, solver='warn', tol=0.0001, verbose=0,\n",
       "                   warm_start=False)"
      ]
     },
     "execution_count": 22,
     "metadata": {},
     "output_type": "execute_result"
    }
   ],
   "source": [
    "from sklearn.linear_model import LogisticRegression\n",
    "# init configuration\n",
    "selected_conf = {\"model\":TFIDFBoW, \"tokenize\":True, \"stemming\": True, \"preprocess\":True, \"bi\":True}\n",
    "\n",
    "stemming = selected_conf.get(\"stemming\",False)\n",
    "tw_prep = selected_conf.get(\"preprocess\",False)\n",
    "tokenize = selected_conf.get(\"tokenize\",False)\n",
    "bi = selected_conf.get(\"bi\",False)\n",
    "tri = selected_conf.get(\"tri\",False)\n",
    "\n",
    "# init preprocessing pipeline\n",
    "pipeline = PreprocessingPipeline(tokenization = tokenize, twitterPreprocessing = tw_prep, stemming = stemming)\n",
    "bowObj = selected_conf[\"model\"](pipeline, bigram = bi, trigram = tri)\n",
    "\n",
    "training_rep = bowObj.fit_transform(X_tp1)\n",
    "\n",
    "# fit the classifier\n",
    "classifier = LogisticRegression(n_jobs=-1)\n",
    "classifier.fit(training_rep, y_tp1)"
   ]
  },
  {
   "cell_type": "code",
   "execution_count": 23,
   "metadata": {},
   "outputs": [],
   "source": [
    "elections_rep = bowObj.transform(elections_day.text.values)"
   ]
  },
  {
   "cell_type": "code",
   "execution_count": 25,
   "metadata": {},
   "outputs": [
    {
     "data": {
      "text/html": [
       "<div>\n",
       "<style scoped>\n",
       "    .dataframe tbody tr th:only-of-type {\n",
       "        vertical-align: middle;\n",
       "    }\n",
       "\n",
       "    .dataframe tbody tr th {\n",
       "        vertical-align: top;\n",
       "    }\n",
       "\n",
       "    .dataframe thead th {\n",
       "        text-align: right;\n",
       "    }\n",
       "</style>\n",
       "<table border=\"1\" class=\"dataframe\">\n",
       "  <thead>\n",
       "    <tr style=\"text-align: right;\">\n",
       "      <th></th>\n",
       "      <th>text</th>\n",
       "      <th>id</th>\n",
       "      <th>user_location</th>\n",
       "      <th>user_screen_name</th>\n",
       "      <th>predict_party</th>\n",
       "    </tr>\n",
       "  </thead>\n",
       "  <tbody>\n",
       "    <tr>\n",
       "      <th>0</th>\n",
       "      <td>I'm with Purr! Vote Peppah!!! #americafirst #E...</td>\n",
       "      <td>7.959525e+17</td>\n",
       "      <td>Massachusetts, USA</td>\n",
       "      <td>timeisMEOW2016</td>\n",
       "      <td>1</td>\n",
       "    </tr>\n",
       "    <tr>\n",
       "      <th>1</th>\n",
       "      <td>RT @FNTSYRadio: It's #ElectionDay &amp;amp; no bet...</td>\n",
       "      <td>7.959525e+17</td>\n",
       "      <td>NaN</td>\n",
       "      <td>chachaozone</td>\n",
       "      <td>0</td>\n",
       "    </tr>\n",
       "    <tr>\n",
       "      <th>2</th>\n",
       "      <td>todays the day oh #ElectionDay</td>\n",
       "      <td>7.959525e+17</td>\n",
       "      <td>NaN</td>\n",
       "      <td>goodheartedjc</td>\n",
       "      <td>0</td>\n",
       "    </tr>\n",
       "    <tr>\n",
       "      <th>3</th>\n",
       "      <td>RT @MrScottEddy: All the Places You Can Get Fr...</td>\n",
       "      <td>7.959525e+17</td>\n",
       "      <td>Hunter Mill, VA</td>\n",
       "      <td>CharlesMcCool</td>\n",
       "      <td>1</td>\n",
       "    </tr>\n",
       "    <tr>\n",
       "      <th>4</th>\n",
       "      <td>RT @PerlinNikki: Go vote. Stay true to yoursel...</td>\n",
       "      <td>7.959525e+17</td>\n",
       "      <td>Florida, USA</td>\n",
       "      <td>Mama_Liberal</td>\n",
       "      <td>1</td>\n",
       "    </tr>\n",
       "  </tbody>\n",
       "</table>\n",
       "</div>"
      ],
      "text/plain": [
       "                                                text            id  \\\n",
       "0  I'm with Purr! Vote Peppah!!! #americafirst #E...  7.959525e+17   \n",
       "1  RT @FNTSYRadio: It's #ElectionDay &amp; no bet...  7.959525e+17   \n",
       "2                     todays the day oh #ElectionDay  7.959525e+17   \n",
       "3  RT @MrScottEddy: All the Places You Can Get Fr...  7.959525e+17   \n",
       "4  RT @PerlinNikki: Go vote. Stay true to yoursel...  7.959525e+17   \n",
       "\n",
       "        user_location user_screen_name  predict_party  \n",
       "0  Massachusetts, USA   timeisMEOW2016              1  \n",
       "1                 NaN      chachaozone              0  \n",
       "2                 NaN    goodheartedjc              0  \n",
       "3     Hunter Mill, VA    CharlesMcCool              1  \n",
       "4        Florida, USA     Mama_Liberal              1  "
      ]
     },
     "execution_count": 25,
     "metadata": {},
     "output_type": "execute_result"
    }
   ],
   "source": [
    "elections_day.head()"
   ]
  },
  {
   "cell_type": "code",
   "execution_count": 26,
   "metadata": {},
   "outputs": [],
   "source": [
    "elections_day[\"sentiment\"] = classifier.predict_proba(elections_rep)[:,1]"
   ]
  },
  {
   "cell_type": "code",
   "execution_count": 28,
   "metadata": {},
   "outputs": [],
   "source": [
    "#drop nan\n",
    "elections_day = elections_day.dropna()"
   ]
  },
  {
   "cell_type": "code",
   "execution_count": null,
   "metadata": {},
   "outputs": [],
   "source": [
    "from geotext import GeoText\n",
    "from uszipcode import SearchEngine\n",
    "search = SearchEngine(simple_zipcode=True)\n",
    "def get_state(x):\n",
    "    cities = GeoText(x).cities\n",
    "    if len(cities)==0:\n",
    "        return \"UNK\"\n",
    "    else:\n",
    "        results = search.by_city(cities[0])\n",
    "        state = results[0].state if len(results) else \"UNK\"\n",
    "        return state\n",
    "\n",
    "elections_day[\"normalized_loc\"] = elections_day.user_location.apply(get_state,1)"
   ]
  },
  {
   "cell_type": "code",
   "execution_count": 94,
   "metadata": {},
   "outputs": [
    {
     "data": {
      "text/plain": [
       "Index(['0', '1'], dtype='object')"
      ]
     },
     "execution_count": 94,
     "metadata": {},
     "output_type": "execute_result"
    }
   ],
   "source": [
    "dataframe.columns"
   ]
  },
  {
   "cell_type": "code",
   "execution_count": 119,
   "metadata": {},
   "outputs": [
    {
     "data": {
      "image/png": "[encoded data removed]",
      "text/plain": [
       "<Figure size 1440x432 with 1 Axes>"
      ]
     },
     "metadata": {
      "needs_background": "light"
     },
     "output_type": "display_data"
    }
   ],
   "source": [
    "dataframe = pd.DataFrame(pd.pivot_table(elections_day, values=\"sentiment\",columns=\"predict_party\", aggfunc=np.nanmean,index=\"normalized_loc\").to_records()).set_index(\"normalized_loc\")\n",
    "dataframe = dataframe.merge(elections_day.groupby(\"normalized_loc\")[\"predict_party\"].mean().to_frame(),right_index=True, left_index=True)\n",
    "dataframe.columns = [\"Sentiment for Republicans\", \"Sentiment for Democrats\", \"Portion of Democratic tweets\"]\n",
    "dataframe[\"Portion of Republican tweets\"] = 1 - dataframe[\"Portion of Democratic tweets\"]\n",
    "\n",
    "dataframe.iloc[:23].plot.bar(figsize=(20,6))\n",
    "plt.title(\"Statistics about Elections across US States\")\n",
    "plt.xlabel(\"States\");"
   ]
  },
  {
   "cell_type": "code",
   "execution_count": 118,
   "metadata": {},
   "outputs": [
    {
     "data": {
      "image/png": "[encoded data removed]",
      "text/plain": [
       "<Figure size 1440x432 with 1 Axes>"
      ]
     },
     "metadata": {
      "needs_background": "light"
     },
     "output_type": "display_data"
    }
   ],
   "source": [
    "dataframe.iloc[23:].plot.bar(figsize=(20,6))\n",
    "plt.title(\"Statistics about Elections across US States\")\n",
    "plt.xlabel(\"States\");"
   ]
  }
 ],
 "metadata": {
  "kernelspec": {
   "display_name": "Python 3",
   "language": "python",
   "name": "python3"
  },
  "language_info": {
   "codemirror_mode": {
    "name": "ipython",
    "version": 3
   },
   "file_extension": ".py",
   "mimetype": "text/x-python",
   "name": "python",
   "nbconvert_exporter": "python",
   "pygments_lexer": "ipython3",
   "version": "3.6.5"
  }
 },
 "nbformat": 4,
 "nbformat_minor": 4
}
